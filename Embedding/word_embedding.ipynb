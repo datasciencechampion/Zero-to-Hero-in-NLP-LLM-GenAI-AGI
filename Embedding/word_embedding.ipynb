{
  "nbformat": 4,
  "nbformat_minor": 0,
  "metadata": {
    "colab": {
      "provenance": [],
      "authorship_tag": "ABX9TyNJIQTLD3ZkEMFr4SpRRxrS",
      "include_colab_link": true
    },
    "kernelspec": {
      "name": "python3",
      "display_name": "Python 3"
    },
    "language_info": {
      "name": "python"
    }
  },
  "cells": [
    {
      "cell_type": "markdown",
      "metadata": {
        "id": "view-in-github",
        "colab_type": "text"
      },
      "source": [
        "<a href=\"https://colab.research.google.com/github/datasciencechampion/Zero-to-Hero-in-NLP-LLM-GenAI-AGI/blob/main/Embedding/word_embedding.ipynb\" target=\"_parent\"><img src=\"https://colab.research.google.com/assets/colab-badge.svg\" alt=\"Open In Colab\"/></a>"
      ]
    },
    {
      "cell_type": "markdown",
      "source": [
        "# **Word Embedding - Word2Vec**\n",
        "\n",
        "This module is part of [Zero-to-Hero in data Science](https://colab.research.google.com/drive/1EGLE0Lnst0CNmkw5BOFGSqIT5oxl5xYW?usp=sharing)\n",
        "\n",
        "Author : [Pramod Singh](https://www.linkedin.com/in/pramod-singh-4635962/)\n",
        "\n",
        "# Topic Covered\n",
        "- [What is Word Embedding](#1)\n",
        "  - [Skip-Gram](#1.1)\n",
        "  - [CBOW(Continuous Bag of Words)](#1.2)\n",
        "- [Hands-on - Training Word Embedding models](#2)\n",
        "  - [Skpi-Gram](#2.1)\n",
        "  - [CBOW(Continuous Bag of Words)](#2.1)\n"
      ],
      "metadata": {
        "id": "lRu3bngEPanJ"
      }
    },
    {
      "cell_type": "markdown",
      "source": [
        "<a name='1'></a>\n",
        "# **What is Embedding**\n",
        "\n",
        "Embedding is the backbone of almost all NLP task like Search, Clustering, Recommendations, Anomaly detection, Question Answering, Classification and many more….\n",
        "\n",
        "Embeddings play a pivotal role in NLP and LLM by converting words into numerical vectors to capture semantic relationships between words & sentences in the whole corpus, enabling machines to understand context and meaning of human language as close as possible like human.\n",
        "\n",
        "Their importance lies in providing a numerical foundation for language understanding, enabling machines to navigate the complexities of human communication effectively. In essence, embeddings are the linchpin for the success of various language-based applications in the realms of NLP and LLM."
      ],
      "metadata": {
        "id": "J_I_FjF3C_rH"
      }
    },
    {
      "cell_type": "markdown",
      "source": [
        "<a name='1.1'></a>\n",
        "## Embedding Types\n",
        "\n",
        "🎯 **Word embeddings**: Word embeddings represent individual words as vectors. These vectors are typically learned from a large corpus of text, and they can be used to capture the meaning of words and their relationships to other words. This notebook is all about word embedding.\n",
        "\n",
        "🎯 **Sentence embeddings**: Sentence embeddings represent entire sentences as vectors. These vectors are typically created by averaging the word embeddings of the words in the sentence, and they can be used to capture the meaning of sentences and their relationships to other sentences.\n",
        "\n",
        "Sentence embedding is explained in [here ▶](https://colab.research.google.com/drive/1-R7Spq5dtZG7VtZ7loM-o0BEI517w8Ks?usp=sharing)\n",
        "\n",
        "⛳ But it is recommended to read and understand word embedding concept first which is explained in this notebook.\n",
        "\n",
        "\n",
        "🎯 **Topic embeddings**: Topic embeddings represent topics as vectors. These vectors are typically created by clustering word embeddings, and they can be used to capture the meaning of topics and their relationships to other topics.\n",
        "\n",
        "🎯 **Document embeddings**: Document embeddings represent entire documents as vectors. These vectors are typically created by averaging the sentence embeddings of the sentences in the document, and they can be used to capture the meaning of documents and their relationships to other documents.\n"
      ],
      "metadata": {
        "id": "FD4Vvo4eF6a9"
      }
    },
    {
      "cell_type": "markdown",
      "source": [
        "<a name='1.1'></a>\n",
        "# Word Embedding - Skip-Gram"
      ],
      "metadata": {
        "id": "4LLFAurqDLYH"
      }
    },
    {
      "cell_type": "markdown",
      "source": [
        "<a name='1.2'></a>\n",
        "# Word Embedding - CBOW"
      ],
      "metadata": {
        "id": "zW6rSZlDDagc"
      }
    },
    {
      "cell_type": "markdown",
      "source": [
        "<a name='2'></a>\n",
        "## Hands-on - Training Word Embedding models"
      ],
      "metadata": {
        "id": "sIcjjgw6DtAc"
      }
    },
    {
      "cell_type": "markdown",
      "source": [
        "<a name='2.1'></a>\n",
        "## Hands-on - Training - Skip-Gram word embedding model"
      ],
      "metadata": {
        "id": "xla8W8mKD5LA"
      }
    },
    {
      "cell_type": "code",
      "source": [
        "import tensorflow as tf\n",
        "import numpy as np\n",
        "import matplotlib.pyplot as plt\n",
        "from sklearn.decomposition import PCA\n",
        "from sklearn.metrics.pairwise import cosine_similarity\n",
        "from matplotlib.colors import Normalize\n",
        "from matplotlib import cm"
      ],
      "metadata": {
        "id": "JLvwDRu_q8NW"
      },
      "execution_count": null,
      "outputs": []
    },
    {
      "cell_type": "markdown",
      "source": [],
      "metadata": {
        "id": "_3tD5ZlZ-ijc"
      }
    },
    {
      "cell_type": "code",
      "source": [
        "# Text sample\n",
        "text = \"cat is a pet animal. cat has two eyes. cat has four legs. dog is a pet animal. dog has two eyes. dog has four legs. in my home i have a dog.\""
      ],
      "metadata": {
        "id": "VGJLbArb-iq-"
      },
      "execution_count": null,
      "outputs": []
    },
    {
      "cell_type": "code",
      "source": [
        "import nltk\n",
        "from nltk.corpus import stopwords\n",
        "from nltk.tokenize import word_tokenize\n",
        "\n",
        "# Download the stopwords dataset\n",
        "nltk.download('stopwords')\n",
        "nltk.download('punkt')"
      ],
      "metadata": {
        "colab": {
          "base_uri": "https://localhost:8080/"
        },
        "id": "bvGqYX3sOcku",
        "outputId": "0f13d767-6add-49b5-aa03-53eeefc01257"
      },
      "execution_count": null,
      "outputs": [
        {
          "output_type": "stream",
          "name": "stderr",
          "text": [
            "[nltk_data] Downloading package stopwords to /root/nltk_data...\n",
            "[nltk_data]   Unzipping corpora/stopwords.zip.\n",
            "[nltk_data] Downloading package punkt to /root/nltk_data...\n",
            "[nltk_data]   Unzipping tokenizers/punkt.zip.\n"
          ]
        },
        {
          "output_type": "execute_result",
          "data": {
            "text/plain": [
              "True"
            ]
          },
          "metadata": {},
          "execution_count": 4
        }
      ]
    },
    {
      "cell_type": "code",
      "source": [
        "def remove_stop_words(text):\n",
        "    # Tokenize the input text\n",
        "    words = word_tokenize(text)\n",
        "\n",
        "    # Remove stop words\n",
        "    stop_words = set(stopwords.words('english'))\n",
        "    filtered_words = [word for word in words if word.lower() not in stop_words]\n",
        "\n",
        "    # Join the filtered words back into a sentence\n",
        "    filtered_text = ' '.join(filtered_words)\n",
        "\n",
        "    return filtered_text"
      ],
      "metadata": {
        "id": "gVvWpoXCOodJ"
      },
      "execution_count": null,
      "outputs": []
    },
    {
      "cell_type": "code",
      "source": [
        "text_after_stop_words = remove_stop_words(text)\n",
        "print(\"Original Text:\", text)\n",
        "print(\"Text after removing stop words:\", text_after_stop_words)"
      ],
      "metadata": {
        "colab": {
          "base_uri": "https://localhost:8080/"
        },
        "id": "8V-vEoVIOqho",
        "outputId": "54561af4-ab5b-44c6-d0c9-5748baded45b"
      },
      "execution_count": null,
      "outputs": [
        {
          "output_type": "stream",
          "name": "stdout",
          "text": [
            "Original Text: cat is a pet animal. cat has two eyes. cat has four legs. dog is a pet animal. dog has two eyes. dog has four legs. in my home i have a dog.\n",
            "Text after removing stop words: cat pet animal . cat two eyes . cat four legs . dog pet animal . dog two eyes . dog four legs . home dog .\n"
          ]
        }
      ]
    },
    {
      "cell_type": "code",
      "source": [],
      "metadata": {
        "id": "FMzqVUDOOqkI"
      },
      "execution_count": null,
      "outputs": []
    },
    {
      "cell_type": "code",
      "source": [],
      "metadata": {
        "id": "WMRdLIXxOqmN"
      },
      "execution_count": null,
      "outputs": []
    },
    {
      "cell_type": "markdown",
      "source": [
        "# Tokenization"
      ],
      "metadata": {
        "id": "Br1Y8g-EGWN6"
      }
    },
    {
      "cell_type": "code",
      "source": [
        "# Tokenize the text using the Tokenizer from TensorFlow and Keras\n",
        "tokenizer = tf.keras.preprocessing.text.Tokenizer(filters='!\"#$%&()*+,-./:;<=>?@[\\\\]^_`{|}~\\t\\n')\n",
        "tokenizer.fit_on_texts([text_after_stop_words])\n",
        "words = list(tokenizer.word_index.keys())  # Convert dict_keys to a list"
      ],
      "metadata": {
        "id": "y9Mbg6qa-d6k"
      },
      "execution_count": null,
      "outputs": []
    },
    {
      "cell_type": "code",
      "source": [
        "# See the word index or token number\n",
        "tokenizer.word_index"
      ],
      "metadata": {
        "colab": {
          "base_uri": "https://localhost:8080/"
        },
        "id": "Rae7W2FOr5WZ",
        "outputId": "123f6a84-9e57-4aee-ac5c-28b04123f7b4"
      },
      "execution_count": null,
      "outputs": [
        {
          "output_type": "execute_result",
          "data": {
            "text/plain": [
              "{'dog': 1,\n",
              " 'cat': 2,\n",
              " 'pet': 3,\n",
              " 'animal': 4,\n",
              " 'two': 5,\n",
              " 'eyes': 6,\n",
              " 'four': 7,\n",
              " 'legs': 8,\n",
              " 'home': 9}"
            ]
          },
          "metadata": {},
          "execution_count": 10
        }
      ]
    },
    {
      "cell_type": "markdown",
      "source": [],
      "metadata": {
        "id": "2ETyRypIrer3"
      }
    },
    {
      "cell_type": "markdown",
      "source": [
        "# Generate Training Data for Skip-Gram\n",
        "\n",
        "A skip-gram is a pair of words (the target word and the context word) and a label indicating whether the context word appears within a fixed window size of the target word in the input text. Skip grams are used as training data for the word embedding model.\n",
        "\n",
        "Eg:  [(target, context), relevancy]"
      ],
      "metadata": {
        "id": "CrZtzMNXDWN_"
      }
    },
    {
      "cell_type": "code",
      "source": [
        "# Generate training data for Skip-gram model\n",
        "window_size = 5\n",
        "training_data = []\n",
        "\n",
        "for i in range(len(words)):\n",
        "    target_word = words[i]\n",
        "    context_words = [words[j] for j in range(max(0, i - window_size), min(len(words), i + window_size + 1)) if j != i]\n",
        "\n",
        "    for context_word in context_words:\n",
        "        training_data.append((tokenizer.word_index[target_word], tokenizer.word_index[context_word]))\n",
        "\n",
        "# Convert training data to NumPy arrays\n",
        "training_data = np.array(training_data)"
      ],
      "metadata": {
        "id": "P7af85amro3K"
      },
      "execution_count": null,
      "outputs": []
    },
    {
      "cell_type": "code",
      "source": [
        "training_data"
      ],
      "metadata": {
        "colab": {
          "base_uri": "https://localhost:8080/"
        },
        "id": "reOsnXsPrezC",
        "outputId": "cad96abf-8aaf-45b5-b010-fdc9d9c19e38"
      },
      "execution_count": null,
      "outputs": [
        {
          "output_type": "execute_result",
          "data": {
            "text/plain": [
              "array([[1, 2],\n",
              "       [1, 3],\n",
              "       [1, 4],\n",
              "       [1, 5],\n",
              "       [1, 6],\n",
              "       [2, 1],\n",
              "       [2, 3],\n",
              "       [2, 4],\n",
              "       [2, 5],\n",
              "       [2, 6],\n",
              "       [2, 7],\n",
              "       [3, 1],\n",
              "       [3, 2],\n",
              "       [3, 4],\n",
              "       [3, 5],\n",
              "       [3, 6],\n",
              "       [3, 7],\n",
              "       [3, 8],\n",
              "       [4, 1],\n",
              "       [4, 2],\n",
              "       [4, 3],\n",
              "       [4, 5],\n",
              "       [4, 6],\n",
              "       [4, 7],\n",
              "       [4, 8],\n",
              "       [4, 9],\n",
              "       [5, 1],\n",
              "       [5, 2],\n",
              "       [5, 3],\n",
              "       [5, 4],\n",
              "       [5, 6],\n",
              "       [5, 7],\n",
              "       [5, 8],\n",
              "       [5, 9],\n",
              "       [6, 1],\n",
              "       [6, 2],\n",
              "       [6, 3],\n",
              "       [6, 4],\n",
              "       [6, 5],\n",
              "       [6, 7],\n",
              "       [6, 8],\n",
              "       [6, 9],\n",
              "       [7, 2],\n",
              "       [7, 3],\n",
              "       [7, 4],\n",
              "       [7, 5],\n",
              "       [7, 6],\n",
              "       [7, 8],\n",
              "       [7, 9],\n",
              "       [8, 3],\n",
              "       [8, 4],\n",
              "       [8, 5],\n",
              "       [8, 6],\n",
              "       [8, 7],\n",
              "       [8, 9],\n",
              "       [9, 4],\n",
              "       [9, 5],\n",
              "       [9, 6],\n",
              "       [9, 7],\n",
              "       [9, 8]])"
            ]
          },
          "metadata": {},
          "execution_count": 65
        }
      ]
    },
    {
      "cell_type": "markdown",
      "source": [
        "# Building the Skip-Gram Model Architecture\n",
        "\n",
        "Let's define the word embedding model's architecture using Keras's functional API.\n",
        "\n",
        "The model has two embedding layers for the target and context words, which are concatenated and passed through a dense layer with a sigmoid activation function to predict the probability of the context word appearing within a fixed window of the target word."
      ],
      "metadata": {
        "id": "ar-CHsMLMZyW"
      }
    },
    {
      "cell_type": "code",
      "source": [
        "# Define Skip-gram model\n",
        "embedding_dim = 3\n",
        "vocab_size = len(tokenizer.word_index) + 1  # Add 1 for the padding token\n",
        "\n",
        "model = tf.keras.Sequential([\n",
        "    tf.keras.layers.Embedding(input_dim=vocab_size, output_dim=embedding_dim, input_length=1),\n",
        "    tf.keras.layers.Reshape((embedding_dim,)),\n",
        "    tf.keras.layers.Dense(vocab_size, activation='softmax')\n",
        "])"
      ],
      "metadata": {
        "id": "FXS0sTErq8Sa"
      },
      "execution_count": null,
      "outputs": []
    },
    {
      "cell_type": "markdown",
      "source": [
        "# Train the Model\n",
        "In order to train the word embedding model on the skip grams we'll use the fit method. The model is trained for a specified number of epochs(the number of times the model sees the entire dataset during training.)"
      ],
      "metadata": {
        "id": "ILPePPPmncE9"
      }
    },
    {
      "cell_type": "code",
      "source": [
        "model.compile(optimizer='adam', loss='sparse_categorical_crossentropy')\n",
        "\n",
        "# Train the model\n",
        "model.fit(x=training_data[:, 0], y=training_data[:, 1], epochs=200, verbose=2)"
      ],
      "metadata": {
        "colab": {
          "base_uri": "https://localhost:8080/"
        },
        "id": "38MNCc9cq8VN",
        "outputId": "287ac78a-1dd3-4645-cc82-cf8f6826c5e1"
      },
      "execution_count": null,
      "outputs": [
        {
          "output_type": "stream",
          "name": "stdout",
          "text": [
            "Epoch 1/200\n",
            "2/2 - 2s - loss: 2.2511 - 2s/epoch - 771ms/step\n",
            "Epoch 2/200\n",
            "2/2 - 0s - loss: 2.2501 - 26ms/epoch - 13ms/step\n",
            "Epoch 3/200\n",
            "2/2 - 0s - loss: 2.2495 - 24ms/epoch - 12ms/step\n",
            "Epoch 4/200\n",
            "2/2 - 0s - loss: 2.2490 - 13ms/epoch - 7ms/step\n",
            "Epoch 5/200\n",
            "2/2 - 0s - loss: 2.2485 - 25ms/epoch - 13ms/step\n",
            "Epoch 6/200\n",
            "2/2 - 0s - loss: 2.2480 - 16ms/epoch - 8ms/step\n",
            "Epoch 7/200\n",
            "2/2 - 0s - loss: 2.2475 - 18ms/epoch - 9ms/step\n",
            "Epoch 8/200\n",
            "2/2 - 0s - loss: 2.2470 - 18ms/epoch - 9ms/step\n",
            "Epoch 9/200\n",
            "2/2 - 0s - loss: 2.2466 - 17ms/epoch - 9ms/step\n",
            "Epoch 10/200\n",
            "2/2 - 0s - loss: 2.2460 - 17ms/epoch - 8ms/step\n",
            "Epoch 11/200\n",
            "2/2 - 0s - loss: 2.2455 - 16ms/epoch - 8ms/step\n",
            "Epoch 12/200\n",
            "2/2 - 0s - loss: 2.2450 - 13ms/epoch - 6ms/step\n",
            "Epoch 13/200\n",
            "2/2 - 0s - loss: 2.2445 - 18ms/epoch - 9ms/step\n",
            "Epoch 14/200\n",
            "2/2 - 0s - loss: 2.2439 - 17ms/epoch - 9ms/step\n",
            "Epoch 15/200\n",
            "2/2 - 0s - loss: 2.2435 - 20ms/epoch - 10ms/step\n",
            "Epoch 16/200\n",
            "2/2 - 0s - loss: 2.2430 - 14ms/epoch - 7ms/step\n",
            "Epoch 17/200\n",
            "2/2 - 0s - loss: 2.2425 - 22ms/epoch - 11ms/step\n",
            "Epoch 18/200\n",
            "2/2 - 0s - loss: 2.2419 - 17ms/epoch - 8ms/step\n",
            "Epoch 19/200\n",
            "2/2 - 0s - loss: 2.2415 - 17ms/epoch - 8ms/step\n",
            "Epoch 20/200\n",
            "2/2 - 0s - loss: 2.2409 - 20ms/epoch - 10ms/step\n",
            "Epoch 21/200\n",
            "2/2 - 0s - loss: 2.2404 - 19ms/epoch - 9ms/step\n",
            "Epoch 22/200\n",
            "2/2 - 0s - loss: 2.2399 - 18ms/epoch - 9ms/step\n",
            "Epoch 23/200\n",
            "2/2 - 0s - loss: 2.2395 - 15ms/epoch - 8ms/step\n",
            "Epoch 24/200\n",
            "2/2 - 0s - loss: 2.2389 - 19ms/epoch - 10ms/step\n",
            "Epoch 25/200\n",
            "2/2 - 0s - loss: 2.2384 - 19ms/epoch - 9ms/step\n",
            "Epoch 26/200\n",
            "2/2 - 0s - loss: 2.2379 - 24ms/epoch - 12ms/step\n",
            "Epoch 27/200\n",
            "2/2 - 0s - loss: 2.2375 - 19ms/epoch - 10ms/step\n",
            "Epoch 28/200\n",
            "2/2 - 0s - loss: 2.2370 - 23ms/epoch - 11ms/step\n",
            "Epoch 29/200\n",
            "2/2 - 0s - loss: 2.2365 - 18ms/epoch - 9ms/step\n",
            "Epoch 30/200\n",
            "2/2 - 0s - loss: 2.2360 - 17ms/epoch - 8ms/step\n",
            "Epoch 31/200\n",
            "2/2 - 0s - loss: 2.2354 - 17ms/epoch - 8ms/step\n",
            "Epoch 32/200\n",
            "2/2 - 0s - loss: 2.2350 - 16ms/epoch - 8ms/step\n",
            "Epoch 33/200\n",
            "2/2 - 0s - loss: 2.2345 - 16ms/epoch - 8ms/step\n",
            "Epoch 34/200\n",
            "2/2 - 0s - loss: 2.2340 - 17ms/epoch - 9ms/step\n",
            "Epoch 35/200\n",
            "2/2 - 0s - loss: 2.2335 - 23ms/epoch - 12ms/step\n",
            "Epoch 36/200\n",
            "2/2 - 0s - loss: 2.2330 - 27ms/epoch - 13ms/step\n",
            "Epoch 37/200\n",
            "2/2 - 0s - loss: 2.2325 - 18ms/epoch - 9ms/step\n",
            "Epoch 38/200\n",
            "2/2 - 0s - loss: 2.2320 - 19ms/epoch - 9ms/step\n",
            "Epoch 39/200\n",
            "2/2 - 0s - loss: 2.2315 - 22ms/epoch - 11ms/step\n",
            "Epoch 40/200\n",
            "2/2 - 0s - loss: 2.2311 - 24ms/epoch - 12ms/step\n",
            "Epoch 41/200\n",
            "2/2 - 0s - loss: 2.2306 - 18ms/epoch - 9ms/step\n",
            "Epoch 42/200\n",
            "2/2 - 0s - loss: 2.2301 - 15ms/epoch - 8ms/step\n",
            "Epoch 43/200\n",
            "2/2 - 0s - loss: 2.2297 - 16ms/epoch - 8ms/step\n",
            "Epoch 44/200\n",
            "2/2 - 0s - loss: 2.2291 - 19ms/epoch - 9ms/step\n",
            "Epoch 45/200\n",
            "2/2 - 0s - loss: 2.2287 - 16ms/epoch - 8ms/step\n",
            "Epoch 46/200\n",
            "2/2 - 0s - loss: 2.2282 - 20ms/epoch - 10ms/step\n",
            "Epoch 47/200\n",
            "2/2 - 0s - loss: 2.2278 - 19ms/epoch - 9ms/step\n",
            "Epoch 48/200\n",
            "2/2 - 0s - loss: 2.2272 - 18ms/epoch - 9ms/step\n",
            "Epoch 49/200\n",
            "2/2 - 0s - loss: 2.2268 - 28ms/epoch - 14ms/step\n",
            "Epoch 50/200\n",
            "2/2 - 0s - loss: 2.2263 - 20ms/epoch - 10ms/step\n",
            "Epoch 51/200\n",
            "2/2 - 0s - loss: 2.2258 - 21ms/epoch - 10ms/step\n",
            "Epoch 52/200\n",
            "2/2 - 0s - loss: 2.2253 - 19ms/epoch - 9ms/step\n",
            "Epoch 53/200\n",
            "2/2 - 0s - loss: 2.2248 - 17ms/epoch - 8ms/step\n",
            "Epoch 54/200\n",
            "2/2 - 0s - loss: 2.2244 - 19ms/epoch - 9ms/step\n",
            "Epoch 55/200\n",
            "2/2 - 0s - loss: 2.2239 - 17ms/epoch - 9ms/step\n",
            "Epoch 56/200\n",
            "2/2 - 0s - loss: 2.2234 - 24ms/epoch - 12ms/step\n",
            "Epoch 57/200\n",
            "2/2 - 0s - loss: 2.2230 - 13ms/epoch - 7ms/step\n",
            "Epoch 58/200\n",
            "2/2 - 0s - loss: 2.2225 - 19ms/epoch - 9ms/step\n",
            "Epoch 59/200\n",
            "2/2 - 0s - loss: 2.2220 - 12ms/epoch - 6ms/step\n",
            "Epoch 60/200\n",
            "2/2 - 0s - loss: 2.2215 - 14ms/epoch - 7ms/step\n",
            "Epoch 61/200\n",
            "2/2 - 0s - loss: 2.2211 - 15ms/epoch - 8ms/step\n",
            "Epoch 62/200\n",
            "2/2 - 0s - loss: 2.2206 - 16ms/epoch - 8ms/step\n",
            "Epoch 63/200\n",
            "2/2 - 0s - loss: 2.2202 - 16ms/epoch - 8ms/step\n",
            "Epoch 64/200\n",
            "2/2 - 0s - loss: 2.2197 - 15ms/epoch - 8ms/step\n",
            "Epoch 65/200\n",
            "2/2 - 0s - loss: 2.2192 - 16ms/epoch - 8ms/step\n",
            "Epoch 66/200\n",
            "2/2 - 0s - loss: 2.2188 - 19ms/epoch - 10ms/step\n",
            "Epoch 67/200\n",
            "2/2 - 0s - loss: 2.2182 - 17ms/epoch - 9ms/step\n",
            "Epoch 68/200\n",
            "2/2 - 0s - loss: 2.2178 - 14ms/epoch - 7ms/step\n",
            "Epoch 69/200\n",
            "2/2 - 0s - loss: 2.2173 - 14ms/epoch - 7ms/step\n",
            "Epoch 70/200\n",
            "2/2 - 0s - loss: 2.2169 - 15ms/epoch - 7ms/step\n",
            "Epoch 71/200\n",
            "2/2 - 0s - loss: 2.2164 - 12ms/epoch - 6ms/step\n",
            "Epoch 72/200\n",
            "2/2 - 0s - loss: 2.2159 - 12ms/epoch - 6ms/step\n",
            "Epoch 73/200\n",
            "2/2 - 0s - loss: 2.2155 - 12ms/epoch - 6ms/step\n",
            "Epoch 74/200\n",
            "2/2 - 0s - loss: 2.2150 - 20ms/epoch - 10ms/step\n",
            "Epoch 75/200\n",
            "2/2 - 0s - loss: 2.2146 - 11ms/epoch - 6ms/step\n",
            "Epoch 76/200\n",
            "2/2 - 0s - loss: 2.2141 - 9ms/epoch - 5ms/step\n",
            "Epoch 77/200\n",
            "2/2 - 0s - loss: 2.2137 - 10ms/epoch - 5ms/step\n",
            "Epoch 78/200\n",
            "2/2 - 0s - loss: 2.2132 - 9ms/epoch - 5ms/step\n",
            "Epoch 79/200\n",
            "2/2 - 0s - loss: 2.2128 - 9ms/epoch - 5ms/step\n",
            "Epoch 80/200\n",
            "2/2 - 0s - loss: 2.2123 - 10ms/epoch - 5ms/step\n",
            "Epoch 81/200\n",
            "2/2 - 0s - loss: 2.2118 - 9ms/epoch - 5ms/step\n",
            "Epoch 82/200\n",
            "2/2 - 0s - loss: 2.2113 - 9ms/epoch - 4ms/step\n",
            "Epoch 83/200\n",
            "2/2 - 0s - loss: 2.2109 - 15ms/epoch - 7ms/step\n",
            "Epoch 84/200\n",
            "2/2 - 0s - loss: 2.2104 - 13ms/epoch - 7ms/step\n",
            "Epoch 85/200\n",
            "2/2 - 0s - loss: 2.2100 - 15ms/epoch - 8ms/step\n",
            "Epoch 86/200\n",
            "2/2 - 0s - loss: 2.2096 - 11ms/epoch - 6ms/step\n",
            "Epoch 87/200\n",
            "2/2 - 0s - loss: 2.2091 - 14ms/epoch - 7ms/step\n",
            "Epoch 88/200\n",
            "2/2 - 0s - loss: 2.2087 - 13ms/epoch - 7ms/step\n",
            "Epoch 89/200\n",
            "2/2 - 0s - loss: 2.2082 - 12ms/epoch - 6ms/step\n",
            "Epoch 90/200\n",
            "2/2 - 0s - loss: 2.2078 - 11ms/epoch - 6ms/step\n",
            "Epoch 91/200\n",
            "2/2 - 0s - loss: 2.2072 - 10ms/epoch - 5ms/step\n",
            "Epoch 92/200\n",
            "2/2 - 0s - loss: 2.2068 - 10ms/epoch - 5ms/step\n",
            "Epoch 93/200\n",
            "2/2 - 0s - loss: 2.2064 - 10ms/epoch - 5ms/step\n",
            "Epoch 94/200\n",
            "2/2 - 0s - loss: 2.2059 - 10ms/epoch - 5ms/step\n",
            "Epoch 95/200\n",
            "2/2 - 0s - loss: 2.2055 - 11ms/epoch - 6ms/step\n",
            "Epoch 96/200\n",
            "2/2 - 0s - loss: 2.2050 - 11ms/epoch - 5ms/step\n",
            "Epoch 97/200\n",
            "2/2 - 0s - loss: 2.2046 - 13ms/epoch - 6ms/step\n",
            "Epoch 98/200\n",
            "2/2 - 0s - loss: 2.2042 - 9ms/epoch - 4ms/step\n",
            "Epoch 99/200\n",
            "2/2 - 0s - loss: 2.2038 - 9ms/epoch - 4ms/step\n",
            "Epoch 100/200\n",
            "2/2 - 0s - loss: 2.2033 - 9ms/epoch - 5ms/step\n",
            "Epoch 101/200\n",
            "2/2 - 0s - loss: 2.2028 - 10ms/epoch - 5ms/step\n",
            "Epoch 102/200\n",
            "2/2 - 0s - loss: 2.2024 - 9ms/epoch - 5ms/step\n",
            "Epoch 103/200\n",
            "2/2 - 0s - loss: 2.2020 - 9ms/epoch - 5ms/step\n",
            "Epoch 104/200\n",
            "2/2 - 0s - loss: 2.2015 - 11ms/epoch - 5ms/step\n",
            "Epoch 105/200\n",
            "2/2 - 0s - loss: 2.2011 - 9ms/epoch - 5ms/step\n",
            "Epoch 106/200\n",
            "2/2 - 0s - loss: 2.2006 - 8ms/epoch - 4ms/step\n",
            "Epoch 107/200\n",
            "2/2 - 0s - loss: 2.2002 - 8ms/epoch - 4ms/step\n",
            "Epoch 108/200\n",
            "2/2 - 0s - loss: 2.1998 - 9ms/epoch - 5ms/step\n",
            "Epoch 109/200\n",
            "2/2 - 0s - loss: 2.1993 - 9ms/epoch - 4ms/step\n",
            "Epoch 110/200\n",
            "2/2 - 0s - loss: 2.1990 - 9ms/epoch - 4ms/step\n",
            "Epoch 111/200\n",
            "2/2 - 0s - loss: 2.1985 - 9ms/epoch - 4ms/step\n",
            "Epoch 112/200\n",
            "2/2 - 0s - loss: 2.1981 - 8ms/epoch - 4ms/step\n",
            "Epoch 113/200\n",
            "2/2 - 0s - loss: 2.1976 - 8ms/epoch - 4ms/step\n",
            "Epoch 114/200\n",
            "2/2 - 0s - loss: 2.1972 - 9ms/epoch - 4ms/step\n",
            "Epoch 115/200\n",
            "2/2 - 0s - loss: 2.1968 - 8ms/epoch - 4ms/step\n",
            "Epoch 116/200\n",
            "2/2 - 0s - loss: 2.1963 - 8ms/epoch - 4ms/step\n",
            "Epoch 117/200\n",
            "2/2 - 0s - loss: 2.1959 - 8ms/epoch - 4ms/step\n",
            "Epoch 118/200\n",
            "2/2 - 0s - loss: 2.1955 - 9ms/epoch - 4ms/step\n",
            "Epoch 119/200\n",
            "2/2 - 0s - loss: 2.1951 - 11ms/epoch - 5ms/step\n",
            "Epoch 120/200\n",
            "2/2 - 0s - loss: 2.1946 - 9ms/epoch - 5ms/step\n",
            "Epoch 121/200\n",
            "2/2 - 0s - loss: 2.1943 - 9ms/epoch - 4ms/step\n",
            "Epoch 122/200\n",
            "2/2 - 0s - loss: 2.1938 - 12ms/epoch - 6ms/step\n",
            "Epoch 123/200\n",
            "2/2 - 0s - loss: 2.1933 - 9ms/epoch - 4ms/step\n",
            "Epoch 124/200\n",
            "2/2 - 0s - loss: 2.1930 - 11ms/epoch - 5ms/step\n",
            "Epoch 125/200\n",
            "2/2 - 0s - loss: 2.1925 - 13ms/epoch - 7ms/step\n",
            "Epoch 126/200\n",
            "2/2 - 0s - loss: 2.1922 - 12ms/epoch - 6ms/step\n",
            "Epoch 127/200\n",
            "2/2 - 0s - loss: 2.1917 - 10ms/epoch - 5ms/step\n",
            "Epoch 128/200\n",
            "2/2 - 0s - loss: 2.1913 - 11ms/epoch - 5ms/step\n",
            "Epoch 129/200\n",
            "2/2 - 0s - loss: 2.1909 - 9ms/epoch - 4ms/step\n",
            "Epoch 130/200\n",
            "2/2 - 0s - loss: 2.1904 - 7ms/epoch - 4ms/step\n",
            "Epoch 131/200\n",
            "2/2 - 0s - loss: 2.1900 - 9ms/epoch - 5ms/step\n",
            "Epoch 132/200\n",
            "2/2 - 0s - loss: 2.1896 - 10ms/epoch - 5ms/step\n",
            "Epoch 133/200\n",
            "2/2 - 0s - loss: 2.1892 - 10ms/epoch - 5ms/step\n",
            "Epoch 134/200\n",
            "2/2 - 0s - loss: 2.1888 - 10ms/epoch - 5ms/step\n",
            "Epoch 135/200\n",
            "2/2 - 0s - loss: 2.1884 - 9ms/epoch - 4ms/step\n",
            "Epoch 136/200\n",
            "2/2 - 0s - loss: 2.1880 - 8ms/epoch - 4ms/step\n",
            "Epoch 137/200\n",
            "2/2 - 0s - loss: 2.1875 - 9ms/epoch - 5ms/step\n",
            "Epoch 138/200\n",
            "2/2 - 0s - loss: 2.1872 - 10ms/epoch - 5ms/step\n",
            "Epoch 139/200\n",
            "2/2 - 0s - loss: 2.1867 - 9ms/epoch - 4ms/step\n",
            "Epoch 140/200\n",
            "2/2 - 0s - loss: 2.1863 - 9ms/epoch - 4ms/step\n",
            "Epoch 141/200\n",
            "2/2 - 0s - loss: 2.1859 - 10ms/epoch - 5ms/step\n",
            "Epoch 142/200\n",
            "2/2 - 0s - loss: 2.1855 - 9ms/epoch - 5ms/step\n",
            "Epoch 143/200\n",
            "2/2 - 0s - loss: 2.1851 - 9ms/epoch - 5ms/step\n",
            "Epoch 144/200\n",
            "2/2 - 0s - loss: 2.1847 - 9ms/epoch - 5ms/step\n",
            "Epoch 145/200\n",
            "2/2 - 0s - loss: 2.1843 - 11ms/epoch - 6ms/step\n",
            "Epoch 146/200\n",
            "2/2 - 0s - loss: 2.1839 - 9ms/epoch - 5ms/step\n",
            "Epoch 147/200\n",
            "2/2 - 0s - loss: 2.1835 - 11ms/epoch - 5ms/step\n",
            "Epoch 148/200\n",
            "2/2 - 0s - loss: 2.1831 - 12ms/epoch - 6ms/step\n",
            "Epoch 149/200\n",
            "2/2 - 0s - loss: 2.1827 - 11ms/epoch - 6ms/step\n",
            "Epoch 150/200\n",
            "2/2 - 0s - loss: 2.1823 - 9ms/epoch - 5ms/step\n",
            "Epoch 151/200\n",
            "2/2 - 0s - loss: 2.1818 - 8ms/epoch - 4ms/step\n",
            "Epoch 152/200\n",
            "2/2 - 0s - loss: 2.1815 - 9ms/epoch - 4ms/step\n",
            "Epoch 153/200\n",
            "2/2 - 0s - loss: 2.1811 - 9ms/epoch - 5ms/step\n",
            "Epoch 154/200\n",
            "2/2 - 0s - loss: 2.1807 - 9ms/epoch - 5ms/step\n",
            "Epoch 155/200\n",
            "2/2 - 0s - loss: 2.1803 - 12ms/epoch - 6ms/step\n",
            "Epoch 156/200\n",
            "2/2 - 0s - loss: 2.1799 - 10ms/epoch - 5ms/step\n",
            "Epoch 157/200\n",
            "2/2 - 0s - loss: 2.1795 - 10ms/epoch - 5ms/step\n",
            "Epoch 158/200\n",
            "2/2 - 0s - loss: 2.1791 - 10ms/epoch - 5ms/step\n",
            "Epoch 159/200\n",
            "2/2 - 0s - loss: 2.1788 - 10ms/epoch - 5ms/step\n",
            "Epoch 160/200\n",
            "2/2 - 0s - loss: 2.1783 - 13ms/epoch - 6ms/step\n",
            "Epoch 161/200\n",
            "2/2 - 0s - loss: 2.1780 - 16ms/epoch - 8ms/step\n",
            "Epoch 162/200\n",
            "2/2 - 0s - loss: 2.1776 - 12ms/epoch - 6ms/step\n",
            "Epoch 163/200\n",
            "2/2 - 0s - loss: 2.1772 - 10ms/epoch - 5ms/step\n",
            "Epoch 164/200\n",
            "2/2 - 0s - loss: 2.1768 - 9ms/epoch - 4ms/step\n",
            "Epoch 165/200\n",
            "2/2 - 0s - loss: 2.1764 - 9ms/epoch - 4ms/step\n",
            "Epoch 166/200\n",
            "2/2 - 0s - loss: 2.1760 - 9ms/epoch - 5ms/step\n",
            "Epoch 167/200\n",
            "2/2 - 0s - loss: 2.1756 - 10ms/epoch - 5ms/step\n",
            "Epoch 168/200\n",
            "2/2 - 0s - loss: 2.1753 - 10ms/epoch - 5ms/step\n",
            "Epoch 169/200\n",
            "2/2 - 0s - loss: 2.1748 - 10ms/epoch - 5ms/step\n",
            "Epoch 170/200\n",
            "2/2 - 0s - loss: 2.1745 - 8ms/epoch - 4ms/step\n",
            "Epoch 171/200\n",
            "2/2 - 0s - loss: 2.1741 - 9ms/epoch - 5ms/step\n",
            "Epoch 172/200\n",
            "2/2 - 0s - loss: 2.1737 - 9ms/epoch - 5ms/step\n",
            "Epoch 173/200\n",
            "2/2 - 0s - loss: 2.1733 - 11ms/epoch - 5ms/step\n",
            "Epoch 174/200\n",
            "2/2 - 0s - loss: 2.1729 - 11ms/epoch - 5ms/step\n",
            "Epoch 175/200\n",
            "2/2 - 0s - loss: 2.1726 - 9ms/epoch - 5ms/step\n",
            "Epoch 176/200\n",
            "2/2 - 0s - loss: 2.1722 - 9ms/epoch - 4ms/step\n",
            "Epoch 177/200\n",
            "2/2 - 0s - loss: 2.1718 - 9ms/epoch - 4ms/step\n",
            "Epoch 178/200\n",
            "2/2 - 0s - loss: 2.1714 - 8ms/epoch - 4ms/step\n",
            "Epoch 179/200\n",
            "2/2 - 0s - loss: 2.1711 - 9ms/epoch - 4ms/step\n",
            "Epoch 180/200\n",
            "2/2 - 0s - loss: 2.1707 - 9ms/epoch - 4ms/step\n",
            "Epoch 181/200\n",
            "2/2 - 0s - loss: 2.1703 - 10ms/epoch - 5ms/step\n",
            "Epoch 182/200\n",
            "2/2 - 0s - loss: 2.1699 - 14ms/epoch - 7ms/step\n",
            "Epoch 183/200\n",
            "2/2 - 0s - loss: 2.1696 - 9ms/epoch - 5ms/step\n",
            "Epoch 184/200\n",
            "2/2 - 0s - loss: 2.1692 - 9ms/epoch - 4ms/step\n",
            "Epoch 185/200\n",
            "2/2 - 0s - loss: 2.1688 - 8ms/epoch - 4ms/step\n",
            "Epoch 186/200\n",
            "2/2 - 0s - loss: 2.1685 - 9ms/epoch - 4ms/step\n",
            "Epoch 187/200\n",
            "2/2 - 0s - loss: 2.1681 - 9ms/epoch - 5ms/step\n",
            "Epoch 188/200\n",
            "2/2 - 0s - loss: 2.1677 - 9ms/epoch - 4ms/step\n",
            "Epoch 189/200\n",
            "2/2 - 0s - loss: 2.1673 - 8ms/epoch - 4ms/step\n",
            "Epoch 190/200\n",
            "2/2 - 0s - loss: 2.1670 - 8ms/epoch - 4ms/step\n",
            "Epoch 191/200\n",
            "2/2 - 0s - loss: 2.1667 - 8ms/epoch - 4ms/step\n",
            "Epoch 192/200\n",
            "2/2 - 0s - loss: 2.1663 - 8ms/epoch - 4ms/step\n",
            "Epoch 193/200\n",
            "2/2 - 0s - loss: 2.1659 - 9ms/epoch - 4ms/step\n",
            "Epoch 194/200\n",
            "2/2 - 0s - loss: 2.1656 - 8ms/epoch - 4ms/step\n",
            "Epoch 195/200\n",
            "2/2 - 0s - loss: 2.1652 - 8ms/epoch - 4ms/step\n",
            "Epoch 196/200\n",
            "2/2 - 0s - loss: 2.1648 - 8ms/epoch - 4ms/step\n",
            "Epoch 197/200\n",
            "2/2 - 0s - loss: 2.1645 - 8ms/epoch - 4ms/step\n",
            "Epoch 198/200\n",
            "2/2 - 0s - loss: 2.1641 - 9ms/epoch - 4ms/step\n",
            "Epoch 199/200\n",
            "2/2 - 0s - loss: 2.1638 - 9ms/epoch - 4ms/step\n",
            "Epoch 200/200\n",
            "2/2 - 0s - loss: 2.1634 - 8ms/epoch - 4ms/step\n"
          ]
        },
        {
          "output_type": "execute_result",
          "data": {
            "text/plain": [
              "<keras.src.callbacks.History at 0x7a5a4828b040>"
            ]
          },
          "metadata": {},
          "execution_count": 46
        }
      ]
    },
    {
      "cell_type": "markdown",
      "source": [
        "# Get Word Embeddings\n",
        "\n",
        "To see results from the model, we first need to extract the trained word embeddings from the word embedding model.\n",
        "\n",
        "The word embeddings are the **weights** of the embedding layer, which are the dense vector representations of the words in the vocabulary.\n",
        "\n",
        "The **shape** of the weights tensor is (vocab_size, embedding_size), where vocab_size is the size of the vocabulary and embedding_size is the length of the dense vector representation of each word."
      ],
      "metadata": {
        "id": "spq65LChn3i0"
      }
    },
    {
      "cell_type": "code",
      "source": [
        "# Get word embeddings\n",
        "word_embeddings = model.layers[0].get_weights()[0]"
      ],
      "metadata": {
        "id": "OAuY6lcKq8Xx"
      },
      "execution_count": null,
      "outputs": []
    },
    {
      "cell_type": "code",
      "source": [
        "word_embeddings"
      ],
      "metadata": {
        "colab": {
          "base_uri": "https://localhost:8080/"
        },
        "id": "HwuctKa3q8aP",
        "outputId": "e3292995-82a2-43bf-b480-a292f381a126"
      },
      "execution_count": null,
      "outputs": [
        {
          "output_type": "execute_result",
          "data": {
            "text/plain": [
              "array([[ 1.8131267e-02,  9.0906508e-03,  2.8929416e-02],\n",
              "       [-3.4392938e-01, -4.2000878e-01,  3.3464843e-01],\n",
              "       [-1.7316224e-01, -1.1535933e-02,  4.7484601e-01],\n",
              "       [-1.9547485e-01,  2.4315502e-01,  5.4841284e-02],\n",
              "       [ 2.4688725e-01, -4.8598230e-02,  3.6441319e-02],\n",
              "       [ 5.2351534e-02, -1.1405032e-01, -1.7526220e-01],\n",
              "       [-1.2945348e-01,  3.2007299e-02,  5.2085537e-02],\n",
              "       [-1.9013484e-01, -4.6782044e-01, -1.7005748e-01],\n",
              "       [-2.2351395e-01, -2.8514990e-01,  3.0658185e-01],\n",
              "       [-4.7825062e-01,  4.0293759e-05,  5.5071011e-02]], dtype=float32)"
            ]
          },
          "metadata": {},
          "execution_count": 48
        }
      ]
    },
    {
      "cell_type": "markdown",
      "source": [
        "# Lets print and see the Embedding"
      ],
      "metadata": {
        "id": "mt-aEyAwM1lZ"
      }
    },
    {
      "cell_type": "code",
      "source": [
        "# Print word and its embedding\n",
        "for word, idx in tokenizer.word_index.items():\n",
        "    embedding = word_embeddings[idx]\n",
        "    print(f\"{word}: {embedding}\")"
      ],
      "metadata": {
        "colab": {
          "base_uri": "https://localhost:8080/"
        },
        "id": "t7cJ6U4r_5Mw",
        "outputId": "34e72c33-b70d-40a1-c382-e835915360fa"
      },
      "execution_count": null,
      "outputs": [
        {
          "output_type": "stream",
          "name": "stdout",
          "text": [
            "dog: [-0.34392938 -0.42000878  0.33464843]\n",
            "cat: [-0.17316224 -0.01153593  0.474846  ]\n",
            "pet: [-0.19547485  0.24315502  0.05484128]\n",
            "animal: [ 0.24688725 -0.04859823  0.03644132]\n",
            "two: [ 0.05235153 -0.11405032 -0.1752622 ]\n",
            "eyes: [-0.12945348  0.0320073   0.05208554]\n",
            "four: [-0.19013484 -0.46782044 -0.17005748]\n",
            "legs: [-0.22351395 -0.2851499   0.30658185]\n",
            "home: [-4.7825062e-01  4.0293759e-05  5.5071011e-02]\n"
          ]
        }
      ]
    },
    {
      "cell_type": "markdown",
      "source": [
        "#Finding word similarity using trained word embedding\n",
        "\n",
        "Now we will try to find the similar word for \"cat\" using our trained word embedding model(weights)"
      ],
      "metadata": {
        "id": "GF7C_h3K44Lm"
      }
    },
    {
      "cell_type": "code",
      "source": [
        "from sklearn.metrics.pairwise import cosine_similarity\n",
        "# Calculate cosine similarity for \"cat\"\n",
        "target_word = 'cat'\n",
        "# Find the index of the word target_word\n",
        "target_word_index = tokenizer.word_index[target_word]\n",
        "\n",
        "# Get the embedding for the target_word\n",
        "target_word_embedding = word_embeddings[target_word_index]\n",
        "\n",
        "# Calculate cosine similarity with all other words\n",
        "similarities = cosine_similarity(target_word_embedding.reshape(1, -1), word_embeddings)\n",
        "\n",
        "# Display similarity scores for \"cat\"\n",
        "similarity_scores = list(zip(words, similarities[0]))\n",
        "similarity_scores.sort(key=lambda x: x[1], reverse=True)\n",
        "\n",
        "print(f\"Top 5 similar words to 'cat':\")\n",
        "for word, score in similarity_scores[:6]:\n",
        "    print(f\"{word}: {score:.4f}\")"
      ],
      "metadata": {
        "colab": {
          "base_uri": "https://localhost:8080/"
        },
        "id": "4vCQpdQcuk-c",
        "outputId": "bf9933be-3eb5-4553-aa40-e5d163d2131f"
      },
      "execution_count": null,
      "outputs": [
        {
          "output_type": "stream",
          "name": "stdout",
          "text": [
            "Top 5 similar words to 'cat':\n",
            "pet: 1.0000\n",
            "home: 0.7817\n",
            "cat: 0.6926\n",
            "four: 0.6463\n",
            "dog: 0.5874\n",
            "animal: 0.3565\n"
          ]
        }
      ]
    },
    {
      "cell_type": "code",
      "source": [],
      "metadata": {
        "id": "VU88QSPtKzr1"
      },
      "execution_count": null,
      "outputs": []
    },
    {
      "cell_type": "markdown",
      "source": [],
      "metadata": {
        "id": "jWwIIuDELo1z"
      }
    },
    {
      "cell_type": "code",
      "source": [
        "import tensorflow as tf\n",
        "import numpy as np\n",
        "import matplotlib.pyplot as plt\n",
        "from sklearn.decomposition import PCA\n",
        "from sklearn.metrics.pairwise import cosine_similarity\n",
        "from matplotlib.colors import Normalize\n",
        "from matplotlib import cm\n",
        "\n",
        "# Calculate cosine similarity for all word pairs\n",
        "similarity_matrix = cosine_similarity(word_embeddings)\n",
        "\n",
        "# Apply PCA for dimensionality reduction\n",
        "pca = PCA(n_components=2)\n",
        "embeddings_2d = pca.fit_transform(word_embeddings)\n",
        "\n",
        "# Display word embeddings in vector space with colors based on cosine similarity\n",
        "plt.figure(figsize=(10, 8))\n",
        "\n",
        "# Use a colormap to map similarity values to colors\n",
        "norm = Normalize(vmin=-1, vmax=1)\n",
        "cmap = cm.get_cmap('viridis')\n",
        "\n",
        "for word, idx in tokenizer.word_index.items():\n",
        "    x, y = embeddings_2d[idx]\n",
        "\n",
        "    # Calculate cosine similarity with a reference word (e.g., 'cat')\n",
        "    reference_word = 'cat'\n",
        "    #reference_idx = word2idx[reference_word]\n",
        "    reference_idx =tokenizer.word_index[reference_word]\n",
        "    similarity_value = similarity_matrix[idx, reference_idx]\n",
        "\n",
        "    # Map similarity value to a color using the colormap\n",
        "    color = cmap(norm(similarity_value))\n",
        "\n",
        "    plt.scatter(x, y, color=color)\n",
        "    plt.text(x, y, word)\n",
        "\n",
        "plt.title('Word Embeddings using PCA with Cosine Similarity Colors')\n",
        "plt.colorbar(cm.ScalarMappable(norm=norm, cmap=cmap), label='Cosine Similarity')\n",
        "plt.show()\n"
      ],
      "metadata": {
        "colab": {
          "base_uri": "https://localhost:8080/",
          "height": 788
        },
        "id": "rTKWxi-lLo87",
        "outputId": "df4b30ce-6065-43db-bc04-e50e47a095b8"
      },
      "execution_count": null,
      "outputs": [
        {
          "output_type": "stream",
          "name": "stderr",
          "text": [
            "<ipython-input-51-cee11646a286>:21: MatplotlibDeprecationWarning: The get_cmap function was deprecated in Matplotlib 3.7 and will be removed two minor releases later. Use ``matplotlib.colormaps[name]`` or ``matplotlib.colormaps.get_cmap(obj)`` instead.\n",
            "  cmap = cm.get_cmap('viridis')\n",
            "<ipython-input-51-cee11646a286>:39: MatplotlibDeprecationWarning: Unable to determine Axes to steal space for Colorbar. Using gca(), but will raise in the future. Either provide the *cax* argument to use as the Axes for the Colorbar, provide the *ax* argument to steal space from it, or add *mappable* to an Axes.\n",
            "  plt.colorbar(cm.ScalarMappable(norm=norm, cmap=cmap), label='Cosine Similarity')\n"
          ]
        },
        {
          "output_type": "display_data",
          "data": {
            "text/plain": [
              "<Figure size 1000x800 with 2 Axes>"
            ],
            "image/png": "[encoded data removed]"
          },
          "metadata": {}
        }
      ]
    },
    {
      "cell_type": "markdown",
      "source": [
        "In this example, I've used the 'viridis' colormap, which ranges from blue (low similarity) to yellow (high similarity). You can choose a different colormap based on your preferences. The ScalarMappable and colorbar functions are used to add a colorbar to the plot, providing a reference for the mapping between colors and cosine similarity values."
      ],
      "metadata": {
        "id": "ewlIwfj6MA7X"
      }
    },
    {
      "cell_type": "markdown",
      "source": [
        "# Result Analysis\n",
        "In the above result, we can clearly see that:\n",
        "\n",
        "✅ \"cat\" & \"dog\" are closer to each other"
      ],
      "metadata": {
        "id": "Ym_ySAkH5Rmx"
      }
    },
    {
      "cell_type": "markdown",
      "source": [
        "<a name='2.2'></a>\n",
        "## Hands-on - Training - CBOW(Continuous Bag of Words)"
      ],
      "metadata": {
        "id": "LrWas6eVNlzA"
      }
    },
    {
      "cell_type": "markdown",
      "source": [
        "Continuous Bag of Words (CBOW) is another word embedding model that predicts the target word based on its context words. Here's an example of how you can implement CBOW and visualize the word embeddings using PCA\n",
        "\n",
        "We are using the same text sample and tokenizer , therefore we are not repeating the tokenization step.\n",
        "\n",
        "We will directly start with creating training data."
      ],
      "metadata": {
        "id": "gF_CYIGONl1o"
      }
    },
    {
      "cell_type": "markdown",
      "source": [
        "## Preparing Training Data"
      ],
      "metadata": {
        "id": "lwNCTWCCEPW9"
      }
    },
    {
      "cell_type": "code",
      "source": [
        "len(words)"
      ],
      "metadata": {
        "colab": {
          "base_uri": "https://localhost:8080/"
        },
        "id": "G1RNiEOLUUYc",
        "outputId": "60ef1eb8-f399-4663-fe6b-5903af6ebac4"
      },
      "execution_count": null,
      "outputs": [
        {
          "output_type": "execute_result",
          "data": {
            "text/plain": [
              "9"
            ]
          },
          "metadata": {},
          "execution_count": 82
        }
      ]
    },
    {
      "cell_type": "code",
      "source": [
        "# Generate training data for CBOW model\n",
        "window_size = 3\n",
        "training_data = []\n",
        "\n",
        "for i in range(window_size, len(words) - window_size):\n",
        "    context = [words[j] for j in range(i - window_size, i + window_size + 1) if j != i]\n",
        "    target = words[i]\n",
        "    training_data.append((context, target))\n",
        "\n",
        "# Convert training data to NumPy arrays\n",
        "X = []\n",
        "y = []\n",
        "\n",
        "for context, target in training_data:\n",
        "    context_indices = [tokenizer.word_index[word] for word in context]\n",
        "    target_index = tokenizer.word_index[target]\n",
        "    X.append(context_indices)\n",
        "    y.append(target_index)\n",
        "\n",
        "X = np.array(X)\n",
        "y = np.array(y)"
      ],
      "metadata": {
        "id": "J-jJwNcjOlpT"
      },
      "execution_count": null,
      "outputs": []
    },
    {
      "cell_type": "code",
      "source": [
        "training_data"
      ],
      "metadata": {
        "colab": {
          "base_uri": "https://localhost:8080/"
        },
        "id": "Ao8irqg8UGcN",
        "outputId": "c5fc86b5-498f-456c-8a9a-5e1b7742caca"
      },
      "execution_count": null,
      "outputs": [
        {
          "output_type": "execute_result",
          "data": {
            "text/plain": [
              "[(['dog', 'cat', 'pet', 'two', 'eyes', 'four'], 'animal'),\n",
              " (['cat', 'pet', 'animal', 'eyes', 'four', 'legs'], 'two'),\n",
              " (['pet', 'animal', 'two', 'four', 'legs', 'home'], 'eyes')]"
            ]
          },
          "metadata": {},
          "execution_count": 84
        }
      ]
    },
    {
      "cell_type": "code",
      "source": [
        "X"
      ],
      "metadata": {
        "colab": {
          "base_uri": "https://localhost:8080/"
        },
        "id": "rhqq4AgAVEZ2",
        "outputId": "18635cbf-8f78-42ea-8835-97f3b87d69ee"
      },
      "execution_count": null,
      "outputs": [
        {
          "output_type": "execute_result",
          "data": {
            "text/plain": [
              "array([[1, 2, 3, 5, 6, 7],\n",
              "       [2, 3, 4, 6, 7, 8],\n",
              "       [3, 4, 5, 7, 8, 9]])"
            ]
          },
          "metadata": {},
          "execution_count": 85
        }
      ]
    },
    {
      "cell_type": "code",
      "source": [
        "y"
      ],
      "metadata": {
        "colab": {
          "base_uri": "https://localhost:8080/"
        },
        "id": "rrF11s-TVIlz",
        "outputId": "2644a8e8-00f8-44ff-8eef-98673b9f56db"
      },
      "execution_count": null,
      "outputs": [
        {
          "output_type": "execute_result",
          "data": {
            "text/plain": [
              "array([4, 5, 6])"
            ]
          },
          "metadata": {},
          "execution_count": 86
        }
      ]
    },
    {
      "cell_type": "markdown",
      "source": [
        "# Building the CBOW Model Architecture\n",
        "Let's define the word embedding model's architecture using Keras's functional API."
      ],
      "metadata": {
        "id": "ONCWKOcqEbwi"
      }
    },
    {
      "cell_type": "code",
      "source": [
        "# Define CBOW model\n",
        "embedding_dim = 3\n",
        "vocab_size = len(tokenizer.word_index) + 1  # Add 1 for the padding token\n",
        "\n",
        "model = tf.keras.Sequential([\n",
        "    tf.keras.layers.Embedding(input_dim=vocab_size, output_dim=embedding_dim, input_length=2*window_size),\n",
        "    tf.keras.layers.GlobalAveragePooling1D(),\n",
        "    tf.keras.layers.Dense(vocab_size, activation='softmax')\n",
        "])"
      ],
      "metadata": {
        "id": "zY9kkXoKNnWe"
      },
      "execution_count": null,
      "outputs": []
    },
    {
      "cell_type": "markdown",
      "source": [
        "## Training"
      ],
      "metadata": {
        "id": "fEzZpmXBEmbe"
      }
    },
    {
      "cell_type": "code",
      "source": [
        "model.compile(optimizer='adam', loss='sparse_categorical_crossentropy')\n",
        "\n",
        "# Train the model\n",
        "model.fit(x=X, y=y, epochs=200, verbose=2)"
      ],
      "metadata": {
        "colab": {
          "base_uri": "https://localhost:8080/"
        },
        "id": "nfM0sxT9DTMM",
        "outputId": "4c965dfd-c6ed-4a22-80d2-ab602cd7cc05"
      },
      "execution_count": null,
      "outputs": [
        {
          "output_type": "stream",
          "name": "stdout",
          "text": [
            "Epoch 1/200\n",
            "1/1 - 1s - loss: 2.2961 - 724ms/epoch - 724ms/step\n",
            "Epoch 2/200\n",
            "1/1 - 0s - loss: 2.2941 - 16ms/epoch - 16ms/step\n",
            "Epoch 3/200\n",
            "1/1 - 0s - loss: 2.2922 - 10ms/epoch - 10ms/step\n",
            "Epoch 4/200\n",
            "1/1 - 0s - loss: 2.2902 - 10ms/epoch - 10ms/step\n",
            "Epoch 5/200\n",
            "1/1 - 0s - loss: 2.2882 - 9ms/epoch - 9ms/step\n",
            "Epoch 6/200\n",
            "1/1 - 0s - loss: 2.2862 - 10ms/epoch - 10ms/step\n",
            "Epoch 7/200\n",
            "1/1 - 0s - loss: 2.2842 - 9ms/epoch - 9ms/step\n",
            "Epoch 8/200\n",
            "1/1 - 0s - loss: 2.2822 - 8ms/epoch - 8ms/step\n",
            "Epoch 9/200\n",
            "1/1 - 0s - loss: 2.2801 - 8ms/epoch - 8ms/step\n",
            "Epoch 10/200\n",
            "1/1 - 0s - loss: 2.2781 - 8ms/epoch - 8ms/step\n",
            "Epoch 11/200\n",
            "1/1 - 0s - loss: 2.2761 - 9ms/epoch - 9ms/step\n",
            "Epoch 12/200\n",
            "1/1 - 0s - loss: 2.2741 - 9ms/epoch - 9ms/step\n",
            "Epoch 13/200\n",
            "1/1 - 0s - loss: 2.2721 - 7ms/epoch - 7ms/step\n",
            "Epoch 14/200\n",
            "1/1 - 0s - loss: 2.2700 - 10ms/epoch - 10ms/step\n",
            "Epoch 15/200\n",
            "1/1 - 0s - loss: 2.2680 - 8ms/epoch - 8ms/step\n",
            "Epoch 16/200\n",
            "1/1 - 0s - loss: 2.2659 - 8ms/epoch - 8ms/step\n",
            "Epoch 17/200\n",
            "1/1 - 0s - loss: 2.2639 - 8ms/epoch - 8ms/step\n",
            "Epoch 18/200\n",
            "1/1 - 0s - loss: 2.2618 - 7ms/epoch - 7ms/step\n",
            "Epoch 19/200\n",
            "1/1 - 0s - loss: 2.2597 - 8ms/epoch - 8ms/step\n",
            "Epoch 20/200\n",
            "1/1 - 0s - loss: 2.2577 - 7ms/epoch - 7ms/step\n",
            "Epoch 21/200\n",
            "1/1 - 0s - loss: 2.2556 - 8ms/epoch - 8ms/step\n",
            "Epoch 22/200\n",
            "1/1 - 0s - loss: 2.2535 - 8ms/epoch - 8ms/step\n",
            "Epoch 23/200\n",
            "1/1 - 0s - loss: 2.2514 - 10ms/epoch - 10ms/step\n",
            "Epoch 24/200\n",
            "1/1 - 0s - loss: 2.2493 - 9ms/epoch - 9ms/step\n",
            "Epoch 25/200\n",
            "1/1 - 0s - loss: 2.2472 - 8ms/epoch - 8ms/step\n",
            "Epoch 26/200\n",
            "1/1 - 0s - loss: 2.2451 - 7ms/epoch - 7ms/step\n",
            "Epoch 27/200\n",
            "1/1 - 0s - loss: 2.2430 - 8ms/epoch - 8ms/step\n",
            "Epoch 28/200\n",
            "1/1 - 0s - loss: 2.2408 - 8ms/epoch - 8ms/step\n",
            "Epoch 29/200\n",
            "1/1 - 0s - loss: 2.2387 - 8ms/epoch - 8ms/step\n",
            "Epoch 30/200\n",
            "1/1 - 0s - loss: 2.2365 - 8ms/epoch - 8ms/step\n",
            "Epoch 31/200\n",
            "1/1 - 0s - loss: 2.2344 - 11ms/epoch - 11ms/step\n",
            "Epoch 32/200\n",
            "1/1 - 0s - loss: 2.2322 - 8ms/epoch - 8ms/step\n",
            "Epoch 33/200\n",
            "1/1 - 0s - loss: 2.2301 - 9ms/epoch - 9ms/step\n",
            "Epoch 34/200\n",
            "1/1 - 0s - loss: 2.2279 - 7ms/epoch - 7ms/step\n",
            "Epoch 35/200\n",
            "1/1 - 0s - loss: 2.2257 - 7ms/epoch - 7ms/step\n",
            "Epoch 36/200\n",
            "1/1 - 0s - loss: 2.2235 - 7ms/epoch - 7ms/step\n",
            "Epoch 37/200\n",
            "1/1 - 0s - loss: 2.2213 - 7ms/epoch - 7ms/step\n",
            "Epoch 38/200\n",
            "1/1 - 0s - loss: 2.2191 - 6ms/epoch - 6ms/step\n",
            "Epoch 39/200\n",
            "1/1 - 0s - loss: 2.2169 - 9ms/epoch - 9ms/step\n",
            "Epoch 40/200\n",
            "1/1 - 0s - loss: 2.2146 - 8ms/epoch - 8ms/step\n",
            "Epoch 41/200\n",
            "1/1 - 0s - loss: 2.2124 - 7ms/epoch - 7ms/step\n",
            "Epoch 42/200\n",
            "1/1 - 0s - loss: 2.2101 - 8ms/epoch - 8ms/step\n",
            "Epoch 43/200\n",
            "1/1 - 0s - loss: 2.2079 - 8ms/epoch - 8ms/step\n",
            "Epoch 44/200\n",
            "1/1 - 0s - loss: 2.2056 - 7ms/epoch - 7ms/step\n",
            "Epoch 45/200\n",
            "1/1 - 0s - loss: 2.2033 - 7ms/epoch - 7ms/step\n",
            "Epoch 46/200\n",
            "1/1 - 0s - loss: 2.2011 - 7ms/epoch - 7ms/step\n",
            "Epoch 47/200\n",
            "1/1 - 0s - loss: 2.1988 - 8ms/epoch - 8ms/step\n",
            "Epoch 48/200\n",
            "1/1 - 0s - loss: 2.1965 - 8ms/epoch - 8ms/step\n",
            "Epoch 49/200\n",
            "1/1 - 0s - loss: 2.1941 - 8ms/epoch - 8ms/step\n",
            "Epoch 50/200\n",
            "1/1 - 0s - loss: 2.1918 - 7ms/epoch - 7ms/step\n",
            "Epoch 51/200\n",
            "1/1 - 0s - loss: 2.1895 - 8ms/epoch - 8ms/step\n",
            "Epoch 52/200\n",
            "1/1 - 0s - loss: 2.1872 - 11ms/epoch - 11ms/step\n",
            "Epoch 53/200\n",
            "1/1 - 0s - loss: 2.1848 - 7ms/epoch - 7ms/step\n",
            "Epoch 54/200\n",
            "1/1 - 0s - loss: 2.1824 - 8ms/epoch - 8ms/step\n",
            "Epoch 55/200\n",
            "1/1 - 0s - loss: 2.1801 - 7ms/epoch - 7ms/step\n",
            "Epoch 56/200\n",
            "1/1 - 0s - loss: 2.1777 - 8ms/epoch - 8ms/step\n",
            "Epoch 57/200\n",
            "1/1 - 0s - loss: 2.1753 - 9ms/epoch - 9ms/step\n",
            "Epoch 58/200\n",
            "1/1 - 0s - loss: 2.1729 - 8ms/epoch - 8ms/step\n",
            "Epoch 59/200\n",
            "1/1 - 0s - loss: 2.1705 - 8ms/epoch - 8ms/step\n",
            "Epoch 60/200\n",
            "1/1 - 0s - loss: 2.1681 - 10ms/epoch - 10ms/step\n",
            "Epoch 61/200\n",
            "1/1 - 0s - loss: 2.1657 - 7ms/epoch - 7ms/step\n",
            "Epoch 62/200\n",
            "1/1 - 0s - loss: 2.1632 - 8ms/epoch - 8ms/step\n",
            "Epoch 63/200\n",
            "1/1 - 0s - loss: 2.1608 - 8ms/epoch - 8ms/step\n",
            "Epoch 64/200\n",
            "1/1 - 0s - loss: 2.1583 - 8ms/epoch - 8ms/step\n",
            "Epoch 65/200\n",
            "1/1 - 0s - loss: 2.1558 - 8ms/epoch - 8ms/step\n",
            "Epoch 66/200\n",
            "1/1 - 0s - loss: 2.1534 - 8ms/epoch - 8ms/step\n",
            "Epoch 67/200\n",
            "1/1 - 0s - loss: 2.1509 - 9ms/epoch - 9ms/step\n",
            "Epoch 68/200\n",
            "1/1 - 0s - loss: 2.1484 - 10ms/epoch - 10ms/step\n",
            "Epoch 69/200\n",
            "1/1 - 0s - loss: 2.1459 - 8ms/epoch - 8ms/step\n",
            "Epoch 70/200\n",
            "1/1 - 0s - loss: 2.1434 - 8ms/epoch - 8ms/step\n",
            "Epoch 71/200\n",
            "1/1 - 0s - loss: 2.1409 - 8ms/epoch - 8ms/step\n",
            "Epoch 72/200\n",
            "1/1 - 0s - loss: 2.1383 - 8ms/epoch - 8ms/step\n",
            "Epoch 73/200\n",
            "1/1 - 0s - loss: 2.1358 - 8ms/epoch - 8ms/step\n",
            "Epoch 74/200\n",
            "1/1 - 0s - loss: 2.1332 - 8ms/epoch - 8ms/step\n",
            "Epoch 75/200\n",
            "1/1 - 0s - loss: 2.1307 - 7ms/epoch - 7ms/step\n",
            "Epoch 76/200\n",
            "1/1 - 0s - loss: 2.1281 - 8ms/epoch - 8ms/step\n",
            "Epoch 77/200\n",
            "1/1 - 0s - loss: 2.1255 - 8ms/epoch - 8ms/step\n",
            "Epoch 78/200\n",
            "1/1 - 0s - loss: 2.1229 - 8ms/epoch - 8ms/step\n",
            "Epoch 79/200\n",
            "1/1 - 0s - loss: 2.1203 - 8ms/epoch - 8ms/step\n",
            "Epoch 80/200\n",
            "1/1 - 0s - loss: 2.1177 - 8ms/epoch - 8ms/step\n",
            "Epoch 81/200\n",
            "1/1 - 0s - loss: 2.1151 - 10ms/epoch - 10ms/step\n",
            "Epoch 82/200\n",
            "1/1 - 0s - loss: 2.1125 - 8ms/epoch - 8ms/step\n",
            "Epoch 83/200\n",
            "1/1 - 0s - loss: 2.1098 - 8ms/epoch - 8ms/step\n",
            "Epoch 84/200\n",
            "1/1 - 0s - loss: 2.1072 - 7ms/epoch - 7ms/step\n",
            "Epoch 85/200\n",
            "1/1 - 0s - loss: 2.1045 - 8ms/epoch - 8ms/step\n",
            "Epoch 86/200\n",
            "1/1 - 0s - loss: 2.1019 - 8ms/epoch - 8ms/step\n",
            "Epoch 87/200\n",
            "1/1 - 0s - loss: 2.0992 - 7ms/epoch - 7ms/step\n",
            "Epoch 88/200\n",
            "1/1 - 0s - loss: 2.0965 - 7ms/epoch - 7ms/step\n",
            "Epoch 89/200\n",
            "1/1 - 0s - loss: 2.0938 - 7ms/epoch - 7ms/step\n",
            "Epoch 90/200\n",
            "1/1 - 0s - loss: 2.0911 - 8ms/epoch - 8ms/step\n",
            "Epoch 91/200\n",
            "1/1 - 0s - loss: 2.0884 - 6ms/epoch - 6ms/step\n",
            "Epoch 92/200\n",
            "1/1 - 0s - loss: 2.0857 - 8ms/epoch - 8ms/step\n",
            "Epoch 93/200\n",
            "1/1 - 0s - loss: 2.0829 - 8ms/epoch - 8ms/step\n",
            "Epoch 94/200\n",
            "1/1 - 0s - loss: 2.0802 - 8ms/epoch - 8ms/step\n",
            "Epoch 95/200\n",
            "1/1 - 0s - loss: 2.0775 - 7ms/epoch - 7ms/step\n",
            "Epoch 96/200\n",
            "1/1 - 0s - loss: 2.0747 - 8ms/epoch - 8ms/step\n",
            "Epoch 97/200\n",
            "1/1 - 0s - loss: 2.0720 - 8ms/epoch - 8ms/step\n",
            "Epoch 98/200\n",
            "1/1 - 0s - loss: 2.0692 - 8ms/epoch - 8ms/step\n",
            "Epoch 99/200\n",
            "1/1 - 0s - loss: 2.0664 - 8ms/epoch - 8ms/step\n",
            "Epoch 100/200\n",
            "1/1 - 0s - loss: 2.0636 - 8ms/epoch - 8ms/step\n",
            "Epoch 101/200\n",
            "1/1 - 0s - loss: 2.0608 - 8ms/epoch - 8ms/step\n",
            "Epoch 102/200\n",
            "1/1 - 0s - loss: 2.0580 - 9ms/epoch - 9ms/step\n",
            "Epoch 103/200\n",
            "1/1 - 0s - loss: 2.0552 - 8ms/epoch - 8ms/step\n",
            "Epoch 104/200\n",
            "1/1 - 0s - loss: 2.0524 - 8ms/epoch - 8ms/step\n",
            "Epoch 105/200\n",
            "1/1 - 0s - loss: 2.0496 - 7ms/epoch - 7ms/step\n",
            "Epoch 106/200\n",
            "1/1 - 0s - loss: 2.0467 - 8ms/epoch - 8ms/step\n",
            "Epoch 107/200\n",
            "1/1 - 0s - loss: 2.0439 - 8ms/epoch - 8ms/step\n",
            "Epoch 108/200\n",
            "1/1 - 0s - loss: 2.0410 - 8ms/epoch - 8ms/step\n",
            "Epoch 109/200\n",
            "1/1 - 0s - loss: 2.0382 - 8ms/epoch - 8ms/step\n",
            "Epoch 110/200\n",
            "1/1 - 0s - loss: 2.0353 - 8ms/epoch - 8ms/step\n",
            "Epoch 111/200\n",
            "1/1 - 0s - loss: 2.0324 - 7ms/epoch - 7ms/step\n",
            "Epoch 112/200\n",
            "1/1 - 0s - loss: 2.0295 - 8ms/epoch - 8ms/step\n",
            "Epoch 113/200\n",
            "1/1 - 0s - loss: 2.0267 - 8ms/epoch - 8ms/step\n",
            "Epoch 114/200\n",
            "1/1 - 0s - loss: 2.0238 - 8ms/epoch - 8ms/step\n",
            "Epoch 115/200\n",
            "1/1 - 0s - loss: 2.0208 - 9ms/epoch - 9ms/step\n",
            "Epoch 116/200\n",
            "1/1 - 0s - loss: 2.0179 - 9ms/epoch - 9ms/step\n",
            "Epoch 117/200\n",
            "1/1 - 0s - loss: 2.0150 - 8ms/epoch - 8ms/step\n",
            "Epoch 118/200\n",
            "1/1 - 0s - loss: 2.0121 - 11ms/epoch - 11ms/step\n",
            "Epoch 119/200\n",
            "1/1 - 0s - loss: 2.0092 - 9ms/epoch - 9ms/step\n",
            "Epoch 120/200\n",
            "1/1 - 0s - loss: 2.0062 - 8ms/epoch - 8ms/step\n",
            "Epoch 121/200\n",
            "1/1 - 0s - loss: 2.0033 - 7ms/epoch - 7ms/step\n",
            "Epoch 122/200\n",
            "1/1 - 0s - loss: 2.0003 - 7ms/epoch - 7ms/step\n",
            "Epoch 123/200\n",
            "1/1 - 0s - loss: 1.9974 - 7ms/epoch - 7ms/step\n",
            "Epoch 124/200\n",
            "1/1 - 0s - loss: 1.9944 - 8ms/epoch - 8ms/step\n",
            "Epoch 125/200\n",
            "1/1 - 0s - loss: 1.9914 - 8ms/epoch - 8ms/step\n",
            "Epoch 126/200\n",
            "1/1 - 0s - loss: 1.9885 - 8ms/epoch - 8ms/step\n",
            "Epoch 127/200\n",
            "1/1 - 0s - loss: 1.9855 - 7ms/epoch - 7ms/step\n",
            "Epoch 128/200\n",
            "1/1 - 0s - loss: 1.9825 - 7ms/epoch - 7ms/step\n",
            "Epoch 129/200\n",
            "1/1 - 0s - loss: 1.9795 - 8ms/epoch - 8ms/step\n",
            "Epoch 130/200\n",
            "1/1 - 0s - loss: 1.9765 - 7ms/epoch - 7ms/step\n",
            "Epoch 131/200\n",
            "1/1 - 0s - loss: 1.9735 - 12ms/epoch - 12ms/step\n",
            "Epoch 132/200\n",
            "1/1 - 0s - loss: 1.9705 - 7ms/epoch - 7ms/step\n",
            "Epoch 133/200\n",
            "1/1 - 0s - loss: 1.9675 - 8ms/epoch - 8ms/step\n",
            "Epoch 134/200\n",
            "1/1 - 0s - loss: 1.9644 - 8ms/epoch - 8ms/step\n",
            "Epoch 135/200\n",
            "1/1 - 0s - loss: 1.9614 - 10ms/epoch - 10ms/step\n",
            "Epoch 136/200\n",
            "1/1 - 0s - loss: 1.9584 - 6ms/epoch - 6ms/step\n",
            "Epoch 137/200\n",
            "1/1 - 0s - loss: 1.9553 - 6ms/epoch - 6ms/step\n",
            "Epoch 138/200\n",
            "1/1 - 0s - loss: 1.9523 - 7ms/epoch - 7ms/step\n",
            "Epoch 139/200\n",
            "1/1 - 0s - loss: 1.9492 - 8ms/epoch - 8ms/step\n",
            "Epoch 140/200\n",
            "1/1 - 0s - loss: 1.9462 - 8ms/epoch - 8ms/step\n",
            "Epoch 141/200\n",
            "1/1 - 0s - loss: 1.9431 - 11ms/epoch - 11ms/step\n",
            "Epoch 142/200\n",
            "1/1 - 0s - loss: 1.9401 - 8ms/epoch - 8ms/step\n",
            "Epoch 143/200\n",
            "1/1 - 0s - loss: 1.9370 - 8ms/epoch - 8ms/step\n",
            "Epoch 144/200\n",
            "1/1 - 0s - loss: 1.9339 - 8ms/epoch - 8ms/step\n",
            "Epoch 145/200\n",
            "1/1 - 0s - loss: 1.9309 - 7ms/epoch - 7ms/step\n",
            "Epoch 146/200\n",
            "1/1 - 0s - loss: 1.9278 - 8ms/epoch - 8ms/step\n",
            "Epoch 147/200\n",
            "1/1 - 0s - loss: 1.9247 - 7ms/epoch - 7ms/step\n",
            "Epoch 148/200\n",
            "1/1 - 0s - loss: 1.9216 - 7ms/epoch - 7ms/step\n",
            "Epoch 149/200\n",
            "1/1 - 0s - loss: 1.9185 - 8ms/epoch - 8ms/step\n",
            "Epoch 150/200\n",
            "1/1 - 0s - loss: 1.9154 - 8ms/epoch - 8ms/step\n",
            "Epoch 151/200\n",
            "1/1 - 0s - loss: 1.9123 - 8ms/epoch - 8ms/step\n",
            "Epoch 152/200\n",
            "1/1 - 0s - loss: 1.9092 - 8ms/epoch - 8ms/step\n",
            "Epoch 153/200\n",
            "1/1 - 0s - loss: 1.9061 - 8ms/epoch - 8ms/step\n",
            "Epoch 154/200\n",
            "1/1 - 0s - loss: 1.9030 - 7ms/epoch - 7ms/step\n",
            "Epoch 155/200\n",
            "1/1 - 0s - loss: 1.8999 - 8ms/epoch - 8ms/step\n",
            "Epoch 156/200\n",
            "1/1 - 0s - loss: 1.8968 - 8ms/epoch - 8ms/step\n",
            "Epoch 157/200\n",
            "1/1 - 0s - loss: 1.8937 - 8ms/epoch - 8ms/step\n",
            "Epoch 158/200\n",
            "1/1 - 0s - loss: 1.8906 - 7ms/epoch - 7ms/step\n",
            "Epoch 159/200\n",
            "1/1 - 0s - loss: 1.8875 - 7ms/epoch - 7ms/step\n",
            "Epoch 160/200\n",
            "1/1 - 0s - loss: 1.8843 - 7ms/epoch - 7ms/step\n",
            "Epoch 161/200\n",
            "1/1 - 0s - loss: 1.8812 - 7ms/epoch - 7ms/step\n",
            "Epoch 162/200\n",
            "1/1 - 0s - loss: 1.8781 - 8ms/epoch - 8ms/step\n",
            "Epoch 163/200\n",
            "1/1 - 0s - loss: 1.8750 - 8ms/epoch - 8ms/step\n",
            "Epoch 164/200\n",
            "1/1 - 0s - loss: 1.8718 - 7ms/epoch - 7ms/step\n",
            "Epoch 165/200\n",
            "1/1 - 0s - loss: 1.8687 - 10ms/epoch - 10ms/step\n",
            "Epoch 166/200\n",
            "1/1 - 0s - loss: 1.8656 - 7ms/epoch - 7ms/step\n",
            "Epoch 167/200\n",
            "1/1 - 0s - loss: 1.8624 - 7ms/epoch - 7ms/step\n",
            "Epoch 168/200\n",
            "1/1 - 0s - loss: 1.8593 - 8ms/epoch - 8ms/step\n",
            "Epoch 169/200\n",
            "1/1 - 0s - loss: 1.8562 - 7ms/epoch - 7ms/step\n",
            "Epoch 170/200\n",
            "1/1 - 0s - loss: 1.8530 - 8ms/epoch - 8ms/step\n",
            "Epoch 171/200\n",
            "1/1 - 0s - loss: 1.8499 - 8ms/epoch - 8ms/step\n",
            "Epoch 172/200\n",
            "1/1 - 0s - loss: 1.8468 - 8ms/epoch - 8ms/step\n",
            "Epoch 173/200\n",
            "1/1 - 0s - loss: 1.8436 - 7ms/epoch - 7ms/step\n",
            "Epoch 174/200\n",
            "1/1 - 0s - loss: 1.8405 - 9ms/epoch - 9ms/step\n",
            "Epoch 175/200\n",
            "1/1 - 0s - loss: 1.8373 - 9ms/epoch - 9ms/step\n",
            "Epoch 176/200\n",
            "1/1 - 0s - loss: 1.8342 - 7ms/epoch - 7ms/step\n",
            "Epoch 177/200\n",
            "1/1 - 0s - loss: 1.8311 - 8ms/epoch - 8ms/step\n",
            "Epoch 178/200\n",
            "1/1 - 0s - loss: 1.8279 - 11ms/epoch - 11ms/step\n",
            "Epoch 179/200\n",
            "1/1 - 0s - loss: 1.8248 - 7ms/epoch - 7ms/step\n",
            "Epoch 180/200\n",
            "1/1 - 0s - loss: 1.8217 - 7ms/epoch - 7ms/step\n",
            "Epoch 181/200\n",
            "1/1 - 0s - loss: 1.8185 - 7ms/epoch - 7ms/step\n",
            "Epoch 182/200\n",
            "1/1 - 0s - loss: 1.8154 - 10ms/epoch - 10ms/step\n",
            "Epoch 183/200\n",
            "1/1 - 0s - loss: 1.8122 - 9ms/epoch - 9ms/step\n",
            "Epoch 184/200\n",
            "1/1 - 0s - loss: 1.8091 - 12ms/epoch - 12ms/step\n",
            "Epoch 185/200\n",
            "1/1 - 0s - loss: 1.8060 - 13ms/epoch - 13ms/step\n",
            "Epoch 186/200\n",
            "1/1 - 0s - loss: 1.8028 - 11ms/epoch - 11ms/step\n",
            "Epoch 187/200\n",
            "1/1 - 0s - loss: 1.7997 - 13ms/epoch - 13ms/step\n",
            "Epoch 188/200\n",
            "1/1 - 0s - loss: 1.7966 - 11ms/epoch - 11ms/step\n",
            "Epoch 189/200\n",
            "1/1 - 0s - loss: 1.7935 - 8ms/epoch - 8ms/step\n",
            "Epoch 190/200\n",
            "1/1 - 0s - loss: 1.7903 - 8ms/epoch - 8ms/step\n",
            "Epoch 191/200\n",
            "1/1 - 0s - loss: 1.7872 - 7ms/epoch - 7ms/step\n",
            "Epoch 192/200\n",
            "1/1 - 0s - loss: 1.7841 - 10ms/epoch - 10ms/step\n",
            "Epoch 193/200\n",
            "1/1 - 0s - loss: 1.7810 - 9ms/epoch - 9ms/step\n",
            "Epoch 194/200\n",
            "1/1 - 0s - loss: 1.7778 - 9ms/epoch - 9ms/step\n",
            "Epoch 195/200\n",
            "1/1 - 0s - loss: 1.7747 - 10ms/epoch - 10ms/step\n",
            "Epoch 196/200\n",
            "1/1 - 0s - loss: 1.7716 - 11ms/epoch - 11ms/step\n",
            "Epoch 197/200\n",
            "1/1 - 0s - loss: 1.7685 - 9ms/epoch - 9ms/step\n",
            "Epoch 198/200\n",
            "1/1 - 0s - loss: 1.7654 - 10ms/epoch - 10ms/step\n",
            "Epoch 199/200\n",
            "1/1 - 0s - loss: 1.7623 - 6ms/epoch - 6ms/step\n",
            "Epoch 200/200\n",
            "1/1 - 0s - loss: 1.7592 - 8ms/epoch - 8ms/step\n"
          ]
        },
        {
          "output_type": "execute_result",
          "data": {
            "text/plain": [
              "<keras.src.callbacks.History at 0x7a5a3931f4c0>"
            ]
          },
          "metadata": {},
          "execution_count": 88
        }
      ]
    },
    {
      "cell_type": "code",
      "source": [
        "# Get word embeddings\n",
        "word_embeddings = model.layers[0].get_weights()[0]"
      ],
      "metadata": {
        "id": "xNvy8wibOYkT"
      },
      "execution_count": null,
      "outputs": []
    },
    {
      "cell_type": "code",
      "source": [
        "# Print word and its embedding\n",
        "for word, idx in tokenizer.word_index.items():\n",
        "    embedding = word_embeddings[idx]\n",
        "    print(f\"{word}: {embedding}\")"
      ],
      "metadata": {
        "colab": {
          "base_uri": "https://localhost:8080/"
        },
        "id": "8qK6UvrkdMJV",
        "outputId": "a4acdab3-9599-48e8-8363-e7d83536dfd8"
      },
      "execution_count": null,
      "outputs": [
        {
          "output_type": "stream",
          "name": "stdout",
          "text": [
            "dog: [-0.13837346  0.21321854  0.14672078]\n",
            "cat: [ 0.26301593  0.27006242 -0.22385904]\n",
            "pet: [ 0.25497943  0.270787   -0.29813167]\n",
            "animal: [ 0.25860223  0.25587687 -0.27890342]\n",
            "two: [0.20789154 0.31674227 0.12259838]\n",
            "eyes: [ 0.21021767  0.20105237 -0.25242764]\n",
            "four: [ 0.22399643  0.25267    -0.26798683]\n",
            "legs: [ 0.23858668  0.27797726 -0.21578498]\n",
            "home: [ 0.19539188 -0.10717016  0.08891442]\n"
          ]
        }
      ]
    },
    {
      "cell_type": "code",
      "source": [
        "from sklearn.metrics.pairwise import cosine_similarity\n",
        "# Calculate cosine similarity for \"cat\"\n",
        "target_word = 'cat'\n",
        "# Find the index of the word target_word\n",
        "target_word_index = tokenizer.word_index[target_word]\n",
        "\n",
        "# Get the embedding for the target_word\n",
        "target_word_embedding = word_embeddings[target_word_index]\n",
        "\n",
        "# Calculate cosine similarity with all other words\n",
        "similarities = cosine_similarity(target_word_embedding.reshape(1, -1), word_embeddings)\n",
        "\n",
        "# Display similarity scores for \"cat\"\n",
        "similarity_scores = list(zip(words, similarities[0]))\n",
        "similarity_scores.sort(key=lambda x: x[1], reverse=True)\n",
        "\n",
        "print(f\"Top 5 similar words to 'cat':\")\n",
        "for word, score in similarity_scores[:6]:\n",
        "    print(f\"{word}: {score:.4f}\")"
      ],
      "metadata": {
        "colab": {
          "base_uri": "https://localhost:8080/"
        },
        "id": "1UWyhkFtDhcG",
        "outputId": "7e839732-d75f-45f7-d179-c0a580310d27"
      },
      "execution_count": null,
      "outputs": [
        {
          "output_type": "stream",
          "name": "stdout",
          "text": [
            "Top 5 similar words to 'cat':\n",
            "pet: 1.0000\n",
            "home: 0.9985\n",
            "two: 0.9929\n",
            "legs: 0.9902\n",
            "animal: 0.9901\n",
            "four: 0.9836\n"
          ]
        }
      ]
    },
    {
      "cell_type": "code",
      "source": [
        "import tensorflow as tf\n",
        "import numpy as np\n",
        "import matplotlib.pyplot as plt\n",
        "from sklearn.decomposition import PCA\n",
        "from sklearn.metrics.pairwise import cosine_similarity\n",
        "from matplotlib.colors import Normalize\n",
        "from matplotlib import cm\n",
        "\n",
        "# Calculate cosine similarity for all word pairs\n",
        "similarity_matrix = cosine_similarity(word_embeddings)\n",
        "\n",
        "# Apply PCA for dimensionality reduction\n",
        "pca = PCA(n_components=2)\n",
        "embeddings_2d = pca.fit_transform(word_embeddings)\n",
        "\n",
        "# Display word embeddings in vector space with colors based on cosine similarity\n",
        "plt.figure(figsize=(10, 8))\n",
        "\n",
        "# Use a colormap to map similarity values to colors\n",
        "norm = Normalize(vmin=-1, vmax=1)\n",
        "cmap = cm.get_cmap('viridis')\n",
        "\n",
        "for word, idx in tokenizer.word_index.items():\n",
        "    x, y = embeddings_2d[idx]\n",
        "\n",
        "    # Calculate cosine similarity with a reference word (e.g., 'cat')\n",
        "    reference_word = 'cat'\n",
        "    #reference_idx = word2idx[reference_word]\n",
        "    reference_idx =tokenizer.word_index[reference_word]\n",
        "    similarity_value = similarity_matrix[idx, reference_idx]\n",
        "\n",
        "    # Map similarity value to a color using the colormap\n",
        "    color = cmap(norm(similarity_value))\n",
        "\n",
        "    plt.scatter(x, y, color=color)\n",
        "    plt.text(x, y, word)\n",
        "\n",
        "plt.title('Word Embeddings using PCA with Cosine Similarity Colors')\n",
        "plt.colorbar(cm.ScalarMappable(norm=norm, cmap=cmap), label='Cosine Similarity')\n",
        "plt.show()"
      ],
      "metadata": {
        "colab": {
          "base_uri": "https://localhost:8080/",
          "height": 788
        },
        "id": "kaaBD-d9Duo8",
        "outputId": "afd678d3-0ce0-4f72-ba6b-f219634db2b1"
      },
      "execution_count": null,
      "outputs": [
        {
          "output_type": "stream",
          "name": "stderr",
          "text": [
            "<ipython-input-92-cee11646a286>:21: MatplotlibDeprecationWarning: The get_cmap function was deprecated in Matplotlib 3.7 and will be removed two minor releases later. Use ``matplotlib.colormaps[name]`` or ``matplotlib.colormaps.get_cmap(obj)`` instead.\n",
            "  cmap = cm.get_cmap('viridis')\n",
            "<ipython-input-92-cee11646a286>:39: MatplotlibDeprecationWarning: Unable to determine Axes to steal space for Colorbar. Using gca(), but will raise in the future. Either provide the *cax* argument to use as the Axes for the Colorbar, provide the *ax* argument to steal space from it, or add *mappable* to an Axes.\n",
            "  plt.colorbar(cm.ScalarMappable(norm=norm, cmap=cmap), label='Cosine Similarity')\n"
          ]
        },
        {
          "output_type": "display_data",
          "data": {
            "text/plain": [
              "<Figure size 1000x800 with 2 Axes>"
            ],
            "image/png": "[encoded data removed]"
          },
          "metadata": {}
        }
      ]
    },
    {
      "cell_type": "markdown",
      "source": [
        "![image.png](data:image/png;base64,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)"
      ],
      "metadata": {
        "id": "rks_R_AvB4aD"
      }
    }
  ]
}