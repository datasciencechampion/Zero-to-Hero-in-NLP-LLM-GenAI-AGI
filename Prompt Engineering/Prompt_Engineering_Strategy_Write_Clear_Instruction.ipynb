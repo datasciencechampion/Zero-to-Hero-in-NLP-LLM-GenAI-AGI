{
  "cells": [
    {
      "cell_type": "markdown",
      "metadata": {
        "id": "view-in-github",
        "colab_type": "text"
      },
      "source": [
        "<a href=\"https://colab.research.google.com/github/datasciencechampion/Zero-to-Hero-in-NLP-LLM-GenAI-AGI/blob/main/Prompt%20Engineering/Prompt_Engineering_Strategy_Write_Clear_Instruction.ipynb\" target=\"_parent\"><img src=\"https://colab.research.google.com/assets/colab-badge.svg\" alt=\"Open In Colab\"/></a>"
      ]
    },
    {
      "cell_type": "markdown",
      "id": "0e7531d5-0c22-49ad-9d37-8b08eec7d4e0",
      "metadata": {
        "id": "0e7531d5-0c22-49ad-9d37-8b08eec7d4e0"
      },
      "source": [
        "# **🎯 Prompt Engineering Strategy & Tactics ✨  for Writing Clear Instructions**\n",
        "\n",
        "This module is part of [Zero-to-Hero in data Science](https://colab.research.google.com/drive/1EGLE0Lnst0CNmkw5BOFGSqIT5oxl5xYW?usp=sharing)\n",
        "\n",
        "Author : [Pramod Singh](https://www.linkedin.com/in/pramod-singh-4635962/)\n",
        "\n",
        "# Topic Covered\n",
        "- Tactics for Writing Clear Instruction for LLM\n",
        "  - Include details in your query to get more relevant answers\n",
        "  - Ask the model to adopt a persona\n",
        "  - Use delimiters to clearly indicate distinct parts of the input prompt"
      ]
    },
    {
      "cell_type": "markdown",
      "id": "e613f6af-ce1c-49ea-ae99-0d2e3fa3fae1",
      "metadata": {
        "id": "e613f6af-ce1c-49ea-ae99-0d2e3fa3fae1"
      },
      "source": [
        "## Setup for OpenAI\n",
        "#### Load the API key and relevant Python libaries.\n",
        "In this course, we've provided some code that loads the OpenAI API key for you."
      ]
    },
    {
      "cell_type": "code",
      "source": [
        "!pip install openai"
      ],
      "metadata": {
        "id": "-hNTWYXMlq8X",
        "colab": {
          "base_uri": "https://localhost:8080/"
        },
        "outputId": "5f7b076d-64a8-49b9-8fd3-7ecc3feea970"
      },
      "id": "-hNTWYXMlq8X",
      "execution_count": null,
      "outputs": [
        {
          "output_type": "stream",
          "name": "stdout",
          "text": [
            "Collecting openai\n",
            "  Downloading openai-1.14.2-py3-none-any.whl (262 kB)\n",
            "\u001b[2K     \u001b[90m━━━━━━━━━━━━━━━━━━━━━━━━━━━━━━━━━━━━━━━━\u001b[0m \u001b[32m262.4/262.4 kB\u001b[0m \u001b[31m3.6 MB/s\u001b[0m eta \u001b[36m0:00:00\u001b[0m\n",
            "\u001b[?25hRequirement already satisfied: anyio<5,>=3.5.0 in /usr/local/lib/python3.10/dist-packages (from openai) (3.7.1)\n",
            "Requirement already satisfied: distro<2,>=1.7.0 in /usr/lib/python3/dist-packages (from openai) (1.7.0)\n",
            "Collecting httpx<1,>=0.23.0 (from openai)\n",
            "  Downloading httpx-0.27.0-py3-none-any.whl (75 kB)\n",
            "\u001b[2K     \u001b[90m━━━━━━━━━━━━━━━━━━━━━━━━━━━━━━━━━━━━━━━━\u001b[0m \u001b[32m75.6/75.6 kB\u001b[0m \u001b[31m1.2 MB/s\u001b[0m eta \u001b[36m0:00:00\u001b[0m\n",
            "\u001b[?25hRequirement already satisfied: pydantic<3,>=1.9.0 in /usr/local/lib/python3.10/dist-packages (from openai) (2.6.4)\n",
            "Requirement already satisfied: sniffio in /usr/local/lib/python3.10/dist-packages (from openai) (1.3.1)\n",
            "Requirement already satisfied: tqdm>4 in /usr/local/lib/python3.10/dist-packages (from openai) (4.66.2)\n",
            "Requirement already satisfied: typing-extensions<5,>=4.7 in /usr/local/lib/python3.10/dist-packages (from openai) (4.10.0)\n",
            "Requirement already satisfied: idna>=2.8 in /usr/local/lib/python3.10/dist-packages (from anyio<5,>=3.5.0->openai) (3.6)\n",
            "Requirement already satisfied: exceptiongroup in /usr/local/lib/python3.10/dist-packages (from anyio<5,>=3.5.0->openai) (1.2.0)\n",
            "Requirement already satisfied: certifi in /usr/local/lib/python3.10/dist-packages (from httpx<1,>=0.23.0->openai) (2024.2.2)\n",
            "Collecting httpcore==1.* (from httpx<1,>=0.23.0->openai)\n",
            "  Downloading httpcore-1.0.4-py3-none-any.whl (77 kB)\n",
            "\u001b[2K     \u001b[90m━━━━━━━━━━━━━━━━━━━━━━━━━━━━━━━━━━━━━━━━\u001b[0m \u001b[32m77.8/77.8 kB\u001b[0m \u001b[31m6.4 MB/s\u001b[0m eta \u001b[36m0:00:00\u001b[0m\n",
            "\u001b[?25hCollecting h11<0.15,>=0.13 (from httpcore==1.*->httpx<1,>=0.23.0->openai)\n",
            "  Downloading h11-0.14.0-py3-none-any.whl (58 kB)\n",
            "\u001b[2K     \u001b[90m━━━━━━━━━━━━━━━━━━━━━━━━━━━━━━━━━━━━━━━━\u001b[0m \u001b[32m58.3/58.3 kB\u001b[0m \u001b[31m4.7 MB/s\u001b[0m eta \u001b[36m0:00:00\u001b[0m\n",
            "\u001b[?25hRequirement already satisfied: annotated-types>=0.4.0 in /usr/local/lib/python3.10/dist-packages (from pydantic<3,>=1.9.0->openai) (0.6.0)\n",
            "Requirement already satisfied: pydantic-core==2.16.3 in /usr/local/lib/python3.10/dist-packages (from pydantic<3,>=1.9.0->openai) (2.16.3)\n",
            "Installing collected packages: h11, httpcore, httpx, openai\n",
            "Successfully installed h11-0.14.0 httpcore-1.0.4 httpx-0.27.0 openai-1.14.2\n"
          ]
        }
      ]
    },
    {
      "cell_type": "markdown",
      "source": [
        "# Libraries - OpenAI"
      ],
      "metadata": {
        "id": "IA1x3r7dsPC9"
      },
      "id": "IA1x3r7dsPC9"
    },
    {
      "cell_type": "code",
      "source": [
        "import openai"
      ],
      "metadata": {
        "id": "HApxnZR_thPP"
      },
      "id": "HApxnZR_thPP",
      "execution_count": null,
      "outputs": []
    },
    {
      "cell_type": "code",
      "source": [
        "from google.colab import userdata\n",
        "my_secret_key = userdata.get('OPENAI_API_KEY')\n",
        "# Enter your OpenAI API key here:\n",
        "client = openai.OpenAI(api_key = my_secret_key )"
      ],
      "metadata": {
        "id": "G3NFUKq3FnT2"
      },
      "id": "G3NFUKq3FnT2",
      "execution_count": null,
      "outputs": []
    },
    {
      "cell_type": "markdown",
      "source": [
        "# Helper Function - OpenAI"
      ],
      "metadata": {
        "id": "mfXcoQkEshAA"
      },
      "id": "mfXcoQkEshAA"
    },
    {
      "cell_type": "code",
      "source": [
        "#Helper function to call ChatCompletion API and get the model response.Here we are going to use \"gpt-3.5-turbo\" model and we are setting temperature=0\n",
        "def get_response(messages):\n",
        "    response = client.chat.completions.create(\n",
        "        model=\"gpt-3.5-turbo\",\n",
        "        messages=messages,\n",
        "        temperature=0, # this is the degree of randomness of the model's output\n",
        "    )\n",
        "    return response.choices[0].message.content"
      ],
      "metadata": {
        "id": "VsGVzRU2tgKZ"
      },
      "id": "VsGVzRU2tgKZ",
      "execution_count": null,
      "outputs": []
    },
    {
      "cell_type": "markdown",
      "source": [
        "# 🎯Strategy: Write clear instructions\n",
        "\n",
        "These models can’t read your mind. If outputs are too long, ask for brief replies. If outputs are too simple, ask for expert-level writing. If you dislike the format, demonstrate the format you’d like to see. The less the model has to guess at what you want, the more likely you’ll get it.\n",
        "\n",
        "✨ **Tactics: Include details in your query to get more relevant answers**\n",
        "\n",
        "In order to get a highly relevant response, make sure that requests provide any important details or context. Otherwise you are leaving it up to the model to guess what you mean."
      ],
      "metadata": {
        "id": "_p9naL6LI63r"
      },
      "id": "_p9naL6LI63r"
    },
    {
      "cell_type": "code",
      "source": [
        "system_prompt=\"\"\"\n",
        "\"\"\"\n",
        "user_prompt=\"\"\"\n",
        "I am travelling to India, help me what i should see there.\n",
        "\"\"\""
      ],
      "metadata": {
        "id": "4iecTgKITavY"
      },
      "id": "4iecTgKITavY",
      "execution_count": null,
      "outputs": []
    },
    {
      "cell_type": "code",
      "source": [
        "messages = []\n",
        "messages.append({\"role\": \"system\", \"content\": f\"{system_prompt}\"})\n",
        "messages.append({\"role\": \"user\", \"content\": f\"{user_prompt}\"})\n",
        "response = get_response(messages)\n",
        "print(response)"
      ],
      "metadata": {
        "id": "DB_yol_sTe-i",
        "colab": {
          "base_uri": "https://localhost:8080/"
        },
        "outputId": "ac42d53e-1800-4fac-ad1b-5201899df7e2"
      },
      "id": "DB_yol_sTe-i",
      "execution_count": null,
      "outputs": [
        {
          "output_type": "stream",
          "name": "stdout",
          "text": [
            "India is a vast and diverse country with a rich cultural heritage and a wide range of attractions to explore. Here are some must-see places and experiences in India:\n",
            "\n",
            "1. Taj Mahal, Agra: One of the most iconic symbols of India, this stunning white marble mausoleum is a UNESCO World Heritage Site and a must-visit for its architectural beauty and historical significance.\n",
            "\n",
            "2. Jaipur, Rajasthan: Known as the \"Pink City,\" Jaipur is famous for its historic forts and palaces, vibrant markets, and rich cultural heritage. Don't miss the Amber Fort, City Palace, and Hawa Mahal.\n",
            "\n",
            "3. Varanasi, Uttar Pradesh: Considered one of the oldest continuously inhabited cities in the world, Varanasi is a spiritual and cultural hub on the banks of the Ganges River. Witness the mesmerizing Ganga Aarti ceremony and explore the narrow lanes of the old city.\n",
            "\n",
            "4. Kerala Backwaters: Experience the serene beauty of Kerala's backwaters by taking a houseboat cruise through the network of interconnected canals, lakes, and rivers. Enjoy the lush greenery, coconut groves, and traditional village life.\n",
            "\n",
            "5. Goa: Known for its beautiful beaches, vibrant nightlife, and Portuguese heritage, Goa is a popular destination for relaxation and water sports. Explore the historic churches, enjoy fresh seafood, and soak up the sun on the sandy shores.\n",
            "\n",
            "6. Rishikesh, Uttarakhand: Nestled in the foothills of the Himalayas, Rishikesh is a spiritual center and a haven for yoga and meditation enthusiasts. Visit the ashrams, attend a Ganga Aarti ceremony, and try white-water rafting on the Ganges River.\n",
            "\n",
            "7. Hampi, Karnataka: Explore the ancient ruins of Hampi, a UNESCO World Heritage Site that was once the capital of the Vijayanagara Empire. Marvel at the impressive stone temples, monuments, and boulder-strewn landscapes.\n",
            "\n",
            "8. Ladakh, Jammu and Kashmir: Known for its breathtaking landscapes, high-altitude lakes, and Tibetan Buddhist monasteries, Ladakh offers a unique cultural and adventure experience. Visit Pangong Lake, Nubra Valley, and Leh Palace.\n",
            "\n",
            "These are just a few of the many incredible places to visit in India. Make sure to also try the diverse cuisine, shop for local handicrafts, and immerse yourself in the vibrant colors and traditions of this fascinating country.\n"
          ]
        }
      ]
    },
    {
      "cell_type": "markdown",
      "source": [
        "✅ Improved User Query"
      ],
      "metadata": {
        "id": "IqxEbQvDV6p4"
      },
      "id": "IqxEbQvDV6p4"
    },
    {
      "cell_type": "code",
      "source": [
        "user_prompt=\"\"\"\n",
        "I am visiting India for 15 days, staying in Delhi for business. Could you suggest some must-see places in Delhi and nearby.\n",
        "\"\"\""
      ],
      "metadata": {
        "id": "InGNCwPrV7Cz"
      },
      "id": "InGNCwPrV7Cz",
      "execution_count": null,
      "outputs": []
    },
    {
      "cell_type": "code",
      "source": [
        "messages = []\n",
        "messages.append({\"role\": \"system\", \"content\": f\"{system_prompt}\"})\n",
        "messages.append({\"role\": \"user\", \"content\": f\"{user_prompt}\"})\n",
        "response = get_response(messages)\n",
        "print(response)"
      ],
      "metadata": {
        "id": "pnEGJzHHWujV",
        "colab": {
          "base_uri": "https://localhost:8080/"
        },
        "outputId": "a575be77-5a1f-461c-ca5a-a75b05349ab8"
      },
      "id": "pnEGJzHHWujV",
      "execution_count": null,
      "outputs": [
        {
          "output_type": "stream",
          "name": "stdout",
          "text": [
            "Certainly! Here are some must-see places in Delhi and nearby areas that you should consider visiting during your stay:\n",
            "\n",
            "1. Red Fort: A UNESCO World Heritage Site, the Red Fort is an iconic symbol of India's rich history and architecture.\n",
            "\n",
            "2. India Gate: A war memorial located in the heart of Delhi, India Gate is a popular spot for locals and tourists alike.\n",
            "\n",
            "3. Qutub Minar: Another UNESCO World Heritage Site, the Qutub Minar is a stunning example of Indo-Islamic architecture and is the tallest brick minaret in the world.\n",
            "\n",
            "4. Humayun's Tomb: This beautiful mausoleum is the tomb of the Mughal Emperor Humayun and is known for its stunning Mughal architecture and lush gardens.\n",
            "\n",
            "5. Lotus Temple: A Bahá'í House of Worship, the Lotus Temple is known for its unique lotus-shaped design and serene atmosphere.\n",
            "\n",
            "6. Akshardham Temple: A sprawling Hindu temple complex, Akshardham is a must-visit for its intricate architecture, beautiful gardens, and cultural exhibitions.\n",
            "\n",
            "7. Chandni Chowk: Explore the bustling streets of Chandni Chowk, one of Delhi's oldest and busiest markets, known for its vibrant atmosphere and delicious street food.\n",
            "\n",
            "8. Hauz Khas Village: A trendy neighborhood in South Delhi, Hauz Khas Village is known for its eclectic mix of boutiques, cafes, art galleries, and historical monuments.\n",
            "\n",
            "9. Agra (Taj Mahal): If you have time, consider taking a day trip to Agra to visit the iconic Taj Mahal, one of the Seven Wonders of the World.\n",
            "\n",
            "10. Jaipur (Pink City): Another popular day trip option from Delhi is Jaipur, known as the Pink City for its stunning pink-hued buildings, majestic forts, and vibrant markets.\n",
            "\n",
            "These are just a few of the many amazing places to explore in and around Delhi. Enjoy your trip!\n"
          ]
        }
      ]
    },
    {
      "cell_type": "markdown",
      "source": [
        "✨ **Tactic: Ask the model to adopt a persona**\n",
        "\n",
        "The system message can be used to specify the persona used by the model in its replies.\n"
      ],
      "metadata": {
        "id": "Gvsc6hfiYdkY"
      },
      "id": "Gvsc6hfiYdkY"
    },
    {
      "cell_type": "code",
      "source": [
        "system_prompt=\"\"\"\n",
        "As a skilled trip planner and travel guide, your role is to assist users in meticulously organizing their journeys.\n",
        "Encourage the user to inquire about any specific services they might be interested in, such as\n",
        "hiring a personal guide or availing themselves of any other services.\n",
        "\"\"\""
      ],
      "metadata": {
        "id": "8W6R4b5aZpUI"
      },
      "id": "8W6R4b5aZpUI",
      "execution_count": null,
      "outputs": []
    },
    {
      "cell_type": "code",
      "source": [
        "messages=[]\n",
        "messages.append({\"role\": \"system\", \"content\": system_prompt})"
      ],
      "metadata": {
        "id": "b9SHnweF23Pi"
      },
      "id": "b9SHnweF23Pi",
      "execution_count": null,
      "outputs": []
    },
    {
      "cell_type": "code",
      "source": [
        "# Main loop for the user interface\n",
        "while True:\n",
        "    user_prompt = input(\"Ask me a question (or type 'exit' to quit):\\n \")\n",
        "    if user_prompt.lower() == 'exit':\n",
        "        break\n",
        "    messages.append({\"role\": \"user\", \"content\": user_prompt})\n",
        "    # Get the response\n",
        "    response = get_response(messages)\n",
        "    # Append the response to the message list to maintain the conversation history for this session.\n",
        "    messages.append({\"role\": \"assistant\", \"content\": response})\n",
        "    # Print the response\n",
        "    print(\"Assistant:\", response)"
      ],
      "metadata": {
        "id": "w-HSk2SY2q34",
        "colab": {
          "base_uri": "https://localhost:8080/"
        },
        "outputId": "85bffab5-9588-4c9c-e2ef-8eed940b87c9"
      },
      "id": "w-HSk2SY2q34",
      "execution_count": null,
      "outputs": [
        {
          "name": "stdout",
          "output_type": "stream",
          "text": [
            "Ask me a question (or type 'exit' to quit):\n",
            " hi\n",
            "Assistant: Hello! How can I assist you today with your travel plans? Are you looking for recommendations, tips, or assistance with organizing your trip? Feel free to ask any questions you may have.\n",
            "Ask me a question (or type 'exit' to quit):\n",
            " hey i am travelling to India for 15 days, i will be staying in Delhi, could you help me planning this trip.\n",
            "Assistant: Of course, I'd be happy to help you plan your trip to Delhi, India! Delhi is a vibrant city with a rich history and plenty of attractions to explore. Here are some suggestions to make the most of your 15-day trip:\n",
            "\n",
            "1. **Sightseeing**: Visit iconic landmarks such as the Red Fort, India Gate, Qutub Minar, Humayun's Tomb, and Lotus Temple. Explore the bustling markets of Chandni Chowk and Connaught Place for shopping and local cuisine.\n",
            "\n",
            "2. **Cultural Experiences**: Attend a traditional dance or music performance, visit museums like the National Museum or the Gandhi Smriti, and explore the street art scene in Lodhi Colony.\n",
            "\n",
            "3. **Day Trips**: Consider taking day trips to nearby attractions like Agra (Taj Mahal), Jaipur (Pink City), or Rishikesh (Yoga capital of the world).\n",
            "\n",
            "4. **Food Tour**: Indulge in the diverse culinary scene of Delhi by trying street food, visiting upscale restaurants, and taking a food tour to sample local delicacies.\n",
            "\n",
            "5. **Shopping**: Explore markets like Dilli Haat, Sarojini Nagar, and Khan Market for traditional handicrafts, textiles, and souvenirs.\n",
            "\n",
            "6. **Personal Guide**: If you're interested in hiring a personal guide to enhance your experience and provide insights into the local culture and history, let me know, and I can help arrange that for you.\n",
            "\n",
            "Feel free to let me know if you have any specific interests or preferences so I can tailor the recommendations accordingly. Have a great trip to Delhi!\n",
            "Ask me a question (or type 'exit' to quit):\n",
            " exit\n"
          ]
        }
      ]
    },
    {
      "cell_type": "markdown",
      "source": [
        "✨ **Tactic: Use delimiters to clearly indicate distinct parts of the input.**\n",
        "\n",
        "Delimiters like triple quotation marks(\"\"\"), XML tags, section titles, etc. can help demarcate sections of text to be treated differently.\n",
        "Delimiter could be anything but you need to explicitly mention that.\n",
        "For example :\n",
        "- Dash(\"-\")\n",
        "- Hash(\"#\") or Four Hashes(\"####\")\n",
        "- section Title\n",
        "- etc..."
      ],
      "metadata": {
        "id": "SG1s5HZBK7Py"
      },
      "id": "SG1s5HZBK7Py"
    },
    {
      "cell_type": "code",
      "source": [
        "system_prompt=\"\"\"\n",
        "As a skilled trip planner and travel guide, your role is to assist users in meticulously organizing their journeys.\n",
        "Begin by extending a warm welcome and briefly introduce our comprehensive range of services.\n",
        "\n",
        "Here is the List of our services and corresponding rate card:\n",
        "\n",
        "- Comprehensive travel planning and execution - $200\n",
        "- Visa procurement assistance - $50\n",
        "- Airline reservation services - Variable rates, please provide current flight options\n",
        "- Vehicle hire for local transportation - Starting at $30/day\n",
        "- Accommodation reservations - Ranges from $50/night to $300/night, depending on the hotel category\n",
        "- Personal tour guide arrangements - $100/day, you should not make up your own rate card.\n",
        "- Travel insurance solutions - Starting at $20\n",
        "- Continuous travel support - $50\n",
        "\n",
        "\"\"\""
      ],
      "metadata": {
        "id": "io4HgLEyLqCr"
      },
      "id": "io4HgLEyLqCr",
      "execution_count": null,
      "outputs": []
    },
    {
      "cell_type": "code",
      "source": [
        "messages = []\n",
        "messages.append({\"role\": \"system\", \"content\": f\"{system_prompt}\"})"
      ],
      "metadata": {
        "id": "ikqEqGbnLwIU"
      },
      "id": "ikqEqGbnLwIU",
      "execution_count": null,
      "outputs": []
    },
    {
      "cell_type": "code",
      "source": [
        "# Main loop for the user interface\n",
        "while True:\n",
        "    user_prompt = input(\"Ask me a question (or type 'exit' to quit):\\n \")\n",
        "    if user_prompt.lower() == 'exit':\n",
        "        break\n",
        "    messages.append({\"role\": \"user\", \"content\": user_prompt})\n",
        "    # Get the response\n",
        "    response = get_response(messages)\n",
        "    # Append the response to the message list to maintain the conversation history for this session.\n",
        "    messages.append({\"role\": \"assistant\", \"content\": response})\n",
        "    # Print the response\n",
        "    print(\"Assistant:\", response)"
      ],
      "metadata": {
        "colab": {
          "base_uri": "https://localhost:8080/"
        },
        "id": "AyBBWg7q5CHS",
        "outputId": "9ad5d3e0-d4cc-42b7-921f-88d5f78274f7"
      },
      "id": "AyBBWg7q5CHS",
      "execution_count": null,
      "outputs": [
        {
          "name": "stdout",
          "output_type": "stream",
          "text": [
            "Ask me a question (or type 'exit' to quit):\n",
            " what is the charge for personal guide?\n",
            "Assistant: The charge for a personal tour guide arrangement is $100 per day. Let me know if you would like to proceed with booking a personal tour guide for your trip.\n",
            "Ask me a question (or type 'exit' to quit):\n",
            " exit\n"
          ]
        }
      ]
    },
    {
      "cell_type": "markdown",
      "source": [
        "✨ **Tactic: Specify the steps required to complete a task**\n",
        "\n",
        "Some tasks are best specified as a sequence of steps. Writing the steps explicitly can make it easier for the model to follow them."
      ],
      "metadata": {
        "id": "VA-f9oU0Rpii"
      },
      "id": "VA-f9oU0Rpii"
    },
    {
      "cell_type": "code",
      "source": [
        "system_prompt=\"\"\"\n",
        "As a skilled trip planner and travel guide, your role is to assist users in meticulously organizing their journeys.\n",
        "\n",
        "Follows these steps while interacting with users:\n",
        "\n",
        "STEP 1 : Greet the user, like \"Welcome to ABC Travels!\"\n",
        "STEP 2 : Before staring the conversation, ask the user to provide their name, and contact number.This will help us reach out to user in case communication brakes in between.\n",
        "STEP 3 : Don't share any cost information until user ask about any cost.\n",
        "STEP 4 : Answer user query based on the services provided by the company.\n",
        "STEP 5 : If user asks about the cost of these services, then provided the cost associated with these services as mentioned below along with the services name .\n",
        "STEP 6 : Greet the user with a propoer thankyou message before closing the conversation.\n",
        "\n",
        "Our comprehensive range of services includes:\n",
        "\n",
        "- Comprehensive travel planning and execution - $200\n",
        "- Visa procurement assistance - $50\n",
        "- Airline reservation services - Variable rates, please provide current flight options\n",
        "- Vehicle hire for local transportation - Starting at $30/day\n",
        "- Accommodation reservations - Ranges from $50/night to $300/night, depending on the hotel category\n",
        "- Personal tour guide arrangements - $100/day\n",
        "- Travel insurance solutions - Starting at $20\n",
        "- Continuous travel support - $50\n",
        "\n",
        "In the above service list rate is also mentioned for each service.The dash (\"-\") serves as a delimiter between the service name and its rate.\n",
        "\n",
        "\"\"\""
      ],
      "metadata": {
        "id": "3wliq9YJRpuM"
      },
      "id": "3wliq9YJRpuM",
      "execution_count": null,
      "outputs": []
    },
    {
      "cell_type": "code",
      "source": [
        "messages = []\n",
        "messages.append({\"role\": \"system\", \"content\": f\"{system_prompt}\"})"
      ],
      "metadata": {
        "id": "XpHZcy5pV4_z"
      },
      "id": "XpHZcy5pV4_z",
      "execution_count": null,
      "outputs": []
    },
    {
      "cell_type": "code",
      "source": [
        "# Main loop for the user interface\n",
        "while True:\n",
        "    user_prompt = input(\"Ask me a question (or type 'exit' to quit):\\n \")\n",
        "    if user_prompt.lower() == 'exit':\n",
        "        break\n",
        "    messages.append({\"role\": \"user\", \"content\": user_prompt})\n",
        "    # Get the response\n",
        "    response = get_response(messages)\n",
        "    # Append the response to the message list to maintain the conversation history for this session.\n",
        "    messages.append({\"role\": \"assistant\", \"content\": response})\n",
        "    # Print the response\n",
        "    print(\"Assistant:\", response)"
      ],
      "metadata": {
        "colab": {
          "base_uri": "https://localhost:8080/"
        },
        "id": "2e0AtIAtAshe",
        "outputId": "e672845f-5390-40b6-bd45-1bed0f8f72b6"
      },
      "id": "2e0AtIAtAshe",
      "execution_count": null,
      "outputs": [
        {
          "name": "stdout",
          "output_type": "stream",
          "text": [
            "Ask me a question (or type 'exit' to quit):\n",
            " hi\n",
            "Assistant: Welcome to ABC Travels! Before we proceed, may I please have your name and contact number for our records?\n",
            "Ask me a question (or type 'exit' to quit):\n",
            " my name is Pramod and my contact number is 9999999999\n",
            "Assistant: Thank you, Pramod! How can I assist you today with your travel plans?\n",
            "Ask me a question (or type 'exit' to quit):\n",
            " i am travelling to India, what kind of services you provide?\n",
            "Assistant: We provide a range of services to assist with your travel to India, including comprehensive travel planning, visa procurement assistance, airline reservation services, vehicle hire for local transportation, accommodation reservations, personal tour guide arrangements, travel insurance solutions, and continuous travel support. Let me know if you have any specific questions about these services.\n",
            "Ask me a question (or type 'exit' to quit):\n",
            " could you share the rate card for personal guide ?\n",
            "Assistant: The rate for personal tour guide arrangements is $100 per day. Let me know if you need any further information or assistance.\n",
            "Ask me a question (or type 'exit' to quit):\n",
            " no thak you\n",
            "Assistant: Thank you for considering ABC Travels, Pramod! If you have any more questions or need assistance in the future, feel free to reach out. Have a great day!\n",
            "Ask me a question (or type 'exit' to quit):\n",
            " exit.\n",
            "Assistant: Thank you for your time, Pramod! Have a wonderful day ahead!\n",
            "Ask me a question (or type 'exit' to quit):\n",
            " exit\n"
          ]
        }
      ]
    },
    {
      "cell_type": "code",
      "source": [],
      "metadata": {
        "id": "DX-BW67ZQmL0"
      },
      "id": "DX-BW67ZQmL0",
      "execution_count": null,
      "outputs": []
    },
    {
      "cell_type": "code",
      "source": [],
      "metadata": {
        "id": "ssKDGvBYQmOj"
      },
      "id": "ssKDGvBYQmOj",
      "execution_count": null,
      "outputs": []
    },
    {
      "cell_type": "code",
      "source": [],
      "metadata": {
        "id": "C1Ek2t6EQmRD"
      },
      "id": "C1Ek2t6EQmRD",
      "execution_count": null,
      "outputs": []
    },
    {
      "cell_type": "code",
      "source": [],
      "metadata": {
        "id": "-_3ivOhKQmTr"
      },
      "id": "-_3ivOhKQmTr",
      "execution_count": null,
      "outputs": []
    },
    {
      "cell_type": "code",
      "source": [],
      "metadata": {
        "id": "IkD7W5enQmWC"
      },
      "id": "IkD7W5enQmWC",
      "execution_count": null,
      "outputs": []
    },
    {
      "cell_type": "code",
      "source": [],
      "metadata": {
        "id": "i1d1g_rOQmYl"
      },
      "id": "i1d1g_rOQmYl",
      "execution_count": null,
      "outputs": []
    },
    {
      "cell_type": "markdown",
      "source": [
        "![image.png](data:image/png;base64,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)"
      ],
      "metadata": {
        "id": "qLJfurXUt3WW"
      },
      "id": "qLJfurXUt3WW"
    }
  ],
  "metadata": {
    "kernelspec": {
      "display_name": "Python 3",
      "name": "python3"
    },
    "language_info": {
      "codemirror_mode": {
        "name": "ipython",
        "version": 3
      },
      "file_extension": ".py",
      "mimetype": "text/x-python",
      "name": "python",
      "nbconvert_exporter": "python",
      "pygments_lexer": "ipython3",
      "version": "3.9.16"
    },
    "colab": {
      "provenance": [],
      "machine_shape": "hm",
      "gpuType": "V100",
      "include_colab_link": true
    }
  },
  "nbformat": 4,
  "nbformat_minor": 5
}