{
  "nbformat": 4,
  "nbformat_minor": 0,
  "metadata": {
    "colab": {
      "provenance": [],
      "authorship_tag": "ABX9TyMGB/xiLkYFHEp53NEN1VWu",
      "include_colab_link": true
    },
    "kernelspec": {
      "name": "python3",
      "display_name": "Python 3"
    },
    "language_info": {
      "name": "python"
    }
  },
  "cells": [
    {
      "cell_type": "markdown",
      "metadata": {
        "id": "view-in-github",
        "colab_type": "text"
      },
      "source": [
        "<a href=\"https://colab.research.google.com/github/datasciencechampion/Zero-to-Hero-in-NLP-LLM-GenAI-AGI/blob/main/Python/Python_Basics.ipynb\" target=\"_parent\"><img src=\"https://colab.research.google.com/assets/colab-badge.svg\" alt=\"Open In Colab\"/></a>"
      ]
    },
    {
      "cell_type": "markdown",
      "source": [
        "# **Python Basics**\n",
        "\n",
        "This module is part of [Zero-to-Hero in data Science](https://colab.research.google.com/drive/1EGLE0Lnst0CNmkw5BOFGSqIT5oxl5xYW?usp=sharing)\n",
        "\n",
        "Author : [Pramod Singh](https://www.linkedin.com/in/pramod-singh-4635962/)\n",
        "\n",
        "# Topic Covered\n",
        "- Variables & Types\n",
        "- Operators - Arithmetic, String, Conditional, Boolean\n",
        "- Loops : if, for, while, break, continue\n",
        "- print statement\n",
        "- Functions\n",
        "- Class & Objects\n",
        "- Various use of Underscores\n",
        "- with statement\n",
        "\n",
        "\n"
      ],
      "metadata": {
        "id": "akVTClYhKe-Z"
      }
    },
    {
      "cell_type": "markdown",
      "source": [
        "# **Variables & Types**"
      ],
      "metadata": {
        "id": "NJfC2kv6_vSJ"
      }
    },
    {
      "cell_type": "markdown",
      "source": [
        "## Numbers"
      ],
      "metadata": {
        "id": "DTHjkHN3IZdW"
      }
    },
    {
      "cell_type": "code",
      "source": [
        "myint = 70\n",
        "print(myint)\n",
        "myfloat = 75.0\n",
        "print(myfloat)\n",
        "myfloat = float(83)\n",
        "print(myfloat)"
      ],
      "metadata": {
        "colab": {
          "base_uri": "https://localhost:8080/"
        },
        "id": "GTpXyfE4IZlj",
        "outputId": "ae301b34-1ae8-4712-c325-da278a144929"
      },
      "execution_count": null,
      "outputs": [
        {
          "output_type": "stream",
          "name": "stdout",
          "text": [
            "70\n",
            "75.0\n",
            "83.0\n"
          ]
        }
      ]
    },
    {
      "cell_type": "markdown",
      "source": [
        "# Strings\n",
        "\n",
        "Strings are defined either with a single quote or a double quotes."
      ],
      "metadata": {
        "id": "i-brrDkyIZtI"
      }
    },
    {
      "cell_type": "code",
      "source": [
        "mystring = 'hello'\n",
        "print(mystring)\n",
        "mystring = \"hello\"\n",
        "print(mystring)"
      ],
      "metadata": {
        "colab": {
          "base_uri": "https://localhost:8080/"
        },
        "id": "_GU5KCKaIZ0r",
        "outputId": "82646765-99bc-43e7-b7d9-a7ca1de344ee"
      },
      "execution_count": null,
      "outputs": [
        {
          "output_type": "stream",
          "name": "stdout",
          "text": [
            "hello\n",
            "hello\n"
          ]
        }
      ]
    },
    {
      "cell_type": "markdown",
      "source": [
        "## Assigning multiple variable \"simultaneously\" on the same line"
      ],
      "metadata": {
        "id": "NXc7GijJJC4i"
      }
    },
    {
      "cell_type": "code",
      "source": [
        "a, b = 3, 4\n",
        "print(a, b)"
      ],
      "metadata": {
        "colab": {
          "base_uri": "https://localhost:8080/"
        },
        "id": "YPKw51KLJDAy",
        "outputId": "7afd8096-b936-4885-ae63-db9f0f90c309"
      },
      "execution_count": null,
      "outputs": [
        {
          "output_type": "stream",
          "name": "stdout",
          "text": [
            "3 4\n"
          ]
        }
      ]
    },
    {
      "cell_type": "code",
      "source": [],
      "metadata": {
        "id": "B5bqtI_Z_6rF"
      },
      "execution_count": null,
      "outputs": []
    },
    {
      "cell_type": "markdown",
      "source": [
        "# **Operators**"
      ],
      "metadata": {
        "id": "MJI9FUuG_vU1"
      }
    },
    {
      "cell_type": "markdown",
      "source": [
        "## Arithmetic Operators"
      ],
      "metadata": {
        "id": "CA6WomOABJVd"
      }
    },
    {
      "cell_type": "code",
      "source": [
        "number = 1 + 2 * 3 / 4.0\n",
        "print(number)"
      ],
      "metadata": {
        "colab": {
          "base_uri": "https://localhost:8080/"
        },
        "id": "BRZvZPPf__sk",
        "outputId": "d4f7b6c8-b8d4-457b-aba5-802e7c539169"
      },
      "execution_count": null,
      "outputs": [
        {
          "output_type": "stream",
          "name": "stdout",
          "text": [
            "2.5\n"
          ]
        }
      ]
    },
    {
      "cell_type": "code",
      "source": [
        "remainder = 11 % 3\n",
        "print(remainder)"
      ],
      "metadata": {
        "colab": {
          "base_uri": "https://localhost:8080/"
        },
        "id": "Du2YIuUsBAza",
        "outputId": "8c03073c-7dd1-422d-901d-650c99fedd12"
      },
      "execution_count": null,
      "outputs": [
        {
          "output_type": "stream",
          "name": "stdout",
          "text": [
            "2\n"
          ]
        }
      ]
    },
    {
      "cell_type": "code",
      "source": [
        "squared = 7 ** 2\n",
        "cubed = 2 ** 3\n",
        "print(squared)\n",
        "print(cubed)"
      ],
      "metadata": {
        "colab": {
          "base_uri": "https://localhost:8080/"
        },
        "id": "gM316MIABA7b",
        "outputId": "49789064-053e-4b41-e9ab-a284474c05a8"
      },
      "execution_count": null,
      "outputs": [
        {
          "output_type": "stream",
          "name": "stdout",
          "text": [
            "49\n",
            "8\n"
          ]
        }
      ]
    },
    {
      "cell_type": "markdown",
      "source": [
        "## Using arithmetic Operators with Strings"
      ],
      "metadata": {
        "id": "3gvQYpZLGwX4"
      }
    },
    {
      "cell_type": "code",
      "source": [
        "helloworld = \"hello\" + \" \" + \"world\"\n",
        "print(helloworld)"
      ],
      "metadata": {
        "colab": {
          "base_uri": "https://localhost:8080/"
        },
        "id": "YU-jW0b-Gwg0",
        "outputId": "361317f1-a8a0-477c-f20c-b843071586af"
      },
      "execution_count": null,
      "outputs": [
        {
          "output_type": "stream",
          "name": "stdout",
          "text": [
            "hello world\n"
          ]
        }
      ]
    },
    {
      "cell_type": "code",
      "source": [
        "lotsofhellos = \"hello\" * 10\n",
        "print(lotsofhellos)"
      ],
      "metadata": {
        "colab": {
          "base_uri": "https://localhost:8080/"
        },
        "id": "siKXraUzG5Za",
        "outputId": "f6b2600b-e9c1-424c-8ca3-2aeebd5dff19"
      },
      "execution_count": null,
      "outputs": [
        {
          "output_type": "stream",
          "name": "stdout",
          "text": [
            "hellohellohellohellohellohellohellohellohellohello\n"
          ]
        }
      ]
    },
    {
      "cell_type": "markdown",
      "source": [
        "## Using arthmetic Operators with Lists"
      ],
      "metadata": {
        "id": "9TClxn5LG_e2"
      }
    },
    {
      "cell_type": "code",
      "source": [
        "even_numbers = [2,4,6,8]\n",
        "odd_numbers = [1,3,5,7]\n",
        "all_numbers = odd_numbers + even_numbers\n",
        "print(all_numbers)"
      ],
      "metadata": {
        "colab": {
          "base_uri": "https://localhost:8080/"
        },
        "id": "eX5pmJiSG_ol",
        "outputId": "05bee889-e761-49a3-83b0-0ea08e112cba"
      },
      "execution_count": null,
      "outputs": [
        {
          "output_type": "stream",
          "name": "stdout",
          "text": [
            "[1, 3, 5, 7, 2, 4, 6, 8]\n"
          ]
        }
      ]
    },
    {
      "cell_type": "code",
      "source": [
        "print([1,2,3] * 3)"
      ],
      "metadata": {
        "colab": {
          "base_uri": "https://localhost:8080/"
        },
        "id": "4Frfogy4HJBK",
        "outputId": "fae8e3d2-77df-4434-9dd9-140313640095"
      },
      "execution_count": null,
      "outputs": [
        {
          "output_type": "stream",
          "name": "stdout",
          "text": [
            "[1, 2, 3, 1, 2, 3, 1, 2, 3]\n"
          ]
        }
      ]
    },
    {
      "cell_type": "markdown",
      "source": [
        "## Conditional Operator"
      ],
      "metadata": {
        "id": "cDfPHOLUGNNH"
      }
    },
    {
      "cell_type": "code",
      "source": [
        "x = 2\n",
        "print(x == 2) # prints out True\n",
        "print(x == 3) # prints out False\n",
        "print(x < 3) # prints out True"
      ],
      "metadata": {
        "colab": {
          "base_uri": "https://localhost:8080/"
        },
        "id": "qfbuaXURGNYQ",
        "outputId": "6e4fd441-a8eb-4125-99b4-f3083c8f8c32"
      },
      "execution_count": null,
      "outputs": [
        {
          "output_type": "stream",
          "name": "stdout",
          "text": [
            "True\n",
            "False\n",
            "True\n"
          ]
        }
      ]
    },
    {
      "cell_type": "markdown",
      "source": [
        "## \"and\" , \"or\" Boolean operators"
      ],
      "metadata": {
        "id": "Pagbe-U_BlW8"
      }
    },
    {
      "cell_type": "code",
      "source": [
        "myname = \"Tom\"\n",
        "myage = 43\n",
        "if myname == \"Tom\" and myage == 43:\n",
        "    print(\"Your name is Tom, and you are also 43 years old.\")\n",
        "\n",
        "if myname == \"Tom\" or myname == \"Rick\":\n",
        "    print(\"Your name is either John or Rick.\")"
      ],
      "metadata": {
        "colab": {
          "base_uri": "https://localhost:8080/"
        },
        "id": "i6gYBCp4BA-I",
        "outputId": "7563d4ba-f781-4362-f160-06b33aa73b6c"
      },
      "execution_count": null,
      "outputs": [
        {
          "output_type": "stream",
          "name": "stdout",
          "text": [
            "Your name is Tom, and you are also 43 years old.\n",
            "Your name is either John or Rick.\n"
          ]
        }
      ]
    },
    {
      "cell_type": "markdown",
      "source": [
        "## \"in\" operator"
      ],
      "metadata": {
        "id": "GYyc0Tw6CP6p"
      }
    },
    {
      "cell_type": "code",
      "source": [
        "name = \"John\"\n",
        "if name in [\"John\", \"Rick\"]:\n",
        "    print(\"Your name is either John or Rick.\")"
      ],
      "metadata": {
        "colab": {
          "base_uri": "https://localhost:8080/"
        },
        "id": "3xj1IpfUBBAv",
        "outputId": "0289b526-a403-4355-a21d-3c0bbc6e883b"
      },
      "execution_count": null,
      "outputs": [
        {
          "output_type": "stream",
          "name": "stdout",
          "text": [
            "Your name is either John or Rick.\n"
          ]
        }
      ]
    },
    {
      "cell_type": "markdown",
      "source": [
        "## \"is\" operator\n",
        "\n",
        "Unlike the double equals operator \"==\", the \"is\" operator does not match the values of the variables, but the instances themselves. For example:"
      ],
      "metadata": {
        "id": "eSmUMMDODabX"
      }
    },
    {
      "cell_type": "code",
      "source": [
        "x = [1,2,3]\n",
        "y = [1,2,3]\n",
        "print(x == y) # Prints out True\n",
        "print(x is y) # Prints out False\n",
        "print(x is x) # Prints out True"
      ],
      "metadata": {
        "colab": {
          "base_uri": "https://localhost:8080/"
        },
        "id": "Mqm4hxuGDayL",
        "outputId": "06d7db1e-965f-4c32-b05f-5095487d3a91"
      },
      "execution_count": null,
      "outputs": [
        {
          "output_type": "stream",
          "name": "stdout",
          "text": [
            "True\n",
            "False\n",
            "True\n"
          ]
        }
      ]
    },
    {
      "cell_type": "markdown",
      "source": [
        "## \"not\" operator"
      ],
      "metadata": {
        "id": "aCZwL5pLDa7d"
      }
    },
    {
      "cell_type": "code",
      "source": [
        "print(not False) # Prints out True\n",
        "print((not False) == (False)) # Prints out False"
      ],
      "metadata": {
        "colab": {
          "base_uri": "https://localhost:8080/"
        },
        "id": "Y_HNuuztDbHh",
        "outputId": "db8e60c2-fc54-448e-f545-fc3b6ed6fe7b"
      },
      "execution_count": null,
      "outputs": [
        {
          "output_type": "stream",
          "name": "stdout",
          "text": [
            "True\n",
            "False\n"
          ]
        }
      ]
    },
    {
      "cell_type": "markdown",
      "source": [
        "## String Operations"
      ],
      "metadata": {
        "id": "qSQKm068DbRz"
      }
    },
    {
      "cell_type": "code",
      "source": [
        "astring = \"Hello world!\"\n",
        "print(\"single quotes are ' '\")\n",
        "\n",
        "print(len(astring))"
      ],
      "metadata": {
        "colab": {
          "base_uri": "https://localhost:8080/"
        },
        "id": "6zg1ksErBBDh",
        "outputId": "ce4eee92-6d14-41db-c88d-435329234cde"
      },
      "execution_count": null,
      "outputs": [
        {
          "output_type": "stream",
          "name": "stdout",
          "text": [
            "single quotes are ' '\n",
            "12\n"
          ]
        }
      ]
    },
    {
      "cell_type": "code",
      "source": [
        "astring = \"Hello world!\"\n",
        "print(astring.index(\"o\"))"
      ],
      "metadata": {
        "colab": {
          "base_uri": "https://localhost:8080/"
        },
        "id": "1_f31KHEBBGH",
        "outputId": "af5362c9-ed37-4cb9-e35f-0a30af4e23b1"
      },
      "execution_count": null,
      "outputs": [
        {
          "output_type": "stream",
          "name": "stdout",
          "text": [
            "4\n"
          ]
        }
      ]
    },
    {
      "cell_type": "code",
      "source": [
        "astring = \"Hello world!\"\n",
        "print(astring.count(\"l\"))"
      ],
      "metadata": {
        "colab": {
          "base_uri": "https://localhost:8080/"
        },
        "id": "dFfRlUGbJ9Vg",
        "outputId": "a6549b92-c7c2-4fa2-b936-15e409796c88"
      },
      "execution_count": null,
      "outputs": [
        {
          "output_type": "stream",
          "name": "stdout",
          "text": [
            "3\n"
          ]
        }
      ]
    },
    {
      "cell_type": "markdown",
      "source": [
        "This prints a slice of the string, starting at index 3, and ending at index 6. But why 6 and not 7? Again, most programming languages do this - it makes doing math inside those brackets easier.\n",
        "\n",
        "If you just have one number in the brackets, it will give you the single character at that index. If you leave out the first number but keep the colon, it will give you a slice from the start to the number you left in. If you leave out the second number, it will give you a slice from the first number to the end.\n",
        "\n",
        "You can even put negative numbers inside the brackets. They are an easy way of starting at the end of the string instead of the beginning. This way, -3 means \"3rd character from the end\"."
      ],
      "metadata": {
        "id": "n5NcQY_8KlB_"
      }
    },
    {
      "cell_type": "code",
      "source": [
        "astring = \"Hello world!\"\n",
        "print(astring[3:7])"
      ],
      "metadata": {
        "colab": {
          "base_uri": "https://localhost:8080/"
        },
        "id": "OnEECDePKBYC",
        "outputId": "5bc12208-f7fb-43f8-9091-28afab7322d6"
      },
      "execution_count": null,
      "outputs": [
        {
          "output_type": "stream",
          "name": "stdout",
          "text": [
            "lo w\n"
          ]
        }
      ]
    },
    {
      "cell_type": "code",
      "source": [
        "#This prints the characters of string from 3 to 7 skipping one character. This is extended slice syntax. The general form is [start:stop:step].This is similar to range operation\n",
        "astring = \"Hello world!\"\n",
        "print(astring[3:7:2])"
      ],
      "metadata": {
        "colab": {
          "base_uri": "https://localhost:8080/"
        },
        "id": "j90p1fHvKOLn",
        "outputId": "fe8fd786-bd31-4bb3-e842-29998b60d0a5"
      },
      "execution_count": null,
      "outputs": [
        {
          "output_type": "stream",
          "name": "stdout",
          "text": [
            "l \n"
          ]
        }
      ]
    },
    {
      "cell_type": "code",
      "source": [
        "astring = \"Hello world!\"\n",
        "print(astring[3:7])\n",
        "print(astring[3:7:1])"
      ],
      "metadata": {
        "colab": {
          "base_uri": "https://localhost:8080/"
        },
        "id": "rvHaSWKQKrrE",
        "outputId": "18d64c86-afd9-4e79-a5a9-c4dc53ee5786"
      },
      "execution_count": null,
      "outputs": [
        {
          "output_type": "stream",
          "name": "stdout",
          "text": [
            "lo w\n",
            "lo w\n"
          ]
        }
      ]
    },
    {
      "cell_type": "markdown",
      "source": [
        "**Reverse a string** : There is no function like strrev in C to reverse a string. But with the above mentioned type of slice syntax you can easily reverse a string like this"
      ],
      "metadata": {
        "id": "9x8-1wZ2KzgO"
      }
    },
    {
      "cell_type": "code",
      "source": [
        "astring = \"Hello world!\"\n",
        "print(astring[::-1])"
      ],
      "metadata": {
        "colab": {
          "base_uri": "https://localhost:8080/"
        },
        "id": "mBcdQV7GKzrj",
        "outputId": "ae517462-3f7c-4c60-d699-6eac402cdb0f"
      },
      "execution_count": null,
      "outputs": [
        {
          "output_type": "stream",
          "name": "stdout",
          "text": [
            "!dlrow olleH\n"
          ]
        }
      ]
    },
    {
      "cell_type": "markdown",
      "source": [
        "## Change to Upper and Lower case"
      ],
      "metadata": {
        "id": "fFuO8m_nLFpB"
      }
    },
    {
      "cell_type": "code",
      "source": [
        "astring = \"Hello world!\"\n",
        "print(astring.upper())\n",
        "print(astring.lower())"
      ],
      "metadata": {
        "colab": {
          "base_uri": "https://localhost:8080/"
        },
        "id": "Cl7E1K4LLDzT",
        "outputId": "d89530d8-4fb5-4472-beb4-604776d2cc9c"
      },
      "execution_count": null,
      "outputs": [
        {
          "output_type": "stream",
          "name": "stdout",
          "text": [
            "HELLO WORLD!\n",
            "hello world!\n"
          ]
        }
      ]
    },
    {
      "cell_type": "code",
      "source": [
        "astring = \"Hello world!\"\n",
        "print(astring.startswith(\"Hello\"))\n",
        "print(astring.endswith(\"asdfasdfasdf\"))"
      ],
      "metadata": {
        "colab": {
          "base_uri": "https://localhost:8080/"
        },
        "id": "fSJYFr6TLRjE",
        "outputId": "5e1ca27b-d334-4794-c39e-c81735d56764"
      },
      "execution_count": null,
      "outputs": [
        {
          "output_type": "stream",
          "name": "stdout",
          "text": [
            "True\n",
            "False\n"
          ]
        }
      ]
    },
    {
      "cell_type": "markdown",
      "source": [
        "## Split string"
      ],
      "metadata": {
        "id": "ZPqzZRd7LPqc"
      }
    },
    {
      "cell_type": "code",
      "source": [
        "astring = \"Hello world!\"\n",
        "afewwords = astring.split(\" \")\n",
        "afewwords"
      ],
      "metadata": {
        "colab": {
          "base_uri": "https://localhost:8080/"
        },
        "id": "ITYRnwf9LW-_",
        "outputId": "7dffa04d-1615-4f0f-a9bd-99179a56b5f6"
      },
      "execution_count": null,
      "outputs": [
        {
          "output_type": "execute_result",
          "data": {
            "text/plain": [
              "['Hello', 'world!']"
            ]
          },
          "metadata": {},
          "execution_count": 33
        }
      ]
    },
    {
      "cell_type": "markdown",
      "source": [
        "# **f-string**\n",
        "Formatted string literals are prefixed with 'f' and are similar to the format strings accepted by [str.format()](https://docs.python.org/3/library/stdtypes.html#str.format). They contain replacement fields surrounded by curly braces. The replacement fields are expressions, which are evaluated at run time, and then formatted using the [format()](https://docs.python.org/3/library/functions.html#format) protocol."
      ],
      "metadata": {
        "id": "29mDuXDwn284"
      }
    },
    {
      "cell_type": "code",
      "source": [
        "name = \"Fred\"\n",
        "f\"He said his name is {name}.\""
      ],
      "metadata": {
        "colab": {
          "base_uri": "https://localhost:8080/",
          "height": 35
        },
        "id": "yw1kNyPyn3IZ",
        "outputId": "752e8c3e-4945-4594-c691-73abc6f4a331"
      },
      "execution_count": null,
      "outputs": [
        {
          "output_type": "execute_result",
          "data": {
            "text/plain": [
              "'He said his name is Fred.'"
            ],
            "application/vnd.google.colaboratory.intrinsic+json": {
              "type": "string"
            }
          },
          "metadata": {},
          "execution_count": 1
        }
      ]
    },
    {
      "cell_type": "code",
      "source": [
        "import decimal\n",
        "width = 10\n",
        "precision = 4\n",
        "value = decimal.Decimal(\"12.34567\")\n",
        "f\"result: {value:{width}.{precision}}\"  # nested fields"
      ],
      "metadata": {
        "colab": {
          "base_uri": "https://localhost:8080/",
          "height": 35
        },
        "id": "f1Dkt4BsoCNl",
        "outputId": "cc4ca3b8-1a63-45cc-bb1f-7f1c86d9bd14"
      },
      "execution_count": null,
      "outputs": [
        {
          "output_type": "execute_result",
          "data": {
            "text/plain": [
              "'result:      12.35'"
            ],
            "application/vnd.google.colaboratory.intrinsic+json": {
              "type": "string"
            }
          },
          "metadata": {},
          "execution_count": 3
        }
      ]
    },
    {
      "cell_type": "code",
      "source": [
        "about = f\"\"\"\n",
        "My name is Pramod.\n",
        "I am a data scientist.\n",
        "I live in India.\n",
        "\"\"\"\n",
        "print(f\"Something about me: {about}\")"
      ],
      "metadata": {
        "colab": {
          "base_uri": "https://localhost:8080/"
        },
        "id": "0wU5InzlonxE",
        "outputId": "7d5c1507-eca8-41cc-96ef-c8444cf5881b"
      },
      "execution_count": null,
      "outputs": [
        {
          "output_type": "stream",
          "name": "stdout",
          "text": [
            "Something about me: \n",
            "My name is Pramod. \n",
            "I am a data scientist. \n",
            "I live in India.\n",
            "\n"
          ]
        }
      ]
    },
    {
      "cell_type": "markdown",
      "source": [
        "# **\"if\" Statement**\n",
        "\n",
        "    statement = False\n",
        "    another_statement = True\n",
        "    if statement is True:\n",
        "        # do something\n",
        "        pass\n",
        "    elif another_statement is True: # else if\n",
        "        # do something else\n",
        "        pass\n",
        "    else:\n",
        "        # do another thing\n",
        "        pass"
      ],
      "metadata": {
        "id": "bWNL1nabCsRY"
      }
    },
    {
      "cell_type": "code",
      "source": [
        "mynumber = 20\n",
        "if mynumber == 20:\n",
        "    print(\"mynumber equals twenty!\")\n",
        "else:\n",
        "    print(\"mynumber does not equal to twenty.\")"
      ],
      "metadata": {
        "colab": {
          "base_uri": "https://localhost:8080/"
        },
        "id": "VxYXbN4HBBIp",
        "outputId": "5123d02d-8144-4156-992b-54f716ae75ab"
      },
      "execution_count": null,
      "outputs": [
        {
          "output_type": "stream",
          "name": "stdout",
          "text": [
            "mynumber equals twenty!\n"
          ]
        }
      ]
    },
    {
      "cell_type": "code",
      "source": [],
      "metadata": {
        "id": "zTHxG1RyBBLM"
      },
      "execution_count": null,
      "outputs": []
    },
    {
      "cell_type": "markdown",
      "source": [
        "# **Loops**"
      ],
      "metadata": {
        "id": "XtJhadgvL_mh"
      }
    },
    {
      "cell_type": "markdown",
      "source": [
        "## The \"for\" loop"
      ],
      "metadata": {
        "id": "dU8asLv0MRYC"
      }
    },
    {
      "cell_type": "code",
      "source": [
        "primes = [2, 3, 5, 7]\n",
        "for prime in primes:\n",
        "    print(prime)"
      ],
      "metadata": {
        "colab": {
          "base_uri": "https://localhost:8080/"
        },
        "id": "9XE8WvIOBBNz",
        "outputId": "71305328-a900-4bb9-caf2-51c3c2af46c5"
      },
      "execution_count": null,
      "outputs": [
        {
          "output_type": "stream",
          "name": "stdout",
          "text": [
            "2\n",
            "3\n",
            "5\n",
            "7\n"
          ]
        }
      ]
    },
    {
      "cell_type": "markdown",
      "source": [
        "#range - for loop with range"
      ],
      "metadata": {
        "id": "vz5QMoU1AiNP"
      }
    },
    {
      "cell_type": "markdown",
      "source": [
        "![image.png](data:image/png;base64,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)"
      ],
      "metadata": {
        "id": "7nf1XZ7p7n1f"
      }
    },
    {
      "cell_type": "code",
      "source": [
        "# Prints out the numbers 0,1,2,3,4\n",
        "for x in range(5):\n",
        "    print(x)\n",
        "\n",
        "# Prints out 3,4,5\n",
        "for x in range(3, 6):\n",
        "    print(x)\n",
        "\n",
        "# Prints out 3,5,7\n",
        "for x in range(3, 8, 2):\n",
        "    print(x)"
      ],
      "metadata": {
        "colab": {
          "base_uri": "https://localhost:8080/"
        },
        "id": "1yzNUTw1BBQT",
        "outputId": "e3411d04-12fd-49e7-f3e3-9824a1d2275d"
      },
      "execution_count": null,
      "outputs": [
        {
          "output_type": "stream",
          "name": "stdout",
          "text": [
            "0\n",
            "1\n",
            "2\n",
            "3\n",
            "4\n",
            "3\n",
            "4\n",
            "5\n",
            "3\n",
            "5\n",
            "7\n"
          ]
        }
      ]
    },
    {
      "cell_type": "markdown",
      "source": [
        "## \"while\" loop\n",
        "\n",
        "While loops repeat as long as a certain boolean condition is met."
      ],
      "metadata": {
        "id": "vvGPSvzGMcc-"
      }
    },
    {
      "cell_type": "code",
      "source": [
        "# Prints out 0,1,2,3,4\n",
        "\n",
        "count = 0\n",
        "while count < 5:\n",
        "    print(count)\n",
        "    count += 1  # This is the same as count = count + 1"
      ],
      "metadata": {
        "colab": {
          "base_uri": "https://localhost:8080/"
        },
        "id": "Let3Kc9xMcqG",
        "outputId": "a08d8f3f-b186-4c48-9167-b772b36c8fc2"
      },
      "execution_count": null,
      "outputs": [
        {
          "output_type": "stream",
          "name": "stdout",
          "text": [
            "0\n",
            "1\n",
            "2\n",
            "3\n",
            "4\n"
          ]
        }
      ]
    },
    {
      "cell_type": "markdown",
      "source": [
        "## \"break\" and \"continue\" statements\n",
        "\n",
        "break is used to exit a for loop or a while loop, whereas continue is used to skip the current block, and return to the \"for\" or \"while\" statement."
      ],
      "metadata": {
        "id": "Jf2a1zhFMolD"
      }
    },
    {
      "cell_type": "code",
      "source": [
        "# Prints out 0,1,2,3,4\n",
        "\n",
        "count = 0\n",
        "while True:\n",
        "    print(count)\n",
        "    count += 1\n",
        "    if count >= 5:\n",
        "        break\n",
        "\n",
        "# Prints out only odd numbers - 1,3,5,7,9\n",
        "for x in range(10):\n",
        "    # Check if x is even\n",
        "    if x % 2 == 0:\n",
        "        continue\n",
        "    print(x)"
      ],
      "metadata": {
        "colab": {
          "base_uri": "https://localhost:8080/"
        },
        "id": "GGSOaZRKMotZ",
        "outputId": "6a62ee3b-07c8-4fb9-9f58-be70cc02ae5a"
      },
      "execution_count": null,
      "outputs": [
        {
          "output_type": "stream",
          "name": "stdout",
          "text": [
            "0\n",
            "1\n",
            "2\n",
            "3\n",
            "4\n",
            "1\n",
            "3\n",
            "5\n",
            "7\n",
            "9\n"
          ]
        }
      ]
    },
    {
      "cell_type": "markdown",
      "source": [
        "# Can we use \"else\" clause for loops?\n",
        "\n",
        "Unlike languages like C,CPP.. we can use else for loops. When the loop condition of \"for\" or \"while\" statement fails then code part in \"else\" is executed. If a break statement is executed inside the for loop then the \"else\" part is skipped. Note that the \"else\" part is executed even if there is a continue statement."
      ],
      "metadata": {
        "id": "dSkY3_-tNE13"
      }
    },
    {
      "cell_type": "code",
      "source": [
        "# Prints out 0,1,2,3,4 and then it prints \"count value reached 5\"\n",
        "\n",
        "count=0\n",
        "while(count<5):\n",
        "    print(count)\n",
        "    count +=1\n",
        "else:\n",
        "    print(\"count value reached %d\" %(count))\n",
        "\n",
        "# Prints out 1,2,3,4\n",
        "for i in range(1, 10):\n",
        "    if(i%5==0):\n",
        "        break\n",
        "    print(i)\n",
        "else:\n",
        "    print(\"this is not printed because for loop is terminated because of break but not due to fail in condition\")"
      ],
      "metadata": {
        "colab": {
          "base_uri": "https://localhost:8080/"
        },
        "id": "C7lS4MhwNE-C",
        "outputId": "371f02b8-3361-44c7-e63e-6eefe7232a27"
      },
      "execution_count": null,
      "outputs": [
        {
          "output_type": "stream",
          "name": "stdout",
          "text": [
            "0\n",
            "1\n",
            "2\n",
            "3\n",
            "4\n",
            "count value reached 5\n",
            "1\n",
            "2\n",
            "3\n",
            "4\n"
          ]
        }
      ]
    },
    {
      "cell_type": "code",
      "source": [],
      "metadata": {
        "id": "L4eVEoYeBBS7"
      },
      "execution_count": null,
      "outputs": []
    },
    {
      "cell_type": "markdown",
      "source": [
        "# **Print Statement**\n",
        "\n",
        "%s - String (or any object with a string representation, like numbers)\n",
        "\n",
        "%d - Integers\n",
        "\n",
        "%f - Floating point numbers\n",
        "\n",
        "%.<number of digits>f - Floating point numbers with a fixed amount of digits to the right of the dot.\n",
        "\n",
        "%x/%X - Integers in hex representation (lowercase/uppercase)"
      ],
      "metadata": {
        "id": "Cyc1A25k_vXg"
      }
    },
    {
      "cell_type": "code",
      "source": [
        "# This prints out \"Hello, John!\"\n",
        "name = \"John\"\n",
        "print(\"Hello, %s!\" % name)"
      ],
      "metadata": {
        "colab": {
          "base_uri": "https://localhost:8080/"
        },
        "id": "kaYX0BfIHkDf",
        "outputId": "1d8aa8b7-c794-4a5c-ab4e-1511b24529a9"
      },
      "execution_count": null,
      "outputs": [
        {
          "output_type": "stream",
          "name": "stdout",
          "text": [
            "Hello, John!\n"
          ]
        }
      ]
    },
    {
      "cell_type": "code",
      "source": [
        "# This prints out \"John is 23 years old.\"\n",
        "name = \"John\"\n",
        "age = 23\n",
        "print(\"%s is %d years old.\" % (name, age))"
      ],
      "metadata": {
        "colab": {
          "base_uri": "https://localhost:8080/"
        },
        "id": "A7HyvjkOHogz",
        "outputId": "f59d96cf-a79e-491d-d921-cb9c26d0d6a5"
      },
      "execution_count": null,
      "outputs": [
        {
          "output_type": "stream",
          "name": "stdout",
          "text": [
            "John is 23 years old.\n"
          ]
        }
      ]
    },
    {
      "cell_type": "code",
      "source": [
        "# This prints out: A list: [1, 2, 3]\n",
        "mylist = [1,2,3]\n",
        "print(\"A list: %s\" % mylist)"
      ],
      "metadata": {
        "colab": {
          "base_uri": "https://localhost:8080/"
        },
        "id": "A3PoSmm2Hoja",
        "outputId": "9affd9c1-1a07-4dad-fbf9-7da0015d6554"
      },
      "execution_count": null,
      "outputs": [
        {
          "output_type": "stream",
          "name": "stdout",
          "text": [
            "A list: [1, 2, 3]\n"
          ]
        }
      ]
    },
    {
      "cell_type": "markdown",
      "source": [
        "# **Functions**\n",
        "\n",
        "What are Functions?\n",
        "\n",
        "Functions are a convenient way to divide your code into useful blocks, allowing us to order our code, make it more readable, reuse it and save some time. Also functions are a key way to define interfaces so programmers can share their code.\n",
        "\n",
        "How do you write functions in Python?\n",
        "\n",
        "As we have seen on previous tutorials, Python makes use of blocks.\n",
        "\n",
        "A block is a area of code of written in the format of:\n",
        "\n",
        "\n",
        "    block_head:\n",
        "        1st block line\n",
        "        2nd block line\n",
        "        ..."
      ],
      "metadata": {
        "id": "-ipVujn0NYHA"
      }
    },
    {
      "cell_type": "code",
      "source": [
        "def my_function():\n",
        "    print(\"Hello From My Function!\")"
      ],
      "metadata": {
        "id": "QC3Q7dxmHomC"
      },
      "execution_count": null,
      "outputs": []
    },
    {
      "cell_type": "code",
      "source": [
        "#Calling function\n",
        "my_function()"
      ],
      "metadata": {
        "colab": {
          "base_uri": "https://localhost:8080/"
        },
        "id": "RP-zLZkaHooa",
        "outputId": "a4c4e67a-7cbe-4c31-ea51-097ce0a5cce1"
      },
      "execution_count": null,
      "outputs": [
        {
          "output_type": "stream",
          "name": "stdout",
          "text": [
            "Hello From My Function!\n"
          ]
        }
      ]
    },
    {
      "cell_type": "code",
      "source": [
        "def sum_two_numbers(a, b):\n",
        "    return a + b"
      ],
      "metadata": {
        "id": "ueVVS_PMHkPh"
      },
      "execution_count": null,
      "outputs": []
    },
    {
      "cell_type": "code",
      "source": [
        "sum_two_numbers(5,10)"
      ],
      "metadata": {
        "colab": {
          "base_uri": "https://localhost:8080/"
        },
        "id": "HLyNwEuDN9_c",
        "outputId": "07eb2d6d-e104-43b8-daa3-343e2df966f6"
      },
      "execution_count": null,
      "outputs": [
        {
          "output_type": "execute_result",
          "data": {
            "text/plain": [
              "15"
            ]
          },
          "metadata": {},
          "execution_count": 42
        }
      ]
    },
    {
      "cell_type": "markdown",
      "source": [
        "# **Classes and Objects**\n",
        "\n",
        "Objects are an encapsulation of variables and functions into a single entity. Objects get their variables and functions from classes.\n",
        "\n",
        "Classes are essentially a template to create your objects.\n",
        "\n",
        "A very basic class would look something like this:\n",
        "\n",
        "    class MyClass:\n",
        "        variable = \"blah\"\n",
        "\n",
        "        def function(self):\n",
        "            print(\"This is a message inside the class.\")"
      ],
      "metadata": {
        "id": "XVwWaEg8_vaU"
      }
    },
    {
      "cell_type": "markdown",
      "source": [
        "## Defining the class"
      ],
      "metadata": {
        "id": "mJrWAU8kO2zw"
      }
    },
    {
      "cell_type": "code",
      "source": [
        "class MyClass:\n",
        "    variable = \"blah\"\n",
        "\n",
        "    def function(self):\n",
        "        print(\"This is a message inside the class.\")"
      ],
      "metadata": {
        "id": "rgvnq2xAOitP"
      },
      "execution_count": null,
      "outputs": []
    },
    {
      "cell_type": "markdown",
      "source": [
        "## Instantiating the class object"
      ],
      "metadata": {
        "id": "9ak4c7uCOwcg"
      }
    },
    {
      "cell_type": "code",
      "source": [
        "myobjectx = MyClass()"
      ],
      "metadata": {
        "id": "4a1jIqT1OwnV"
      },
      "execution_count": null,
      "outputs": []
    },
    {
      "cell_type": "markdown",
      "source": [
        "## Accessing Object Variables"
      ],
      "metadata": {
        "id": "pN0C-ZSY_vcp"
      }
    },
    {
      "cell_type": "code",
      "source": [
        "myobjectx.variable"
      ],
      "metadata": {
        "colab": {
          "base_uri": "https://localhost:8080/",
          "height": 35
        },
        "id": "uAqj4jdzOm97",
        "outputId": "39429943-82af-4dc8-9169-ba33cfb6eb21"
      },
      "execution_count": null,
      "outputs": [
        {
          "output_type": "execute_result",
          "data": {
            "text/plain": [
              "'blah'"
            ],
            "application/vnd.google.colaboratory.intrinsic+json": {
              "type": "string"
            }
          },
          "metadata": {},
          "execution_count": 49
        }
      ]
    },
    {
      "cell_type": "markdown",
      "source": [
        "## Accessing class function"
      ],
      "metadata": {
        "id": "YWqDmZPdPBSg"
      }
    },
    {
      "cell_type": "code",
      "source": [
        "myobjectx.function()"
      ],
      "metadata": {
        "colab": {
          "base_uri": "https://localhost:8080/"
        },
        "id": "0nDMXkPAPBaB",
        "outputId": "d82bd8c7-b460-4438-e9e6-ae42494a205a"
      },
      "execution_count": null,
      "outputs": [
        {
          "output_type": "stream",
          "name": "stdout",
          "text": [
            "This is a message inside the class.\n"
          ]
        }
      ]
    },
    {
      "cell_type": "markdown",
      "source": [
        "You can create multiple different objects that are of the same class(have the same variables and functions defined). However, each object contains independent copies of the variables defined in the class. For instance, if we were to define another object with the \"MyClass\" class and then change the string in the variable above:"
      ],
      "metadata": {
        "id": "2GfBqDDR_vfP"
      }
    },
    {
      "cell_type": "code",
      "source": [
        "class MyClass:\n",
        "    variable = \"blah\"\n",
        "\n",
        "    def function(self):\n",
        "        print(\"This is a message inside the class.\")\n",
        "\n",
        "myobjectx = MyClass()\n",
        "myobjecty = MyClass()\n",
        "\n",
        "myobjecty.variable = \"yackity\"\n",
        "\n",
        "# Then print out both values\n",
        "print(myobjectx.variable)\n",
        "print(myobjecty.variable)"
      ],
      "metadata": {
        "colab": {
          "base_uri": "https://localhost:8080/"
        },
        "id": "2a2eiN-UPVto",
        "outputId": "afc51798-19e6-4d0e-b13c-5af219a3357b"
      },
      "execution_count": null,
      "outputs": [
        {
          "output_type": "stream",
          "name": "stdout",
          "text": [
            "blah\n",
            "yackity\n"
          ]
        }
      ]
    },
    {
      "cell_type": "markdown",
      "source": [
        "## **init()**\n",
        "\n",
        "The __init__() function, is a special function that is called when the class is being initiated. It's used for asigning values in a class."
      ],
      "metadata": {
        "id": "gDzwbiTl_vht"
      }
    },
    {
      "cell_type": "code",
      "source": [
        "class NumberHolder:\n",
        "\n",
        "   def __init__(self, number):\n",
        "       self.number = number"
      ],
      "metadata": {
        "id": "mrvN2LhRY3sy"
      },
      "execution_count": null,
      "outputs": []
    },
    {
      "cell_type": "markdown",
      "source": [
        "# **Various use of Underscores(_) in Python**\n",
        "## Single and double underscores have a meaning in Python variable and method names. Some of the meaning is merely by convention whilst some of it is enforced by the Python interpreter."
      ],
      "metadata": {
        "id": "oIcWPFIy9Db-"
      }
    },
    {
      "cell_type": "markdown",
      "source": [
        "# Single Leading Underscore: _var\n",
        "The underscore prefix is meant as a hint to another programmer that a variable or method starting with a single underscore is intended for internal use. It should be considered an implementation detail and subject to change without notice."
      ],
      "metadata": {
        "id": "x715MIkX9Eqa"
      }
    },
    {
      "cell_type": "code",
      "source": [
        "class Employee:\n",
        "    def __init__(self):\n",
        "        self.name = 'Pramod'\n",
        "        self._age = 42"
      ],
      "metadata": {
        "id": "m-pB09_V9E5b"
      },
      "execution_count": null,
      "outputs": []
    },
    {
      "cell_type": "code",
      "source": [
        "emp = Employee()"
      ],
      "metadata": {
        "id": "E5VrCsHU9lD9"
      },
      "execution_count": null,
      "outputs": []
    },
    {
      "cell_type": "code",
      "source": [
        "emp.name"
      ],
      "metadata": {
        "colab": {
          "base_uri": "https://localhost:8080/",
          "height": 35
        },
        "id": "U4Ysnzpz9lQt",
        "outputId": "546d8173-e477-4a19-ad86-d306826971d3"
      },
      "execution_count": null,
      "outputs": [
        {
          "output_type": "execute_result",
          "data": {
            "text/plain": [
              "'Pramod'"
            ],
            "application/vnd.google.colaboratory.intrinsic+json": {
              "type": "string"
            }
          },
          "metadata": {},
          "execution_count": 3
        }
      ]
    },
    {
      "cell_type": "code",
      "source": [
        "emp._age"
      ],
      "metadata": {
        "colab": {
          "base_uri": "https://localhost:8080/"
        },
        "id": "ZPGcJ1Wv9wK0",
        "outputId": "ab279a03-6ff1-4550-fd2e-8d2cfd6382f9"
      },
      "execution_count": null,
      "outputs": [
        {
          "output_type": "execute_result",
          "data": {
            "text/plain": [
              "42"
            ]
          },
          "metadata": {},
          "execution_count": 4
        }
      ]
    },
    {
      "cell_type": "markdown",
      "source": [
        "# **Double Leading Underscore: __var**\n",
        "The use of double underscore (__) in front of a name (specifically a method name) is not a convention; it has a specific meaning to the interpreter.\n",
        "\n",
        "Python [mangles](https://en.wikipedia.org/wiki/Name_mangling) these names and it is used to avoid name clashes with names defined by subclasses.\n",
        "\n",
        "This is also called name mangling — the interpreter changes the name of the variable in a way that makes it harder to create collisions when the class is extended later.\n",
        "\n",
        "To grasp better, we’ll create our toy class for experimentation:"
      ],
      "metadata": {
        "id": "Zs3Y0H5-99iR"
      }
    },
    {
      "cell_type": "code",
      "source": [
        "class Employee:\n",
        "    def __init__(self):\n",
        "        self.name = 'Pramod'\n",
        "        self._age = 42\n",
        "        self.__id = 30"
      ],
      "metadata": {
        "id": "-LbxGUrz-HWO"
      },
      "execution_count": null,
      "outputs": []
    },
    {
      "cell_type": "markdown",
      "source": [
        "Let’s take a look at the attributes on its object using the built-in dir() function:"
      ],
      "metadata": {
        "id": "_ALogaQZ_IeV"
      }
    },
    {
      "cell_type": "code",
      "source": [
        "emp = Employee()\n",
        "dir(emp)"
      ],
      "metadata": {
        "colab": {
          "base_uri": "https://localhost:8080/"
        },
        "id": "OXv-8_o7-3eE",
        "outputId": "d2453a55-8cea-4cb8-e89a-670915ed22eb"
      },
      "execution_count": null,
      "outputs": [
        {
          "output_type": "execute_result",
          "data": {
            "text/plain": [
              "['_Employee__id',\n",
              " '__class__',\n",
              " '__delattr__',\n",
              " '__dict__',\n",
              " '__dir__',\n",
              " '__doc__',\n",
              " '__eq__',\n",
              " '__format__',\n",
              " '__ge__',\n",
              " '__getattribute__',\n",
              " '__gt__',\n",
              " '__hash__',\n",
              " '__init__',\n",
              " '__init_subclass__',\n",
              " '__le__',\n",
              " '__lt__',\n",
              " '__module__',\n",
              " '__ne__',\n",
              " '__new__',\n",
              " '__reduce__',\n",
              " '__reduce_ex__',\n",
              " '__repr__',\n",
              " '__setattr__',\n",
              " '__sizeof__',\n",
              " '__str__',\n",
              " '__subclasshook__',\n",
              " '__weakref__',\n",
              " '_age',\n",
              " 'name']"
            ]
          },
          "metadata": {},
          "execution_count": 7
        }
      ]
    },
    {
      "cell_type": "code",
      "source": [
        "emp.name"
      ],
      "metadata": {
        "colab": {
          "base_uri": "https://localhost:8080/",
          "height": 35
        },
        "id": "E6RqZWrJ-3ki",
        "outputId": "153c06c8-5b01-42ed-8ed7-bca7e9d1996d"
      },
      "execution_count": null,
      "outputs": [
        {
          "output_type": "execute_result",
          "data": {
            "text/plain": [
              "'Pramod'"
            ],
            "application/vnd.google.colaboratory.intrinsic+json": {
              "type": "string"
            }
          },
          "metadata": {},
          "execution_count": 8
        }
      ]
    },
    {
      "cell_type": "code",
      "source": [
        "emp._age"
      ],
      "metadata": {
        "colab": {
          "base_uri": "https://localhost:8080/"
        },
        "id": "in5t7TfZ-3sf",
        "outputId": "91103500-542a-4522-8508-30c1f55330a7"
      },
      "execution_count": null,
      "outputs": [
        {
          "output_type": "execute_result",
          "data": {
            "text/plain": [
              "42"
            ]
          },
          "metadata": {},
          "execution_count": 9
        }
      ]
    },
    {
      "cell_type": "code",
      "source": [
        "emp.__id"
      ],
      "metadata": {
        "colab": {
          "base_uri": "https://localhost:8080/",
          "height": 165
        },
        "id": "6REuyVjk-31Z",
        "outputId": "97a70313-5159-4533-8223-a7c8a6733f0d"
      },
      "execution_count": null,
      "outputs": [
        {
          "output_type": "error",
          "ename": "AttributeError",
          "evalue": "ignored",
          "traceback": [
            "\u001b[0;31m---------------------------------------------------------------------------\u001b[0m",
            "\u001b[0;31mAttributeError\u001b[0m                            Traceback (most recent call last)",
            "\u001b[0;32m<ipython-input-10-65563470de6c>\u001b[0m in \u001b[0;36m<module>\u001b[0;34m\u001b[0m\n\u001b[0;32m----> 1\u001b[0;31m \u001b[0memp\u001b[0m\u001b[0;34m.\u001b[0m\u001b[0m__id\u001b[0m\u001b[0;34m\u001b[0m\u001b[0;34m\u001b[0m\u001b[0m\n\u001b[0m",
            "\u001b[0;31mAttributeError\u001b[0m: 'Employee' object has no attribute '__id'"
          ]
        }
      ]
    },
    {
      "cell_type": "code",
      "source": [
        "emp._Employee__id"
      ],
      "metadata": {
        "colab": {
          "base_uri": "https://localhost:8080/"
        },
        "id": "wuIehJEn_Z15",
        "outputId": "098c1040-b912-491b-845e-db8fd5c4dcc2"
      },
      "execution_count": null,
      "outputs": [
        {
          "output_type": "execute_result",
          "data": {
            "text/plain": [
              "30"
            ]
          },
          "metadata": {},
          "execution_count": 11
        }
      ]
    },
    {
      "cell_type": "markdown",
      "source": [
        "From the above list of object’s attributes, we can see self.name and self._age appears unchanged and behaves the same way.\n",
        "\n",
        "However, **__id** is mangled to **_Employee__id**. This is the name mangling that the Python interpreter applies. It does this to protect the variable from getting overridden in subclasses."
      ],
      "metadata": {
        "id": "w_bfwgVe_g9I"
      }
    },
    {
      "cell_type": "markdown",
      "source": [
        "Now if we create a subclass of Employee, say Female we can’t easily override Employee’s __id variable."
      ],
      "metadata": {
        "id": "myNEf5cLAH96"
      }
    },
    {
      "cell_type": "code",
      "source": [
        "class Female(Employee):\n",
        "    def __init__(self):\n",
        "        Employee.__init__(self)\n",
        "        self.__id = 25"
      ],
      "metadata": {
        "id": "1JLw3Jzy_k_I"
      },
      "execution_count": null,
      "outputs": []
    },
    {
      "cell_type": "code",
      "source": [
        "f_emp = Female()"
      ],
      "metadata": {
        "id": "55GLJSe1Ak5y"
      },
      "execution_count": null,
      "outputs": []
    },
    {
      "cell_type": "code",
      "source": [
        "dir(f_emp)"
      ],
      "metadata": {
        "colab": {
          "base_uri": "https://localhost:8080/"
        },
        "id": "k6aaIhYeArJm",
        "outputId": "e1e7c701-7e47-420e-86c5-24b8ca27a85f"
      },
      "execution_count": null,
      "outputs": [
        {
          "output_type": "execute_result",
          "data": {
            "text/plain": [
              "['_Employee__id',\n",
              " '_Female__id',\n",
              " '__class__',\n",
              " '__delattr__',\n",
              " '__dict__',\n",
              " '__dir__',\n",
              " '__doc__',\n",
              " '__eq__',\n",
              " '__format__',\n",
              " '__ge__',\n",
              " '__getattribute__',\n",
              " '__gt__',\n",
              " '__hash__',\n",
              " '__init__',\n",
              " '__init_subclass__',\n",
              " '__le__',\n",
              " '__lt__',\n",
              " '__module__',\n",
              " '__ne__',\n",
              " '__new__',\n",
              " '__reduce__',\n",
              " '__reduce_ex__',\n",
              " '__repr__',\n",
              " '__setattr__',\n",
              " '__sizeof__',\n",
              " '__str__',\n",
              " '__subclasshook__',\n",
              " '__weakref__',\n",
              " '_age',\n",
              " 'name']"
            ]
          },
          "metadata": {},
          "execution_count": 14
        }
      ]
    },
    {
      "cell_type": "code",
      "source": [
        "f_emp.__id"
      ],
      "metadata": {
        "colab": {
          "base_uri": "https://localhost:8080/",
          "height": 165
        },
        "id": "Qsw4MISUAwq4",
        "outputId": "48a1e4a8-f7fa-4ee2-a015-a5ed97d85805"
      },
      "execution_count": null,
      "outputs": [
        {
          "output_type": "error",
          "ename": "AttributeError",
          "evalue": "ignored",
          "traceback": [
            "\u001b[0;31m---------------------------------------------------------------------------\u001b[0m",
            "\u001b[0;31mAttributeError\u001b[0m                            Traceback (most recent call last)",
            "\u001b[0;32m<ipython-input-15-8ca4fa39e332>\u001b[0m in \u001b[0;36m<module>\u001b[0;34m\u001b[0m\n\u001b[0;32m----> 1\u001b[0;31m \u001b[0mf_emp\u001b[0m\u001b[0;34m.\u001b[0m\u001b[0m__id\u001b[0m\u001b[0;34m\u001b[0m\u001b[0;34m\u001b[0m\u001b[0m\n\u001b[0m",
            "\u001b[0;31mAttributeError\u001b[0m: 'Female' object has no attribute '__id'"
          ]
        }
      ]
    },
    {
      "cell_type": "code",
      "source": [
        "f_emp._Employee__id"
      ],
      "metadata": {
        "colab": {
          "base_uri": "https://localhost:8080/"
        },
        "id": "QeexjBhjA0zm",
        "outputId": "de6cb880-9e61-47c1-ee3f-bdeb6f09c195"
      },
      "execution_count": null,
      "outputs": [
        {
          "output_type": "execute_result",
          "data": {
            "text/plain": [
              "30"
            ]
          },
          "metadata": {},
          "execution_count": 16
        }
      ]
    },
    {
      "cell_type": "code",
      "source": [
        "f_emp._Female__id"
      ],
      "metadata": {
        "colab": {
          "base_uri": "https://localhost:8080/"
        },
        "id": "v0D1kV0UA07l",
        "outputId": "a58df96b-54f9-4af6-9fe3-8d70c361f178"
      },
      "execution_count": null,
      "outputs": [
        {
          "output_type": "execute_result",
          "data": {
            "text/plain": [
              "25"
            ]
          },
          "metadata": {},
          "execution_count": 17
        }
      ]
    },
    {
      "cell_type": "markdown",
      "source": [
        "# **Single Trailing Underscore: var_**\n",
        "\n",
        "When the most fitting name for a variable is already taken by a keyword, appending a single underscore convention is followed to break the naming conflict. Typical example includes using class or other keywords as variables.x\n",
        "\n",
        "![image.png](data:image/png;base64,iVBORw0KGgoAAAANSUhEUgAAAt0AAAC+CAYAAADpyLMvAAAgAElEQVR4nOzdf3BT953o/XevU/SQioZdcdmLQlox6bWSFgPzoKKJKKwdT+Lgghomdtwi4MHgEIPXBqeGOHGgqcGpA04N9jVRXUBZQCTEZEME14noeO0HijIm4m5AbIm8zUTdEtHLRVsStOvn0Hr7/CHZlm3Jln/INubzmvGMfHy+Pl+d7/nxOd/z/fGVL7/88i8IIYQQQgghEua/jHUGhBBCCCGEmOgk6BZCCCGEECLBJOgWQgghhBAiwSToFkIIIYQQIsEk6BZCCCGEECLBJOgWQgghhBAiwSToFkIIIYQQIsEk6BZCCCGEECLBJOgWQgghhBAiwSToFkIIIYQQIsEk6BZCCCGEECLBJOgWQgghhBAiwSToFkIIIYQQIsEk6BZCCCGEECLBJOgWQgghhBAiwSToFkIIIYQQIsEk6BZCCCGEECLBJOgWQgghhBAiwSToFkIIIYQQIsEk6BZCCCGEEHH74osv+N73vofdbh+T9HcqCbqFEEIIIURcvvjiC77//e9z6dIlNmzYMOjAebjp72QSdAshhBBCiAFFBsw/000h5Wv3DCpwHm76O50E3UIIIYQQol+RAfO+b32dDdp7OfWdv4o7cB5u+ongK19++eVfxjoTQgghhBBi/MrPz+fo0aOUPvA1Sh9Qdy3/4s//ydJ//iOef/8zr7/+OhaLpU/a3gH3iumTe6Sfc+EGX3T8hcuXL/ONb3xjVL7PWJCabiGEEEKIO5KCuyqdmvNKr88j79VXXyUlJYXX/f+B59//1LX8vnv+S7811v0F3AAvfHaLLzr+wuuvvz6hA26QoDuxrjooyDBiNHb/1FxMwHauu7G/XEBO5LYycli9poDtRzwEE7DJxPNie7IYZyCOVS/bSA9/7+JT8SRILMVdM8T8hC6YpafH/juI6AKnS3ucz0ZjMY7rY52r8cKPo6BzvyzGejkxW5EymAA63NRElN+A1/mAk9LUYpxSzlEE8V8NgkrV6/PIu++++2hsbOQb357N0st/jCvwHijg3vgvX3D0//x/MWvIJxoJuu9wymUbq58uoOZ9N76bEX+46cN7xU2L8xI3xix3w3GbW9dA6Yhj1dm5NLW2sn9lwjMVF5WhaEj5UT6s5blTSzAv0iQmY2LYNI9X0traGv7Zz8S/RQyGhmnf7Pw8H+30OJJ0BPCcqqF0VSaLw8F65vrt2M8HAB/2nL4BmZTBBJA0jRkPd/4yC+1AlzxNKpanfFTUNt+hlUiJdIOAT8+M+3p/TozBBN779u2TgLuXUQi6g7h25WDMyKPqlJdgPEEUQIePhvWLWbysGNv5QdT8DTVdIsw0U+dspfVkGaaEbCCI65gVbzvwSAnHzrRG3IxCP2cOW9AlZNtiRHX4cOxvILkgC9PkgVcXYvxRoZmuDX+exayBgu6gG+uaVex1a8j62bucaW2ltfUMja9vxfD73eTtsOP2xfngLe4w05j2QPjjIzq0/a4LoCJl+QqST9fQcCWxObvz3ObWNQ2qe3t/Tpx4A+/S0lIJuHsZhaD7c7wuH9z00LBjNemZBdjO+we+kLZ/hueignLdhbUwk8WrKnBcieMZd6jp7kgKt26FPz74ELrEvFESo0C5cJzay2lkPyaPSOLONW1a+Pg16Oi38rLDj+Ol3dwueZf9L1swzIy4eCWp0T9VyZ6MKfgSmVkxhtRM63wo02n7P1Y6zTSTnx3Aetgptd2RAn4+63xbEPk5weINvCXg7umexG9CT+6BOibtqeEXp70oN91YC5djSzZTWJJP9twYR4c6jbKj5Uzbswv7+SBKm4OKNQ72Lshnx4+zMenUI5tuBATON2B75zjvt/gIAqrpekyPZ2FZ3H+nhsBFB/ajx/mg1UugHZiqQz9vIVkrssiYrUWV1HN9/6kCVu1w97zwHMnDeKTneuonq3nvBRND+8YK7tpMCo4EAQuVBzQ4XvgFruugf/KnVG5N4+tX7GzrtUzbK68E3Nh27eZIeJ+ACs3cVCx5m7As6Fv2gdOlZG5r7l6wzEhFn7XSKG+sJCPWhSXgxl5rxd7iIdAO6tkZrN2wCYuhnytRRwD3m3uxnTyH2xcE1OhSf4BlhQVzrGMUCLY5OXjgIO+1+AgO8N1iC9JyogHl8UoWTo3ydbr2iYmyk9U8er2BXTU2Wi4GUCZrSEm1kF9oIebXu+nD/esPcDhduD2hY0ytM7BkVRH5S/Sou8rMj6NwORXngUdKqMv8HdbXGvDcVGMo3MfPV+oJnK5ie69lfZ71BlnmY6YjiLfpILbDH+BqC6AQ2i8L081Y0hWs6/ysbcknZSS2FXcZ9BU4b2fvYQfnzvsIoka3YCFpGdmkYecZv4Uz66PksPd3m6xBb3yUZUuzuP9KMQ0P7Kd6yciXheaBWYAL/noKX+9nvWCLlb3aTTTOjV1ToF5gJku3t8/1b8g6gvgu/CMfNDpxXfDgva7AVB2GdAtFG83o+7lQDqkMBpnOcyCdvPrQ9XZ/axGaszXU/I/3aPYFYaqOtKVryc/LQBfjTZhyzUuL6yTNJz/ioyvh61GyiezCLeRGnnfXHBQ8WYEbMG2t44lPrex6x0NwqoGiPT/HkhzA+dr2nsse7ltOAbeN3buPhPIH0Hkt2mjBEEfTIu0sE+BCO3XKwCsDoCJlsRlVYQPvX80ge2acyQDlopVnNtnwtqtJe/kwlUsGrlu/Y3SE4gtVUq/Po6Az8M7MzGTp5cucmv1XpHztq6G/3fNfOBvl3nk3B9wwykMGBn0uGl7bhvV8d7ioXmBha+FaMpJjX/ECFxuwVtXiaOsMXlXoH3+WosL+T+6hphu0Dj/NrxRTemrgehlLfStFc8O/tHuxb91IzfnYz+2q5Fx+/no+hojdEzXojmJ4QXfYxRqM6+0w2URJ/Q6yH1Rw7ljOwUAKeCaRFV7W/Foe1umVHFuj7057zUHxj/Zye9UOtjw5H51GBR0Kgd9fwPHaNj745g72FZvQRL1AeKgxHkR3shpznGXlqTWyuz0bjQeydxVimhG6UShXXfzihZ34Vx2m8vEogUbARdVWB98seYnshyP2luLH/fcVWMmnbn1Kn+DSf6KYUo+JLXlmUrq25cFxeDcnv5qP5Z5iPvhWI9VLBwhurjsoXlbBlFeaKE+PVVoeaoxWWDmJD64ZeHVjFikzVaHg6sRONr6tZc8bRaT0viEHm6lYupsbT+VjWbaQlAc0qJJAuerGVv4czSl1HCrs+d0Cp4rJ3OECXTbVtSWY7vVg21TAuXuTabv+EJW1JZju9WJ/6Rm8yxp75nlYZT6K2j1Y1z+PJ7WcspwUtOrwHmgP4HM72L3TivtmKPiJHXTHeYwOoQxCFDz1qylwp1H5Yjbzw+lQAvjON7Bzmw3PU/tpLeydwwDOkuUcvK+Ql3LNoeMEoN2Pp9HGzl0OtNsij0sPtow8rDeJk4GyE3WYZ0T5Uzig86zbHzMQhSDN29Lx/KCVIkO824wl3utEkOYdmez+Iov8p80sTNGhmQy0+3Ef3s5zTXOoi3b+DLkMhpjuuoPiZR5mrfTi7rBQvio1dA4pflyvl7LtahaHXzX3rdz41E7Oxmb0q7KxpC5EN0ONCoVAmxPry1XcWPUW1UsjA80Ajs2ZVHwIuuxq9hWbUF2xsfnvzqFKbuNGcmVo2ad2tq33Yj5RTlpEhYD/VDE/rL1N7ktbMC/QoVF1fjcHu3d+wKyX91HyyADXPXcNxgI7ppcb438AVFxULS7mUskxDmXH/1bQU2skr7NS6pEyGveY46tdH7cCOF/MZHtT/2ul7WiMfs8bYV988QWZmZn86296Bt693e0BN4zRON3BKw72vlLVIxjWLMqlfGtu7GC4Q8F/4SgV26y4u24OalKe2sSW/mophpoubgqe2tXkHfEBOszbysl/TI9GBco1N0dfeb7HQ0ZX0N3hx/H8D6k4q6BKNlPyYj4ZyeELc3sAb5OViipHqL327BKO1Wej6xOodF84WRntwj8CLtZgXH8OS/0hijprpWItq9fxbp051D6vw0fD+mKubXiLIkO02iwF954fYtfVUf1ktFqHoQXdee+YKHuzum9A4Gsgb83vyHeW0CM7HV5sK6xo9kRJ05W0gL2Ty3rctJSLNTzjNLDvx6YotZTdx4Rp28BBt/JhFYs3X6Lk2CFi30c81BjzOLeyjgMbDb22qeCuegzrrLfY/9QganBuOinN+IC0xuoebw0Cp4rJrKLHfoy57LcWWjeHI6dhl/loCeAseRrPD96jZFGMC4Cvgbw1ATb1W9M9+GO0jxhl0P3/rehiBLiBU8Us96/tG9xed1C8zIfFVYQhysONp3YxB7/1bkJqulHc1Jif49YLjZSl9vcAOcz9NqL/K4jzxXQ+WBQt+BtiGQyr7KrghbeinCN+Gtb9kN89+ytKFgyiLeEVG8s3KJT3OJZD946qe8p4qyuIj73MtzLiAcnXQN7ma+S/WYQhWq17u5uaH9nRvR77mgqERvdaacd04BiWB+P9Mn4cBcupmFxOY1VG3IHzhK7pvliD0aYLPUhEfh7lbPzrv/4rs2fP5r6kr3Bp/jTuu6dn6+XK3wep/P2/s2LFCqxW6yjnbvwYk9FL1A+bKTt8hsbafEzTVYBC4KyVgmWLWf0zB95oNS5JKrQLcqlrbOLQtmxSpgIE8bxTwer0dAoOuPFHa8Ux1HTx+vQ4O4/4ABWmbdWULQ0F3ACqGQZy9xygZHbfZMGmGirOKqCzUFdfhvlhTfcrocka9EvL+OXecCfIy1VYm8ayFdtC0vq8Bo6yzO2js+uqcuE4tawgK2rwBaDCsCYf1Z6juEdwSFHD5i3RL/S6h5jT/jn+L3ouDjbZsH1vbb83B53Zwv1Vkfn046i5xLIV0QJuABUp67eQHWeHyGtXLwE6pk0baE0TlpzeAXdoe7Memo/HP8iOw1O1aInRUW1eGgt775Noy3z+MS/zQbviwPrHfFbECrgBdNnsH6mmJf3prwxIJm3lDezH3QRu9t1hmqXV0WuTNQbSFr2H/aSPYLBvupTCM4kJuAFUBoqcZ/oJuMcjNdoZwEiWwZDTAWSxNupDqZaH5il8fn2Q9wKNBl377ah/mp+6sE+tebRln/2h6yzHfbwWVmVFD7gBJhtYu1FFld1Nv6f5TDN1LYMJuAG0zHoIcH+GfxCpVHPzOdTSSmtr08QKuMeJL774ghUrVgDws1lT+gTcABtm3EvK1+7h6NGjd8XMk7GM6ZCBmgW5VJ94i/Ku1x8K3hMVrM7IoeZsIPoJm6RGv7SE/Sf2k5vcuTCIu76A5eZS7G0xLkhDTTcA3/9yhjr7zMglP9rJnKTDnJfda2GQj86G2y377OSlGnuNOxv6Wbze3tWRqPk3nwwpf2PF95tz6J74bv+90qcaSDM4cP/LyG130j2D6U2qcOnjZlK/Pav/1VR6kudF5POam5ZPDTzUX5tCVQqmzPhycesPXmAa0+6kOCWKsSrzwfJdbmbKQPkcF1SkFB5jn9HD7sLloSH1UjNZvaaUqiNOfO0xkiVpMb/6Hvn3HOf5dZnd4/YXbqfmHTcBGQ1kEIZYBkNON9758PxaR8b8/s8e9fw05p9y05aobMR4iBCjb6BxuDsNNIHO3WIUOlLGFjhvY+cOG67rEW2unyyhbIMZfZQOZUCoDev7VnbXNuCJaC5iWP8qZSsNaGPFXENNN4BQwAToNEyL0U5V9WAyoS4jnSJGHZmgbt/y4309B2PVwOtmLAnC7LGIOIPc8MO0jHi2rRC8pQAquO7DPW+gYa5UTBknQ/+FOnvaOfext2ssd9V0PTrdJBSmjNiQkndGmYfOWc2seDtvjYzhlIFmQS6Vh3O7F3Qo+C87sG2twPRiGWnR3tKEKxnqlpZ0Lwu3J96+2UPRrlz0XcfnCLbpjtOkybdj1CwnUNCL02bD/uuP8EZ0/tPrZjGpHab08+w9pDIYRrqhCHXadHZ11AVQ6/Tcfx/cYtiN58Nuc+uaF2uOkYFP8wzMoT7pYoKKZ6bJFdP/rx6dK099569Y+s9/ZMOGDQB3XdvuMQm6J1SbblWoeQx/IvartJuBXkNfqZjSec9PL6fplYwJd13SPGBAX7JlUJ1dRp+aaVpw34jnzqBCPSX8ZDZdh+FjP37op92cwq04a7Om/Dc9cIO4sjEoCt43CnjmTRW5L5Wz7+Vw5zGADoXgrQtYMxpGbGt3RpnDpClaAu236K/0Rk4CyiBJhXZuNmUbbSzfbEN7NBd9PB1TVRp0i/J5tb2UzFeaadyRFj7cUsh1tpI7QPKRMwv9IjcXfArMGJ1xTpUrNgo2HEG1agfltT9FN717u0owyAVrOoMqhaGWwVDT9Sfckf8nbXMoLKlk60NaOvsF06EQ/NTB86uuDXMjnTToDHpKtvTX/2QUTJ40hhsfBwJOSjO3EzHOF5nGil6f1eQfaCI3SvPWkRDvTJNHr7f3GdXkbg68R7V5SdDnwlaYTvqaiq6AW73AQvnhRhqrYgfcgYsNVKx5jOWFnYGzCv3jRdSdbGL/1tiB81DTDUbyPHNo1AG3g3NRBy9RcDc6erU/U/PdRWmhj00HOXhxLBu4JobWkMqkDz4aVLu70adizrw0Wv7pk/7bHipe2j42Y/jv4d9nGEh90M0nV/tL48HVGF8uZsycA/i4MdJTh151sPuNh6g8UUfuoohgDyBJhXrqFEby1nVnlDnovr0Q32jlM5Fl8LCBNN8lvINsyq+eZ2L+aQ+fDXW7w6bGlJPLR8ecjM70ZX4cVTYe+lkjdetMPQJuAJVazZShxv5DLIMhp4tCuXCUn/iyOPRGGdlzIwJuCB9jqhE8z7UYHp2E88JYneV+PvsEWKRngEaBE5smg8rwBHiN20yhgRR6fW5tHfuAu7KyclBTxt8NRifoDrixb1tNZk5x10geqmQzJfWNNNUWxRwuUPnUSU1hOpnrqyKC9HyqjzVyaEfsYf+Gmm4oVPOzKJwN4KHq+QoaLkZM/NPux11fwHNv9r1AqdNzydcB+LBveoaKU92vBOlQCF734TndQNXzOaQbF7P6iHfkMj0aZprZNO8ku0/1c3Hu8OMoSafibLT29JOYMsNHINZNqUMZkZnq1Om55H5kxxmzIkjBU2/l85IVEaOeaDEXzeHkUVeMGVYVPPW7aYizpjvU/MiL59MR7ix7M0Cb7ptoYzRzCbibuTSS2xt2mQMXa8LTgRtZvMvV/8PQEKnmZ1FI7YD5dO7IofT0MKOiYZRB4P1iFtd6Yv9v3ydcmjEHfa8Ke0/9YopPxc638mkbF9LHNmhRzc7lpRRHXGWQfqCffRCXAIFPdXwzVq16wE3zxzH+NMQyGGq6oQgGPkfR38+MqDXmCj6Xe0QnGdJmbmLOid04+qs8v+agOKMC10j3/1d8tLkhZZ5+UC8FlYtWVqcaMRrTKX1/vFcLDM6t9gDaKZP6fE6UeAPu119/nY0bN8Y9ZfzdEniPQtDtxbaugJrTXhRANd1Efu27/OqNstgT40BobNsV27GHg3T17GzK3miiqTa3/wluhppuqJJ0ZO+tIzdZBT4HVeuXs9gU7gyZupyCA54egYN9vRFjRgGOa6FJg3KTVdDuxbFjNZmdHSpNi0lflkPetioaWnwEUVD+43b4//hxFKaHO1uGhwuE0OQ4PTpiplPQ3w0t4VSkbKzE/E+lrP5ZA56rwYiHkSD+iw5qNqziuOYlck3RykVPRp6OI6/U4LoW3oMdCsGrXpzvVFGQmUnVSFzRk/Tk7sumbWse1rO+nkH0TR/OPQXsVW2hcmnPFtyquUVUJjew8ZUGPNe6S1i56qHhZ8+w+2Y+ZT+KMw/TH+WJdHC2fDSyM609nEZuey076yNG6OlQCPhc2EoyWfX3I/0gN9wyB+8/NYeP8xQKV5iijF09ApJ0ZO+q5P7DxaGH3YgTVLnpx3OqhoLMH2Kfsokt6cOMioZTBh2gHNlMQa2j574ElGsuqp4/zpyfrujbPEFRcFUVs/2IC9/1no8twSsNlL78OSWFY92kTUXKujos/u0U1Lu62rkDobbnZ22hMrgnn8NrhjuGTAppaxRqX7HijjxXr/twHSgmc42NmKUw1DIYaroh0DxiJqNxL1WnvN3XLyWI/2IDVeuWs71phO8Dk1Mo2mXGs3U1Fe948EeMkNN5/uStOc60rbnEOM2HTLnowkEKGcbBdINWuOC0hYbfJUjz8XPj/m3cYNz6gxddeOiryM+JMJiAu7PJSLwzV94tgfcojNMdxLVrHcVN07D8uIi16f3Pvtalw0fDhtXUtqfybOEgZrIbarrh6gjibTqC/WRzePaxnjNSHlxf1d2RcqqBsgN1mGeG0vlc73Hw7SgdYHRzMC1IYeH8haR0PTD4cRSuoqKfCXXC/wHDtsPULR3qGA2RM1KG/p+lrjE0/nLnhDkDLQvrOStbeL8sWob56SUDPAgp+E7/AuuB8Kxs4RnWHn3STFa6CV1nZ9vLNtLXWSMCVh1Fh49hCY9S0z3TW9jUfPY7c3sOB5eAGSm7J2QYuOOZcr6KxwpvUOasJKNHJ+Le5QAsKOPd2vB46JGzSAJ9ZusMdx47eKo5FNhM1qA3PkHWCgvmuX5qjHnYu/ZJBp/1+F/d+e6aMGeAZZ2GVuY+GtbkUHUFVNl1/KrEkJigu1OfMg+dd9/9XhaWrIyuCY+6vlPv2VJjUK+so7EwIu+DKoPu4zLwfjE7O7bw0oMe/vFkMycvhDsATtVheMSMJS8L08y+e8hTn07z//0e5v/sOfti1/VohZmUcTQzSLDNyZGjDpo/dIf2T+f3W/ODPsfKkMugc4bOXteSJ3IsWJak4N/Xea72bAc71DIYfLre53Gv76C4qTEXYO98OOl9Dbvuxr6vexbeHvvw3n+keFlF6P6TXk5jocL28IyUQMT1JGLeh36Xde7T3udPxPU5w8TI13GF5iMo+LeyQfeDmrjjdIcmmrqQeYaSR/4U8TkxV878/HyOHj1K6QNfo/SBniUw0MQ3/U2g88Wf/5M5F27wRcdfuHz5Mt/4xjcSkv/xYEwmxxFC9NLho2F9DscXHeo5q+fdJDwzpys83f3wJ04RQkwYVxvIe+o4Cw8fixj2924Xnrwot5WiuZGfE7O1WIFzvDNNDjf9RDCm43QLIcKSdJiLLNx+w05z3EO3TSxBjxsXoF25lgwJuIUQXRQ87x6l7fF8siXgjnCLW9dM6Gb0/pwY0ZqKDCZgHm76iUBquoUYNxTcVZkcn/M2lY+Po/f/oyL0mrT0dBrlfZrYCCHuagEnpU99QNrb1fJAPg501lh7PKHOwoMNmIeb/k4mQbcQYhzw07Bu+d3dvEYIIe4QnYHzxo0bhxQwDzf9nUqCbiGEEEIIIRJM2nQLIYQQQgiRYBJ0CyGEEEIIkWASdAshhBBCCJFgEnQLIYQQQgiRYBJ0CyGEEEIIkWASdAshhBBCCJFgEnQLIYQQQgiRYBJ0CzGGAqeKMRqLcVwf65yMIxdrMBqN1Fwc64wIIYQQI0eCbiGEEEIIIRJMgu5oFA/WHCPpLzoJjHVexPgVrpE1Go0YS8LHSrRldxUPtgxj9z4wGjHWekY/G9ccFIzl9secF9uTxTjH8wF43UFxZxmlWvHEWiaEEBPEPaO9wcB5O3sPOzh33kcQUOsMLFyWS36Km+JNLsz1h7Akj3auevmkGZsP8H2AO5BBhmaM89PpUzur19XgbY83gYX9rUWkJDJPd7P7ZqAHvADf1KKJtawfmqXVtC5NaC5HWQq5zlZyw78FThWT+dkg/8XcIlpbi4aXjRlm6lrNQ9v+hHCbW9dA6RjrfPTjvmnc3/l5nhZtrGVCCDFBjGLQreCpXU3eEV+PpUGfG2etG2f4d3dbAEvyeIlyx/lNS4yte1VdQbVpljb2MiFEX6opTOr8/OCs0HkTbZkQQkwQo9a8JNhUQcERH6DDvO0QTa5WWltbOdN4iLKlutHKxp3tQQuHWlpprbeEF5goOxnaj5E/jdtMY5rNu8b0WcwKf5z1gCb2MiFEFFp0j4Q+dT+gRlsmhBATwyjVdAf5qMWJAvDUJkqW6lGF/6LS6DG/WE7gwmqs1zrX92FftZqaNiXif6gxV71H2SJ1aI03V7N6j5ceazxZzdF0N1u22rubYPyokkPf9mA78B7NviCgRpf6A9auf5aMB1VE8p8qYNUON8GuJS4qlhmp6PVt1OnlvP1KRnctTLsfV6MD13kXl/w38LUFQvmarEFvfIKsVRbMs3sGYIHT21n1ipNAV1MRNSkb9lC3JoU/tVTw9MuOiL+p0K+v45frUuiZ40EIuqh4qhjHzYhlj5TRuMeMJujFsW83e9/x8KfpKZif3UL+Ej3qpGGk69QRxNt0BPtxBy0XAyio0CSbeCLHgmVJCprIdSF6E5qV+2ktTIHrbmy7tmM7G+CrujRW/ngLuQuiB7b+90tZ9XIzwcl6cvf+kvy5Q95z/ZjCjIeBKyZ0M/pb1lPgdCmZ25ojlpgoO1mNefpA64fWe/R6A7tqbKH9OVlDSqqF/EILhohdobhryCywRxzLoF5Sydsvp4WPWz+OwuVUnI/cko6iw8e6mncp17y0uE7SfPIjPrriIxguu+zC2Pt9yC7bSF9n7ZFfS30rRXPjSHvdjX2fFXuLh0A7qHVp/GBdLmvT9SObxx7bs+H40I3vZriJXHoG2YvAvsGPpSW/q0mX50A6efWd3yqN8sbKXs3VepXDgjLerTWjGkKZQ5RjK8r1K3o+QgZX5gru2kwKjnR+PzWWukaKDCogQPO25ZSeVrr+ln+gidzZkenVTAvH1d0PqNGWCSHExDBKQbfC7c4gyn+DQAdoI4OtJB2GZXpUh8GQrAFujdym3yxldY8FQXwtdra3nMNbf4iikQjG/M1Ya21921q3B/C22KloOU7ztreoXtpfzU2QW7fDHzsUgj3+11eZ1Ds47UHBU7+avANgqT9E0fw0TFGS9zkAACAASURBVJNdXDDoB2wTeevTBnauq8LVub3rHhp2rOajm8c4tjL2G4i40l1rpmJzKY4eLYoUAm3N2Hc0Y681ULTn51geHqgMFAIfVrFxcwOd/0rxNWMtdOF/tZGyVHWv9QO4nc2hAK7di+1MG/lzE9GyfQqqqQCz0Gr6W9aT5vFKWh/v/M1DjfFgv1sJre+hxmjFd6yYp68ZeHX7u5TPVIUeak7sZOPGGva8UUTK5FAalaGIptYigqdLybyUxa9KDL0e2LSYa1sx46dhXQHBknfJfTjiz5/aWb2xGf2qbHJ35vPTGWpUKATanFhfXk7xqoGO50GanUtTa1dLcBybM/H1myAk6K5hY/0k8l/cQ+PLoeNACfi4cGI3Tz+fykvzRy6LAMplK6v/zk3ajpfY94IOjQroUAj8/gINr5TS3J6FJWL9lHVNND0QqwygsxwebdrODy48QeNWU2idIZQ5RB5boeNK18/DXB+DLnMVhsIm3v12BRUuE2UvpkVc1zWk7ThD62YXVS+7ML1cgqnP+aBiymQAA7rp/S0TQoiJYZSal2hY+Hha6OOHFazaXEXDaQ++68Fwm2kVKesOcaalsxOlDsvhMxwr6QyUTJSdbOqq5QbQ/egQv6rNDt/EVGTXnqHpBRN/s6CIQy2NlIVfUTJZj3nrft5tCTe/cDVRt1IH+LD/5CjeiDbb2qV1NLUO3HyjKbKWG7qbffRar9XVxKESEyoUXDusNEdU42keL6exqTMvoe/QeUP+8vZtvtq5dFEZ77qa2L+mv1ruIJ/9xhf6TmfaYIaZ6pZWzlRF5FNtoswZytf+leFlH+9l3boqXOi7mvw07rGgn6xm1vQpw0vX7qGmM+DWmSl7o5Ez4SZFTcfKsSSr4Kabmg2lOLrecETuy4gyPPU8T29uwDfVQH7tu5xxneHY1jTUk3Vop32VvjQYMtJQA0zWk7s4UT1zNcwx6FAt0jMrqb9lI8XNOSy8vcNCyszw0ZCkRv/UT3n1u8fZ2+jvk0L9t1mYTx2n5WafP4VccXKUFWQ83Gv5gxaOOfdTvjID/Uw1qiQgSYXmYTNlL+fiq3KM/cgS1xxss2kofz0fk6772qDS6DCtq2N/qovSPa4R3WRbs41pm8vJXxQOuCG0X3Qm8neWYJo8qU8adXouub+24rga67/6ef+oh5XLTFHO8cGX+ZANscy16WWUmVxUVLsIRPaBCbioermZ+S9GC7hDZqWYUU1NYdb0/pcJIcREMGptutXpRZSnh26MwfMNVG3LI2dZOotN6eQUbsd+1kewV6dF3dK1ZE8GcGE75unRlAQCOI82hJbNLmTFghgh6VNbKHsqBW1nbVCSGkOWBQPANTfeRE5KkqRG/7dphCrbnHg+7ft3w8bq8H5R8B4ooPRnFRS/HKqlVS0q461XzT3fCvQQav5iNGZS8eEQ8tceJPg3ZsqPHKJsaahZiOaRIg61NFH5eD+vduNI5z26HbsPmJxN9RtlmB/WhG7igFqXQVF9HRYd0O6iyu7uVba93Azyp7n57H+njtwFWlRJKnRPVdLUcojc2dHLXbukMvQA1XIoQU1LQnQrj/V8uImxbGSYsOQYejbfAUDFrIfm4/FHGR9OZWDZKi8NTdGCMwX3/7Shz1kyuFEiNBp07bcHXi+hFNz2vdz//2Shi3F+aJduoXB29L8NVfJiCzfePI67q8IgwnQz1RFNS7ok6cneOI3at6If58r5o9T+TT7ZvR98gCGVeSIMUOba9DLKvuPg+c7AO+im5uVm5r9YRlqMZlYA6tQyzjjzSUnqf5kQQkwEozdOd5KWjB2NvFtbRMYCHd31UkF8553UlOSQucaKJ7JZxWQTuSWhToH+I3t71BQpF+3YPgRQkf2seXBBQxLhHvJufCMVdAd9uN6ponRVJou7xiheTGahlQv95kVLxo7DlC1SAQquEw58gGpuPr/c0V/APQJmWKh7o4yMmSOdzkPz4VCQpy/IwjQ5yiqTU1i7LvT2Q2lo4UJ/UfcjZbz1ei4pvVuRiLjol+Uy5bCzx1sdAG62cPyUmay/vQN3bIcHV8McUh7s74FKy3efGNl23aq5RRyrNeF5bSPL08Pn+KrVlO6y4/w09kEcu7Y7SMsJB+YnU7kDS6EH7ZJKyh9qoLjaRtULTlIGCLiFEOJuM7rjdCep0C6wUL7AEmq3HLjGZx9/hPO0DcfZAEqbjYI6Q4+2j5rH1mLZ78J+zUPtURfmrSZUBHDa7Pih/1ruUaJcsVGwodcDQ+gvBHz91uGGJGnJWLUC+1lbuB2rhowVZvTRgtUeOjvghdrADrq2W6dj1oDbGEK6gL+rfbshOXa7cHWKCQPNuPmcG18AsV4nPzgrsQ8fE930DCzfewxbUzaVj3eHdv6mBryrtmCIcfqExtR34vZ4uzr1qnV67r8PboXeFY2dgJ/PmEXaAK8TpkxOQGe86QZyXz3UNRY5gHLVg8P2HBWmMsrSo1QBJOkx501h+VtuzJFtu680YP3fhdSN8TWs03DLXJtqwXD4Oc498nMKJeAWQogeRqemO9oMj0kq1NN1pDyeTUnVu/z8R6EblXLKTVtkWlUKazeGa0Tf2cvRtl613HmDrOUeaTebqQgH3Krknm2XW11naDpQxIB1bdcclG6yRXQcC+B4fiM1F+MI2AFQM+vbOkCHZXEyoTHRczAac7Bejvd/jCCNtmvYPP//DsZcTfG14Q5/VklQnUAqDN/PxXvsfboamSgejh+eRv5TUY7ODj/NO3JYXusjJa+St50R/RmO/pJ9JcvGftISjZZZfMZArStutY9O8wvVzBSyXyxCW1uMrS36OprH1pLVo7ZbwXVyCM17EmEkyrzdQ82m4+j3nKH6W3aeqe3dJFAIIe5uoxN0h2d4DDY18I9RhyRQodXFvqSr03PJ1wH4sB22cTSiljtrjGuIAh86cLYDmKms79l2mSQV6r79qnq61kzF5orQKCCTTZQdDrd1xod90zNY4wq8VaSsP0Zr67HwaCxtNB8Jdaz0+mIHvYmTjCk7VC7NBw5GeQMAdPhxHmsIfU5/goUyOlhiPZzBCo7ivBL6Nfj/2jn+vSxSp/ZdVblwlJ/4sjj0RhnZc7WoI0+xJBXqqSoGOqwTLikFU/YlPP006QA/H33gHbUskaTHkO7jUluMQF+VgiVvSnfb7qsODrpyyU0f+4Ylwy7zdg816w+i21lJxgzQLq2m8gE7BfUSeAshRKfRa9MNgIeqZwuwnfUR6LwSKwG8pyoo3ROq81QtNdBnrIkkPSs2h0YqUU5bsUbUcsfqRDUsM3SEWpJfwP2xv7vDVHsQ/0UHNSWZLE5djb0N1FM7Jy2+wWedAW6HQvCqB0dtAemraoh5248c4WOyibI3qzEnGyjaU4lZR2i4u02l/Yx6MF6pMFhKQm25fXYK1lfguBLo2o/KVTfWDT8MN4fRkbti5Nuz+t8vJd1oxJi6Os4Hl4lOy5IcPbb/6UbBz/vHvOR+P9oQdhAMfI6iv58ZUc8tBZ/LHddwfomlwmDZxOd/fxxfjFlj/ad2U3t5BDcZcFKcWoMn1iy1HT4++VjLnAdjP0GGarvtOK+D13kUVmWgT8hbnklMmeEjEKuiv0Pp0RF0WGXeGXDvqsYc0aRE++RPeemv7Dz3hlcCbyGEYLTbdAPcdGMtycEa5U+q5FzqCqIHAqoFWRTObqCq8yYao5Y7eL6GjZGT4xzJw3jKQNmBOswzg7hrN/Lcke6bgH29kfeerOa9F0zdgd/0DNautOM64sO5bTnObVEyNHlaOF8rKFvkoOKsi5o16dT089Xt643YJ+spspZB3UZqzkfUQrdf4HiTF/NKPUGvq/uNQLuLiqeMVE3PoGy7HvuWyIljok/e01ff7w3AhxVkGiNTq9Cv/Dn7Cg3hfTHUdMAMM5UHFH6ysYrmNgcVaxx98zlZj+Vn1eR3jUDix1G4iorzvWrnj+RhPBK5QI1h22HqYo4T7efc8Yhxup0XyJ0bbTi2u4v6b7Mwv3KcFqOeo6ygLupoGaB5xEzGq3up+raGTZ2THSlB/J+8z9EaG5fu1QLTRjPr0c0wsyO3ho0brOS/uLJr2MDOcbp3thoo2wzbb4zQ9joUaLezeTNsysvi0YciaoQVP67a5zk+r5xDMfYrEK7thrza7ejOLiTfmaiGJXoy8nSseqUG/a5nMc1QhSoDrvk413oSR/37aF/qnmxsyGXe7sH6d/Y+AXf4y6LL/ilbGn7Cc2/k8vM1+rv+HBRC3N1GJ+h+KI385OPY/qaMt7ZqcR+zc/y0C+91BVCjW7CQtGUWVqbrowyNFZakY0lOGlWXm0loLTcAKlI2HuCQ/iC2wx/gCs8wqdbpeehhA6mmDBb+rR6tCkCL+dVG9E0HI2a9DM3i9uiTaSz71pdY11fRc7Tg29z+j97b7DkBjmoyPSbIUW6P9RBtg6d6MJvKxkfxvG/HfqxzP3buGzNZGSZ0CXmzrmVhVhrWy+EZKTPmj5ubfd/ZKMN6PTypV9bRWGhA1XvWv2VGKsKzFobCtcgZDV0Yj8SebTA0fGAFq0uaSdvRFLuN7tQ0yt+egn3fbp6uCs3yyFQdhkfMWLa9Tcm9/0jxsgryjHZIL6exa9x6D7aMPKx9xgR39XpoMlB2oq47SIsyGyUAHxqxR/7e43uH95OhiEPfcGPft5mdPWakLOLtNXqU94thTx7GI5GzJQ5RkgoeKePwi3o8Z4+ys7pz1sbQNcz8dDWHFmkHPNY0j60lbX8e59YcitGJdWTKXLu0kgOTfoF1cybFPa5LZrYcK0EX2bRoKGUeWW5PGqnoMetk79kqm1l8oW/5CSHE3eQrX3755V/GOhPxiRihY3YJx+qzExh0CyFEgihuqjKOk3KikowobeqFEEJMTKPcpnsYrji6RizJWLFEAm4hxB0p8Cs7jqXRO7EKIYSYuO6QoDuI87A1NGKJLhdL6tj39hdCiEHr8OLYf4vCH0bvuyKEEGLiGqfNS3zYV62mpi1Gn/fJeiy79lG0QIJvIcSdQ/mwiszG+by3I+2On4FSCCHE4Iz+6CVCCHG3iNpJtIH006Bev5+mdSljlDEhhBCjbZzWdAshhBBCCDFx3CFtuoUQQgghhLhzSdAthBBCCCFEgknQLYQQQgghRIJJ0C2EEEIIIUSCSdAthBBCCCFEgknQLYQQQgghRIJJ0C2EEEIIIUSCSdAthBBCCCFEgknQLYQQQgghRIJJ0C2EEEIIIUSCSdAthBBCCCFEgknQLYQQQgghRIJJ0C2EEEIIIUSCSdAthBBCCCFEgknQLYQQQgghRIJJ0C2EEEIIIUSCSdAthBBCCCFEgknQLYQQQgghRIJJ0C2EEEIIIUSCSdAthBBCCCFEgknQLYQQQgghRIJJ0C2EEEIIIUSCSdAthBBCCCFEgknQLYQQQgghRIJJ0C2EEEIIIUSCSdAthBBCCCFEgknQLYQQQgghRIJJ0C2EEEIIIUSCSdAthBBCCCFEgknQLYQQQgghRIJJ0C2EEEIIIUSCSdAthBBCCCFEgknQLYQQQgghRIJJ0C2EEEIIIUSCSdAthBBCCCFEgknQLYQQQgghRIJJ0C2EEEIIIUSCSdAthBBCCCFEgknQLYQQQgghRIJJ0C2EEEIIIUSCSdAthBBCCCFEgknQLYQQQgghRIJJ0C2EEEIIIUSCSdAthBBCCCFEgt0z1hkQQgghhBDj16pVq2htbR2Vbf3DP/wDs2fPHpVtjTYJuoUQQgghREz/9m//xh/+8Afu+XbiGkj8542/8J/X/8Kf//znhG1jrEnQLYQQQggh+vUVNfz1/nsT9v///Y3b/Hv97YT9//FA2nQLIYQQQgiRYBJ0CyGEEEIIkWASdAshhBBCCJFgEnQLIYQQQtyRFNxV6dScV3p9Hr++c28K//CdRr6edN9YZ2XUSdCdSFcdFGQYMRq7f2ouJmA7193YXy4gJ3JbGTmsXlPA9iMeggnYZOJ5sT1ZjDMQx6qXbaSHv3fxqXgSJJbirhlifkIXzNLTY/8dRHSB06U9zmejsRjH9bHO1Z3Oj6Ogc38uxno5MVuRspsAOtzURJTfQPeHwOlSFpc4mdhX1CD+q0FQqXp9Hp++c28K785uZOHXF/HudxrHOjujToLuO5xy2cbqpwuoed+N72bEH2768F5x0+K8xI0xy91w3ObWNVA64lh1di5Nra3sX5nwTMVFZSgaUn6UD2t57tQSzIs0icmYGDbN45W0traGf/ZjGesMTQgapn2z8/N8tNPjSBL04TqynYKc9HAAlk7O8zU424IQbKYiw4qn91ak7O58SdOY8XDnL7PQDnCp1PythazfVrC36c6seorPDQI+PTPu6/15/OkMuO9LmgpA/bV9Y5yj0TcKQXcQ164cjBl5VJ3yEowniALo8NGwfjGLlxVjOz+I59ShpkuEmWbqnK20nizDlJANBHEds+JtBx4p4diZ1oibSujnzGELuoRsW4yoDh+O/Q0kF2RhmjzWmRFiNKnQTNeGP89i1kBB91UHpT/aSMMfF1K0rzF8rWviWHkWUxo3U1DdjPfmxB527O41jWkPhD8+okPb77qAKoWsVck4axvwxht73HFuc+uaBtW9vT+PL70D7qLf5nPs/9jHOFejbxSC7s/xunxw00PDjtWkZxZgO+8fuAaz/TM8FxWU6y6shZksXlWB40ocT6tDTXdHUrh1K/zxwYfQjd83SmIAyoXj1F5OI/sxeUQSd59p08LHvUFHv5WX7W5qftyMqb6R6sIM9JqIi55Ki2nzfsq+fQtvIjMrxpCaaZ0PZTpt/8dKmHZpPtk3rdgmam13wM9nnbX+kZ/HEQm4u43C5Dh6cg/UMWlPDb847UW56cZauBxbspnCknyy58Y4OtRplB0tZ9qeXdjPB1HaHFSscbB3QT47fpyNSace2XQjIHC+Ads7x3m/xUcQUE3XY3o8C8vi/js1BC46sB89zgetXgLtwFQd+nkLyVqRRcZsLaqknuv7TxWwaoe7Z1vtI3kYj/RcT/1kNe+9YGJo31jBXZtJwZEgYKHygAbHC7/AdR30T/6Uyq1pfP2KnW29lml75ZWAG9uu3RwJ7xNQoZmbiiVvE5YFfcs+cLqUzG3N3QuWGanos1Ya5Y2VZMS6sATc2Gut2Fs8BNpBPTuDtRs2YTH0cyXqCOB+cy+2k+dw+4KAGl3qD7CssGCOdYwCwTYnBw8c5L0WH8EBvltsQVpONKA8XsnCqVG+Ttc+MVF2sppHrzewq8ZGy8UAymQNKakW8gstxPx6N324f/0BDqcLtyd0jKl1BpasKiJ/iR51V5n5cRQup+I88EgJdZm/w/paA56bagyF+/j5Sj2B01Vs77Wsz7PeIMt8zHQE8TYdxHb4A1xtARRC+2VhuhlLuoJ1nZ+1LfmkjMS24i6DvgLn7ew97ODceR9B1OgWLCQtI5s07Dzjt3BmfZQc9v5ukzXojY+ybGkW918ppuGB/VQvGT9loXlgFuCCv57C1/tZz3tsN5eyXqVoRux1tBlmzPUjGHaP87LzHEgnrz50nd7fWoTmbA01/+M9mn1BmKojbela8vMy0EV7g9ah4G9r4dzJZk5e+AivLwiTNeiN2RT9OBdD5FuHaw4KnqzADZi21vHEp1Z2veMhONVA0Z6fY0kO4Hxte89lD/e+Oij4TtWy8xcOPNfD98VwHnNzM9DHcbPSzjIBLrRTpwy8MoAqhdSlKgqOvY//8eyBa8cjc3vRyjObbHjb1aS9fJjKJYNJPUo6QvtRldTr8zghAXdPX/nyyy//MlobC/pcNLy2Dev57nBRvcDC1sK1ZCTHPtsCFxuwVtXiaOsMXlXoH3+WokJLz4vCCKUbtA4/za8UU3rKN+CqlvpWiuaGf2n3Yt+6kZrzsZ/AVcm5/Pz1fAwRuydq0B3F8ILusIs1GNfbYbKJkvodZD+o4NyxnIOBFPBMIiu8rPm1PKzTKzm2Rt+d9pqD4h/t5faqHWx5cj46jQo6FAK/v4DjtW188M0d7Cs2oYl6gfBQYzyI7mQ15jjLylNrZHd7NhoPZO8qxDQjdMFXrrr4xQs78a86TOXjUQKNgIuqrQ6+WfIS2Q9H7C3Fj/vvK7CST936lD7Bpf9EMaUeE1vyzKR0bcuD4/BuTn41H8s9xXzwrUaqlw4Q3Fx3ULysgimvNFGeHqu0PNQYrbByEh9cM/DqxixSZqpCN+gTO9n4tpY9bxSR0vvGGmymYulubjyVj2XZQlIe0KBKAuWqG1v5czSn1HGosOd3C5wqJnOHC3TZVNeWYLrXg21TAefuTabt+kNU1pZguteL/aVn8C5r7JnnYZX5KGr3YF3/PJ7UcspyUtCqw3ugPYDP7WD3Tivum6EgJnbQHecxOoQyCFHw1K+mwJ1G5YvZzA+nQwngO9/Azm02PE/tp7Wwdw4DOEuWc/C+Ql7KNYeOE4B2P55GGzt3OdBui+O4HMhlG+nrrPF31F5Qxru15uhBTzig86zbHz0QBUKdq2vQvF6HuZ+gOz4TrOyuOyhe5mHWSi/uDgvlq1JD557ix/V6KduuZnH4VXOfShHfkRzWNetZm2MhzaQLnQdKAO+vrGyvuoHlzepe+zqAY3MmFR+CLruafcUmVFdsbP67c6iS27iRXBla9qmdbeu9mE+Uk9ZVkaDgqV1Nwfk5FJbkYu6sUAp/t931N1i2r5LsBwd4ZeuuwVhgx/RyY9wPjsqHVSzefImSY4fIHsTLRE+tkbzOyqxHymjcY46rdj3xAjhfzGR7U/9rpe1ojH7PG4Lvf//7/PqfzvJfT/e8R3WOQPJlxxd90gw24O6ckfLMmTPMmzdvRPI93oxq0N0peMXB3leqegTDmkW5lG/NjR0Mdyj4LxylYpsVd1eHQTUpT21iy0Zz7CfkoaaLW+hCknfEB+gwbysn/zE9GhUo19wcfeX5Hg8ZXUF3hx/H8z+k4qyCKtlMyYv5ZCSHL8ztAbxNViqqHKH22rNLOFafja5PoNJ9AWRltAv4CLhYg3H9OSz1hyiaq+p/Wb2Od+vCN9UOHw3ri7m24S2KDNEuogruPT/Erquj+slot+GhBd1575go63OjAHwN5K35HfnOEnpkp8OLbYUVzZ4oabqSFrB3chnVS7vzqVys4RmngX0/NkWp6eo+JkxxBDfx3RA81BjzOLeyjgMbDb22qeCuegzrrLfY/9QgamJuOinN+IC0xuoebw0Cp4rJrKLHfoy57LcWWjcbQguGXeajJYCz5Gk8P3iPkkUxLgC+BvLWBNjUb0334I/RPmKUQff/t6I7ET3IDJwqZrl/bd8g9bqD4mU+LK4iDFEebjy1izn4rXfHVU03ipsa83PceqGRstQYZRL+Xmv7fRCK1wQru+sOipdVwQtvRTm3/DSs+yG/e/ZXlCyIvw2i98Bynuko75XH0D2n6p4y3uoK4mMv861spSh8eVA+rOKxY8m89Vrf4B8IPbBv8GF5swhDf/1arjooWGnHdOAYlgfj/DLhh7pJgwjU4Q6p6b5Yg9GmCz0QRH4e4c1EC7q/nnRf1wgky/85s0fgPZQa7rsh6B6T0UvUD5spO3yGxtp8TNNVgELgrJWCZYtZ/TMH3ptREiWp0C7Ipa6xiUPbskmZChDE804Fq9PTKTjgxh+tFcdQ08Xr0+PsPOIDVJi2VVO2NBRwA6hmGMjdc4CS2X2TBZtqqDirgM5CXX0Z5oc13a+EJmvQLy3jl3vDnSAvV2Ed0/ZoC0mb2/tiHWWZ29c1NJNy4Ti1rCAravAFoMKwJh/VnqO4R3BIUcPmLdGDZ91DzGn/HH+vh/Fgkw3b99b2W3OmM1u4vyoyn34cNZdYtiJawA2gImX9FrLj7BB57eolQMe0aQOtacKS0zvgDm1v1kPz8fgH2XF4qhYtMUaImZfGwt77JNoyn3/My3zQrjiw/jGfFbECbgBdNvtHqmlJf/orA5JJW3kD+3E3gZt9d5hmaXX0WmGNgbRF72E/6SMY7JsupfDM+Aq4AVQGipxnYgfc49G4K7ss1kZ9mNXy0DyFz68P7h4y7W90KDHO0/mpC/sEztGWffaHzquDH8d+B+YVGdEDboAZZvKXNWNt9PefsZlm6loGEXADzJiFHrjw+wH+dy+qufkcagl11B2XAfcYe1ZbwOyvzWH21+bwbsS429KkJLYxHTJQsyCX6hNvUd71+kPBe6KC1Rk51JwNtbHsI0mNfmkJ+0/sJze5c2EQd30By82l2NtiXFiGmm4Avv/lxAcwI5f8aCdlkg5zXnavhUE+Ohtut+yzk5dq7DV+bOhn8Xo7nQ1Wmn/zyZDyN1Z8vzmH7onv9t9+bqqBNIMD97+M3HYn3TOY3qQKlz5uJvXbs/pfTaUneV5EPq+5afnUwEMz+0uTgikzvlzc+oMXmMa0OyjeiGasynywfJebmTJQPscFFSmFx9hn9LC7cDmLjUaMqZmsXlNK1REnvvYYyZK0mF99j/x7jvP8uszucfsLt1PzjpvAhB3FYTyRsush6MVz2YypT+VNT3pjBm0fehI2rnashwgxNLt//0pXMN0ZeJu+vkgC7n6MQkfK2ALnbezcYcN1PaLN9ZMllG0wo4/SoQwItWF938ru2gY8Ec1FDOtfpWylAW2sc3qo6QYQCpgAnYZpMZ7gVQ8mE+r60Sli1JEJ6vYtP97XczBWDbxuxpIgzB6LiDPIDT9My4hn2wrBWwqggus+3PMGGq5KxZRxMvRfqLOnnXMfe7vGcldN16PTTUJhyogNKXlnlHnonNXMirMT1ggZThloFuRSeTi3e0GHgv+yA9vWCkwvlpEW7S1NuJKhbmlJ97Jwe+Ltmz0U7cpFP9zjcyTbdMcjKdxvogMYxT4BE7LsuvIT7kDudONp66zoUqN7+H6mdNyCBSO0nf+4xS0aKF7cMPC6M/K5AeOk7bQYSNFv8wHI+a+WrsA78m8ScPc0S1kdFAAAEFRJREFUJkH3hGrTrQo1j+FPRK+ZB7gZoGcXSxVTOu/56eU0vZIxvM6O45DmAQP6ki0cGkyvlVGnZpoW3DdCo5X0T4V6SvjJbLoOw8d+/PR3Y1C4Fas2q5cp/00P3CCubAyKgveNAp55U0XuS+Xse1mHpvNm3aEQvHUBa0YcN8E43RllDpOmaAm032J0busJKIMkFdq52ZRttLF8sw3t0Vz08QShKg26Rfm82l5K5ivNNO5IG97hNjuXptbcgdcbKRodc2bY+ez3YBiVQ2wClx3AtWYqNv8E77xCtvxsK8kz1N1NHNuDeE89z+o/DHcjYRots8gm+0wJpjEc2nYcT9Q4OAEnpZnbiRjni0xjRa/PavIPNJEbpXnrSIsMvCOXScDd16g2Lwn6XNgK00lfU9EVcKsXWCg/3EhjVeyAO3CxgYo1j7G8sDNwVqF/vIi6k03s3xo7cB5qusFInmcO9Vx3OzgXdfASBXejg54tydR8d1Fa6GPTQQ5enHjvvLSGVCZ98BGDa0E32lTMmZdGyz99EvuBCUDx0vaxGcN/D/8+w0Dqg24+udpfGg+uOGe4nTFzDuDjxkhPHXrVwe43HqLyRB25iyICBoAkFeqpU5g0gpu7M8ocdN9eiG+08pnIMnjYQJrvEt5BvotXzzMx/7SHz4a63TGjx/yshuMnPf2fryNlQpedgtv+Ez7LOsShF7JJmanuOczcZDXTJo/g1SEpBVP2+7jG6l537TO8QOqDAzQlvFNoMqgMT4DXuM0UGkih1+fW1tEJuDtFBtkScMc2OkF3wI1922oyc4q7RvJQJZspqW+kqbYo5nCByqdOagrTyVxfFRGk51N9rJFDO2IP+zfUdEOhmp9F4WwAD1XPV9BwMWLin3Y/7voCnnuz7+1dnZ5Lvg7Ah33TM1ScCo/RDaFalOs+PKcbqHo+h3TjYlYfucOme5hpZtO8k+w+1U9o0+HHUZJOxdloL6gnMWWGj0Csm1KHEt8U8QNQp+eS+5Ed57VYayh46q18XrIiYtQTLeaiOZw86ooxw6qCp343DXHWdIeaH3nxfDrCnWVvBmjTfRNtjFfRAXczl0Zye8Muc+BiTaj9q9HI4l2uhARXqvlZFFI7YD6dO3IoPT3M1qXDKIPA+8Usru09mXkE3ydcmjEHfa8Ke0/9YopPxc638mkbF9L13Inhh2bJS6y9tpdf9Be8BT3Y1i+WsutXkMAfFB6aGaMHebuPc60DD4EbPxUGyyY+r/0Fnn6ui8rFGnJW2RnJLQMovjbcpJAyyJo25aKV1alGjMZ0St8fn9UJt9oDaKdM6vN5LBT9Np/l/5z5/7d3/7FN33cex58SUq1cjYTkKlLTnuTqpliT6qa6+hZhDpQ0al2i4Fs1UlYM0QVSFhYlI5rbIVLQFQhNOetSEmXqddB0gHtHEzTNRGGhCsmBcAUDTdTTkJG6WCp17iIsZcVa9u0uvfvDTmIncUhDvoQfr8dfX//4fL9f+xtbL3/y+XzeCtxzuAuhO0rn1jrazkQxAEu+m9r2X/HJh025C+NAan3UjXsIpkO69elKmj7sp7+9eu4CNwttt1DL7FQe6qC60AKxEIFtL7PGnZ4MWfIydUeye2WC24op9tQRGk4VDaoutMBYlNC+KsonJlS611C2bgM1uwN0DcZIYmD8+ev0fuKE6svSky3TywVCqjhO1kTMMurmChWms+D8cQve3+2k6u0uIjeSGT9GksSvhmjbvplu25tUu2e7Lg48NXaOH2gjPJx+B8cNkjei9J0MUFdeTiC8CCF1mYPqn1dy/Y0a3jsfyw7RozH63q3jkOV1WiqyR6JaihpoKezixwe6iAxPXWHjRoSut1/jX0draXp1nueQ/zwvlUHf4G/nPz52Pr5bSvVYO/vfz1ihZ9wgEQvT6S9n8y8X+4fcnV5ziP5uIP137qR+o3uW9Y8XwTI7lQdbeOJYY+rHbsYH1BiNE+lpo678hwSX/4TXy+5wCMqdXINxMI7voK49lP1eAsZwmMDPunnmrY0zhycYBuFAI3uOh4mNZIfT5LUudv7Ll/jr79chbTY8+/biOFFH88lI9spTY/HUqlQVO7i85he8dafrEz/Q187GqrUeQu8Gsio2G8k4kZMBal7ZQ9//3PFBsj3upWXXcg69Ukfn+diMTqbw8Z1UvRHFu2v9os0zSTGIXAjB0x5WzTX5fZZ2V/o6U8v2kmSg+8I9+V+8W/8dxZ5e+ipze6mEvzq/pMe/192FdbqThA9upbH/MXw/bWBL2dwVvCaNx+jaXkX7WAk/qv8WlewW2u5OjSeJ9h8neGogXX0suyLlB9sCUxMpV7hoOtKB98lUu1j413zwcd9ktTMAq93BE/ZncH/PyarnVuGc/MEQJ1S/meY5Cuqk94Br9zE6KhY6bSmzImVqf76O3tT6yxMFc253X1p2Vbb0+7J6Hd5X1t7mh5BB7My/896RdHU1LNgK3Tz/fS/ry9zYJybbzpjQZafh2Al86VVqpiq2pa2o5XBfdfZycCZUpJwqrOCiKcd6vZOv9FKAF+pv0tTXgidrEvH068C0CWkZVSSBGdU6k1H6Ojv5oGcgNQksz4aj+CXWb/ThLYrTVlxDcPI98TCUta+p854smHOb+yYs7JrH6PrnDQSugaWyg0/8LnNC94QZ1zz1ufuHf1yPb71nsuDR5GuaXi01B+umDnrrM879W12Dqb/LxOlG9o+/zpt/F+FsZsXAFXZcK734atbjfnLmOxR5v4yBv/813m/O8pvePsJXIkRHjKnvo41enA/ALLVUBeBTnE1X8p18fRu8OKf9N/PBvXbTP//TXoNxmTZvHcGJ+UzTz/NSkEOHg6nqtqQrsq7zseX7bpYPTny+00VWnBcmK1ICGd9DGfUi5rwv+z0NngkTHTEgo1Jn5Vrn4hfOMi4T8NRxc1c/LS9++57ue3ud7iQDu8u4Un4O/8q/Zmwv/jdnruI4i+lhWKd7SYrjiMg04zG6tm2ge/XR7KqeD5N0Zc5wutz9gouWiIikxU/W8PLHqzg630mr95V0EaLqizQUZW4v/pEUuhfHkq7TLSJpy+x4G3x8/WGQgdmKQz0EkpHLhIGCTVvwKHCLyJ0yInQfu45nW+UDGLgBbnFr2I398enbcq9a0nW6RWSKpehHNFWU030pQemdjke97yT57WAfUErtZqe5w0pE5KGQ+K8g3d9p4ldl9+cMhtuz4zvROsu23KsUukXuGRZc/n5cS30aS+IrbsbBvr162ph2EZGFsb3YwrkXl/osHhz/l4Q/vfUX0/Y//sdvTNv3vUKhW0TuAQVUHrlI5VKfhoiI5GT0/e9Sn8J9TRMpRURERCSnsbExvvnm7vREP/roo3flOEtBPd0iIg+rWcpJz8/MpUFF5MGVl5ejSpR8K+rpFhERERExmZYMFBERERExmUK3iIiIiIjJFLpFREREREym0C0iIiIiYjKFbhERERERkyl0i4iIiIiYTKFbRERERMRkCt0iIiIiIiZT6BYRERERMZnKwMvsboSo29rM5dGJO9z439+C5VyQ7jNhoiMGYMVe8k/4NvrwFtmm7cAgfj5E6NMrhP8Q52YsSmIMwIKt0M1LG3z41jqxLctx/JEIoROZxwLybDjsT/HIeIShv23i4wMeph81cTVE8KNufnNx4nhgyXdgtz8CkSEKdn1My4vTW4mIiIiYS2XgZXYzQvfc7BUttO4qpWAyRMcIbq6i7bqRs41ldRP/+Y43o01KvL+Zxl0hYnMesZLWc37clvTN8TgDBxrZ2TN3K37Qyrk33FjmfpaIiIjIolLolrldbaN4W3DypqWomn97qxrX4xYYTxI9fYg9+1IB2b7pMEfrnbcNtMlrXezeHiA8Bp4D/ewts049aFwm4KmjawycmzrYW+2kwJrao3EjQqhzP4GeGNNDt3EpwAv1XRg48bXvZUtRAVYLMG4Q/32IzgMBQjEUukVERGRJaEy3zJ/dR8eh2lTgBlhmxVHRROvuVIiNHd/PR9dvvxvrd5+n9NnUdt8fhrIf/FOcL9PDQm6NDpEY/SvJdGe55Uknlf438dnBWubEkZGckyNfknraLW59keCrsSTGOLDMQkFRJf5dPuxYKX3WocAtIiIid53GdMu8lW7dgjNv5v0Fa2upPhzmveEYoXCU6kJH6oHxJLHwabp7TnE2a4y1HeutHAfJX0XpSgh/CrGeADU9gdT9eTYcTheuklV42i/SkJ/dzPa9UtyECRMjdLCG0MGJYzlwPueixO3h5+GG3GPIRUREREyknm6ZJzfuZ62zP7TMgbMktRm/9XVqYyxK5/ZyNvgDdA1OBW4AYySWdTubDe/+wzSstmX3SI8liF7qI3hwD1Xryth5MkbWaPF8L/uONODOz+7HNkaiXD4dJLC7ivLynXR9nnuMuYiIiIhZ1NMt83SF2DCQP9tjCeJZ8xeTDBx4jfeuGpDnwOtvovYFB7aJ8dejEbp31NB2LcehrE58gV58RpLE8BBDXwwRvRZn+PNwusc8ycDBn+FwnqC6MKPZ0z5aT/kwkgmGPx8i/kWUz+LDxM6fJXw9gTE6QGCXg2c+qsahHm8RERG5i9TTLfNkEOwMER+f5ZGrQYKfAlioLC6ExAVCZ1I9yt59v6CpYipwA1iWP5LzKMnBZsqK19B4OgEWKza7E9dqL75ttfjfOUrv6Q58jwPE+Ox6YqIVA/vKKC5ppG8ELFYb9iIX7goftdv8tBzr5ZMOHwUAsc+IJnIeXkRERMQUSxK6jaud1HiKKS4uo+4/osz3H/7x03soLymmuKSK5sH5J6eFtpNpPm1m8+4gkeH0FRtPEjvTxms/CRIDLKv9bHzOAtblPJFucvNGjGQ6qBvJOJGeNurKq3L2cg9FQiQxCL/TSPPJCPFkxl/HWILY+UEuDANYeMw6keSHiPQkYSxM80+b6boaJ7OZMRJjcPACcYC8x1j+N4v0foiIiIjM0xIsGWgQPriGxpMTt30cvtiA87bt4nRtfZnA79M3VzbR+653RnGUxWsnwIwlA3Oxlvk5srsSe3qiZbynkR/uC8/zB5UFx46jHH3VTqS9mJrj83j+qy201rvTEyMjtBXXcNuzzHPge7uVhpW6+iIiInJ3LUFPt4XnPLU4VwBYcdV7KLxdEwAKWLXegy2P1Djhda55BueFtpNsbvzvH6ZpUykO+8SESiv2kkr87b30H5gK3AAFFa30HtuLr8TOxLMt+Q5Kf+Bn74eH8a+c/ShPOb3kmK6JJd+Ba20DrSd6ObrDnbESyVM4K3K2wlbowlPfyomeowrcIiIisiRUHEfmNtnT7abpVCveWSdSioiIiMhcNJFSRERERMRkCt0iIiIiIibT8BKZ3Y0QdVubuTw6y2MrXDQd6cD75F0/KxEREZH7knq6RURERERMpp5uERERERGTqadbRERERMRkCt0iIiIiIiZT6BYRERERMZlCt4iIiIiIyRS6RURERERMptAtIiIiImIyhW4REREREZMpdIuIiIiImEyhW0RERETEZArdIiIiIiImU+gWERERETGZQreIiIiIiMkUukVERERETKbQLSIiIiJisv8Hf7CQEos/LMYAAAAASUVORK5CYII=)"
      ],
      "metadata": {
        "id": "uF4iuTwGBPsY"
      }
    },
    {
      "cell_type": "markdown",
      "source": [
        "# **Double Leading and Trailing Underscore:** __var __\n",
        "Names that have leading and trailing double underscores (“dunders”) are reserved for special use like the__init__ method for object constructors, or __ call __ method to make object callable. These methods are known as dunder methods.\n",
        "\n",
        "As far as one’s concerned, this is just a convention, a way for the Python system to use names that won’t conflict with user-defined names. Therefore, dunders are just a convention and are left untouched by the Python interpreter."
      ],
      "metadata": {
        "id": "DAwp69MrHhVS"
      }
    },
    {
      "cell_type": "code",
      "source": [
        "class Employee:\n",
        "    def __init__(self):\n",
        "        self.__name__ = 'Pramod'"
      ],
      "metadata": {
        "id": "8WOoIdqUBWNb"
      },
      "execution_count": null,
      "outputs": []
    },
    {
      "cell_type": "code",
      "source": [
        "Employee().__name__"
      ],
      "metadata": {
        "colab": {
          "base_uri": "https://localhost:8080/",
          "height": 35
        },
        "id": "4Y_lceJxJuPk",
        "outputId": "e24cb6bb-891d-4de6-8946-d140259992d3"
      },
      "execution_count": null,
      "outputs": [
        {
          "output_type": "execute_result",
          "data": {
            "text/plain": [
              "'Pramod'"
            ],
            "application/vnd.google.colaboratory.intrinsic+json": {
              "type": "string"
            }
          },
          "metadata": {},
          "execution_count": 2
        }
      ]
    },
    {
      "cell_type": "markdown",
      "source": [
        "# **Single Underscore: _**\n",
        "Per convention, a single standalone underscore is sometimes used as a name to indicate that a variable is temporary or insignificant.\n",
        "There’s no special behaviour triggered in the Python interpreter. The single underscore is simply a valid variable name that’s sometimes used for this purpose.\n",
        "\n",
        "For example, in the following loop we don’t need access to the running index and we can use “_” to indicate that it is just a temporary value:"
      ],
      "metadata": {
        "id": "ItTR8vd1J5jx"
      }
    },
    {
      "cell_type": "code",
      "source": [
        "for _ in range(10):\n",
        "  print('Welcome to DataScienceChampion')"
      ],
      "metadata": {
        "colab": {
          "base_uri": "https://localhost:8080/"
        },
        "id": "y1Ao4rFTKAJs",
        "outputId": "f33212ac-789e-44ed-bb1b-dda67313319c"
      },
      "execution_count": null,
      "outputs": [
        {
          "output_type": "stream",
          "name": "stdout",
          "text": [
            "Welcome to DataScienceChampion\n",
            "Welcome to DataScienceChampion\n",
            "Welcome to DataScienceChampion\n",
            "Welcome to DataScienceChampion\n",
            "Welcome to DataScienceChampion\n",
            "Welcome to DataScienceChampion\n",
            "Welcome to DataScienceChampion\n",
            "Welcome to DataScienceChampion\n",
            "Welcome to DataScienceChampion\n",
            "Welcome to DataScienceChampion\n"
          ]
        }
      ]
    },
    {
      "cell_type": "markdown",
      "source": [
        "# **with** statement\n",
        "**with** statement in Python is used in exception handling to make the code cleaner and much more readable. It simplifies the management of common resources like file streams. Observe the following code example on how the use of with statement makes code cleaner."
      ],
      "metadata": {
        "id": "hJ0uALrI9Y0T"
      }
    },
    {
      "cell_type": "code",
      "source": [
        "# file handling\n",
        "\n",
        "# 1) without using with statement\n",
        "file = open('file_path', 'w')\n",
        "file.write('hello world !')\n",
        "file.close()\n"
      ],
      "metadata": {
        "id": "LziooHNv9ZWY"
      },
      "execution_count": null,
      "outputs": []
    },
    {
      "cell_type": "code",
      "source": [
        "# 2) without using with statement\n",
        "file = open('file_path', 'w')\n",
        "try:\n",
        "\tfile.write('hello world')\n",
        "finally:\n",
        "\tfile.close()"
      ],
      "metadata": {
        "id": "VPMJ6mUv-SL6"
      },
      "execution_count": null,
      "outputs": []
    },
    {
      "cell_type": "code",
      "source": [
        "# using with statement\n",
        "with open('file_path', 'w') as file:\n",
        "\tfile.write('hello world !')\n"
      ],
      "metadata": {
        "id": "WlDI1osk-T6d"
      },
      "execution_count": null,
      "outputs": []
    },
    {
      "cell_type": "markdown",
      "source": [
        "# So to conclude on **with** statement.\n",
        "\n",
        "In Python, the with statement replaces a try-catch block with a concise shorthand. More importantly, it ensures closing resources right after processing them. A common example of using the with statement is reading or writing to a file. A function or class that supports the with statement is known as a context manager."
      ],
      "metadata": {
        "id": "GPqGyckf-hVP"
      }
    },
    {
      "cell_type": "markdown",
      "source": [
        "# **Lambda functions**\n",
        "\n",
        "Normally we define a function using the def keyword somewhere in the code and call it whenever we need to use it.\n",
        "\n",
        "    def sum(a,b):\n",
        "        return a + b\n",
        "\n",
        "    a = 1\n",
        "    b = 2\n",
        "    c = sum(a,b)\n",
        "    print(c)\n",
        "\n",
        "Now instead of defining the function somewhere and calling it, we can use python's lambda functions, which are inline functions defined at the same place we use it. So we don't need to declare a function somewhere and revisit the code just for a single time use.\n",
        "\n",
        "They don't need to have a name, so they also called anonymous functions. We define a lambda function using the keyword lambda.\n",
        "\n",
        "\n",
        "**your_function_name = lambda inputs : output**"
      ],
      "metadata": {
        "id": "NwkXKtiRbjnT"
      }
    },
    {
      "cell_type": "code",
      "source": [
        "# Here we are assigning the lambda function to the variable sum, and upon giving the arguments i.e. a and b, it works like a normal function.\n",
        "a = 1\n",
        "b = 2\n",
        "sum = lambda x,y : x + y\n",
        "c = sum(a,b)\n",
        "print(c)"
      ],
      "metadata": {
        "id": "mI0fDd_I-nVk",
        "colab": {
          "base_uri": "https://localhost:8080/"
        },
        "outputId": "9241c01f-521a-455f-eb81-c954b34ea206"
      },
      "execution_count": null,
      "outputs": [
        {
          "output_type": "stream",
          "name": "stdout",
          "text": [
            "3\n"
          ]
        }
      ]
    },
    {
      "cell_type": "markdown",
      "source": [
        "![image.png](data:image/png;base64,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)"
      ],
      "metadata": {
        "id": "3EeXGVe5iVAB"
      }
    }
  ]
}